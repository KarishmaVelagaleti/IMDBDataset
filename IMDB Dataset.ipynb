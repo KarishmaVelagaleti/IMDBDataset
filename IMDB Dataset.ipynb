{
 "cells": [
  {
   "cell_type": "code",
   "execution_count": 1,
   "metadata": {},
   "outputs": [],
   "source": [
    "import pandas as pd \n",
    "import numpy as np \n",
    "import os \n",
    "import matplotlib.pyplot as plt \n",
    "%matplotlib inline "
   ]
  },
  {
   "cell_type": "markdown",
   "metadata": {},
   "source": [
    "## Loading all data"
   ]
  },
  {
   "cell_type": "code",
   "execution_count": 2,
   "metadata": {},
   "outputs": [],
   "source": [
    "os.chdir('/Users/karishmavelagaleti/Documents/DataScience.nosync/IMDB/')"
   ]
  },
  {
   "cell_type": "code",
   "execution_count": 3,
   "metadata": {},
   "outputs": [],
   "source": [
    "path = !pwd"
   ]
  },
  {
   "cell_type": "code",
   "execution_count": 4,
   "metadata": {},
   "outputs": [
    {
     "data": {
      "text/plain": [
       "['data-5.tsv',\n",
       " 'data-4.tsv',\n",
       " 'data.tsv',\n",
       " 'data-6.tsv',\n",
       " 'data-7.tsv',\n",
       " 'data-3.tsv',\n",
       " 'data-2.tsv']"
      ]
     },
     "execution_count": 4,
     "metadata": {},
     "output_type": "execute_result"
    }
   ],
   "source": [
    "from glob import glob\n",
    "import os\n",
    "\n",
    "list_of_files = glob('*.tsv') # list all .tsv files in the folder\n",
    "list_of_files"
   ]
  },
  {
   "cell_type": "code",
   "execution_count": 71,
   "metadata": {},
   "outputs": [
    {
     "name": "stderr",
     "output_type": "stream",
     "text": [
      "/var/folders/kh/898hvqss4wl2cmb9ynmd_1qh0000gn/T/ipykernel_11145/2766988511.py:4: DtypeWarning: Columns (4,5) have mixed types. Specify dtype option on import or set low_memory=False.\n",
      "  basic = pd.read_csv('data-4.tsv', sep='\\t')\n",
      "/var/folders/kh/898hvqss4wl2cmb9ynmd_1qh0000gn/T/ipykernel_11145/2766988511.py:6: DtypeWarning: Columns (7) have mixed types. Specify dtype option on import or set low_memory=False.\n",
      "  aka = pd.read_csv('data-6.tsv', sep='\\t')\n"
     ]
    }
   ],
   "source": [
    "ratings = pd.read_csv('data.tsv', sep='\\t', engine='python')\n",
    "episodes = pd.read_csv('data-2.tsv', sep='\\t', engine = 'python')\n",
    "crew = pd.read_csv('data-3.tsv', sep='\\t', engine='python')\n",
    "basic = pd.read_csv('data-4.tsv', sep='\\t')\n",
    "name = pd.read_csv('data-5.tsv', sep='\\t')\n",
    "aka = pd.read_csv('data-6.tsv', sep='\\t')\n",
    "principals = pd.read_csv('data-7.tsv', sep='\\t')"
   ]
  },
  {
   "cell_type": "code",
   "execution_count": 72,
   "metadata": {},
   "outputs": [],
   "source": [
    "# Loading all files in a dictionary \n",
    "\n",
    "files = {\n",
    "            'name':name,\n",
    "            'aka':aka, \n",
    "            'basics':basic,\n",
    "            'crew':crew, \n",
    "            'episodes':episodes, \n",
    "            'principals':principals, \n",
    "            'ratings':ratings\n",
    "        }"
   ]
  },
  {
   "cell_type": "code",
   "execution_count": 7,
   "metadata": {},
   "outputs": [
    {
     "name": "stdout",
     "output_type": "stream",
     "text": [
      "name file length =  11,832,859\n",
      "aka file length =  32,765,327\n",
      "basics file length =  9,130,101\n",
      "crew file length =  9,130,101\n",
      "episodes file length =  6,872,335\n",
      "principals file length =  51,502,123\n",
      "ratings file length =  1,259,218\n"
     ]
    }
   ],
   "source": [
    "# Listing all file lengths in one command \n",
    "\n",
    "for i in files:\n",
    "    print(i, \"file length = \", '{:,}'.format(len(files[i])))"
   ]
  },
  {
   "cell_type": "code",
   "execution_count": null,
   "metadata": {},
   "outputs": [],
   "source": [
    "# Listing all file lengths in one command \n",
    "\n",
    "for i in files:\n",
    "    print(i, \"file length = \", '{:,}'.format(len(files[i])))"
   ]
  },
  {
   "cell_type": "code",
   "execution_count": 8,
   "metadata": {},
   "outputs": [
    {
     "name": "stdout",
     "output_type": "stream",
     "text": [
      "Checking for columns which have null values in each file: \n",
      "\n",
      "name --> {'nconst': 0, 'primaryName': 0, 'birthYear': 0, 'deathYear': 0, 'primaryProfession': 2533525, 'knownForTitles': 0}\n",
      "aka --> {'titleId': 0, 'ordering': 0, 'title': 5, 'region': 103, 'language': 0, 'types': 0, 'attributes': 0, 'isOriginalTitle': 0}\n",
      "basics --> {'tconst': 0, 'titleType': 0, 'primaryTitle': 11, 'originalTitle': 11, 'isAdult': 0, 'startYear': 0, 'endYear': 0, 'runtimeMinutes': 0, 'genres': 10}\n",
      "crew --> {'tconst': 0, 'directors': 0, 'writers': 0}\n",
      "episodes --> {'tconst': 0, 'parentTconst': 0, 'seasonNumber': 0, 'episodeNumber': 0}\n",
      "principals --> {'tconst': 0, 'ordering': 0, 'nconst': 0, 'category': 0, 'job': 0, 'characters': 0}\n",
      "ratings --> {'tconst': 0, 'averageRating': 0, 'numVotes': 0}\n"
     ]
    }
   ],
   "source": [
    "# Checking for NULL values\n",
    "\n",
    "print('Checking for columns which have null values in each file: \\n')\n",
    "\n",
    "for i in files: \n",
    "    v = files[i].isna().sum().values \n",
    "    k = files[i].isna().sum().keys()\n",
    "    res = {k[j]:v[j] for j in range(len(k))}\n",
    "    print(i, '-->', res)"
   ]
  },
  {
   "cell_type": "markdown",
   "metadata": {},
   "source": [
    "## Data Exploration "
   ]
  },
  {
   "cell_type": "code",
   "execution_count": 8,
   "metadata": {},
   "outputs": [],
   "source": [
    "import matplotlib.pyplot as plt \n",
    "import seaborn as sns \n",
    "%matplotlib inline"
   ]
  },
  {
   "cell_type": "code",
   "execution_count": 10,
   "metadata": {},
   "outputs": [
    {
     "data": {
      "text/html": [
       "<div>\n",
       "<style scoped>\n",
       "    .dataframe tbody tr th:only-of-type {\n",
       "        vertical-align: middle;\n",
       "    }\n",
       "\n",
       "    .dataframe tbody tr th {\n",
       "        vertical-align: top;\n",
       "    }\n",
       "\n",
       "    .dataframe thead th {\n",
       "        text-align: right;\n",
       "    }\n",
       "</style>\n",
       "<table border=\"1\" class=\"dataframe\">\n",
       "  <thead>\n",
       "    <tr style=\"text-align: right;\">\n",
       "      <th></th>\n",
       "      <th>tconst</th>\n",
       "      <th>averageRating</th>\n",
       "      <th>numVotes</th>\n",
       "    </tr>\n",
       "  </thead>\n",
       "  <tbody>\n",
       "    <tr>\n",
       "      <th>0</th>\n",
       "      <td>tt0000001</td>\n",
       "      <td>5.7</td>\n",
       "      <td>1901</td>\n",
       "    </tr>\n",
       "    <tr>\n",
       "      <th>1</th>\n",
       "      <td>tt0000002</td>\n",
       "      <td>5.9</td>\n",
       "      <td>254</td>\n",
       "    </tr>\n",
       "    <tr>\n",
       "      <th>2</th>\n",
       "      <td>tt0000003</td>\n",
       "      <td>6.5</td>\n",
       "      <td>1694</td>\n",
       "    </tr>\n",
       "    <tr>\n",
       "      <th>3</th>\n",
       "      <td>tt0000004</td>\n",
       "      <td>5.7</td>\n",
       "      <td>166</td>\n",
       "    </tr>\n",
       "    <tr>\n",
       "      <th>4</th>\n",
       "      <td>tt0000005</td>\n",
       "      <td>6.2</td>\n",
       "      <td>2510</td>\n",
       "    </tr>\n",
       "  </tbody>\n",
       "</table>\n",
       "</div>"
      ],
      "text/plain": [
       "      tconst  averageRating  numVotes\n",
       "0  tt0000001            5.7      1901\n",
       "1  tt0000002            5.9       254\n",
       "2  tt0000003            6.5      1694\n",
       "3  tt0000004            5.7       166\n",
       "4  tt0000005            6.2      2510"
      ]
     },
     "execution_count": 10,
     "metadata": {},
     "output_type": "execute_result"
    }
   ],
   "source": [
    "ratings.head()"
   ]
  },
  {
   "cell_type": "code",
   "execution_count": 11,
   "metadata": {},
   "outputs": [
    {
     "name": "stdout",
     "output_type": "stream",
     "text": [
      "<class 'pandas.core.frame.DataFrame'>\n",
      "RangeIndex: 1253462 entries, 0 to 1253461\n",
      "Data columns (total 3 columns):\n",
      " #   Column         Non-Null Count    Dtype  \n",
      "---  ------         --------------    -----  \n",
      " 0   tconst         1253462 non-null  object \n",
      " 1   averageRating  1253462 non-null  float64\n",
      " 2   numVotes       1253462 non-null  int64  \n",
      "dtypes: float64(1), int64(1), object(1)\n",
      "memory usage: 28.7+ MB\n"
     ]
    }
   ],
   "source": [
    "ratings.info()"
   ]
  },
  {
   "cell_type": "code",
   "execution_count": 55,
   "metadata": {},
   "outputs": [
    {
     "data": {
      "image/png": "[encoded data removed]",
      "text/plain": [
       "<Figure size 800x600 with 1 Axes>"
      ]
     },
     "metadata": {
      "needs_background": "light"
     },
     "output_type": "display_data"
    }
   ],
   "source": [
    "fig, ax = plt.subplots(figsize=(8, 6), dpi=100)\n",
    "plt.title('Avgerage Rating vs. # of Votes')\n",
    "plt.xlabel(\"Ratings ----> \")\n",
    "plt.ylabel(\"# of Votes ----> \")\n",
    "plt.scatter(ratings['averageRating'], ratings['numVotes'], marker='p', color='green')\n",
    "plt.ticklabel_format(style='plain')\n",
    "plt.show()"
   ]
  },
  {
   "cell_type": "code",
   "execution_count": 94,
   "metadata": {},
   "outputs": [
    {
     "data": {
      "image/png": "[encoded data removed]",
      "text/plain": [
       "<Figure size 600x400 with 1 Axes>"
      ]
     },
     "metadata": {
      "needs_background": "light"
     },
     "output_type": "display_data"
    }
   ],
   "source": [
    "fig, ax = plt.subplots(figsize=(6, 4), dpi=100)\n",
    "plt.title('Histogram for Avg Ratings')\n",
    "sns.histplot(x='averageRating', data=ratings)\n",
    "plt.show()"
   ]
  },
  {
   "cell_type": "code",
   "execution_count": 92,
   "metadata": {},
   "outputs": [
    {
     "data": {
      "text/plain": [
       "0.7707517260196161"
      ]
     },
     "execution_count": 92,
     "metadata": {},
     "output_type": "execute_result"
    }
   ],
   "source": [
    "len(ratings[ratings[\"averageRating\"]>6])/len(ratings)"
   ]
  },
  {
   "cell_type": "code",
   "execution_count": 149,
   "metadata": {},
   "outputs": [
    {
     "data": {
      "text/plain": [
       "6.919418458636966"
      ]
     },
     "execution_count": 149,
     "metadata": {},
     "output_type": "execute_result"
    }
   ],
   "source": [
    "sum(ratings[\"averageRating\"])/len(ratings)"
   ]
  },
  {
   "cell_type": "code",
   "execution_count": 52,
   "metadata": {},
   "outputs": [
    {
     "name": "stdout",
     "output_type": "stream",
     "text": [
      "<class 'pandas.core.frame.DataFrame'>\n",
      "RangeIndex: 1253462 entries, 0 to 1253461\n",
      "Data columns (total 3 columns):\n",
      " #   Column         Non-Null Count    Dtype  \n",
      "---  ------         --------------    -----  \n",
      " 0   tconst         1253462 non-null  object \n",
      " 1   averageRating  1253462 non-null  float64\n",
      " 2   numVotes       1253462 non-null  int64  \n",
      "dtypes: float64(1), int64(1), object(1)\n",
      "memory usage: 28.7+ MB\n"
     ]
    }
   ],
   "source": [
    "ratings.info()"
   ]
  },
  {
   "cell_type": "code",
   "execution_count": 54,
   "metadata": {},
   "outputs": [
    {
     "data": {
      "text/plain": [
       "7.2     45701\n",
       "7.4     44503\n",
       "7.6     44155\n",
       "7.8     43906\n",
       "7.0     42752\n",
       "7.5     40406\n",
       "8.0     39934\n",
       "6.8     39458\n",
       "7.3     39234\n",
       "7.7     38649\n",
       "7.1     36014\n",
       "7.9     34437\n",
       "8.2     33573\n",
       "6.6     33125\n",
       "6.9     32732\n",
       "6.7     31127\n",
       "6.4     30417\n",
       "8.1     30403\n",
       "6.2     28760\n",
       "6.5     28364\n",
       "6.3     25599\n",
       "8.3     24484\n",
       "8.4     24284\n",
       "6.1     22095\n",
       "8.5     19700\n",
       "8.6     19093\n",
       "8.7     14966\n",
       "8.8     14704\n",
       "9.0     11370\n",
       "8.9     10135\n",
       "9.2      8356\n",
       "9.1      6976\n",
       "9.4      5032\n",
       "9.3      4890\n",
       "10.0     4199\n",
       "9.6      3563\n",
       "9.5      3002\n",
       "9.8      2632\n",
       "9.7      2407\n",
       "9.9       971\n",
       "Name: averageRating, dtype: int64"
      ]
     },
     "execution_count": 54,
     "metadata": {},
     "output_type": "execute_result"
    }
   ],
   "source": [
    "ratings[ratings[\"averageRating\"]>6][\"averageRating\"].value_counts()"
   ]
  },
  {
   "cell_type": "code",
   "execution_count": 14,
   "metadata": {},
   "outputs": [
    {
     "data": {
      "text/html": [
       "<div>\n",
       "<style scoped>\n",
       "    .dataframe tbody tr th:only-of-type {\n",
       "        vertical-align: middle;\n",
       "    }\n",
       "\n",
       "    .dataframe tbody tr th {\n",
       "        vertical-align: top;\n",
       "    }\n",
       "\n",
       "    .dataframe thead th {\n",
       "        text-align: right;\n",
       "    }\n",
       "</style>\n",
       "<table border=\"1\" class=\"dataframe\">\n",
       "  <thead>\n",
       "    <tr style=\"text-align: right;\">\n",
       "      <th></th>\n",
       "      <th>nconst</th>\n",
       "      <th>primaryName</th>\n",
       "      <th>birthYear</th>\n",
       "      <th>deathYear</th>\n",
       "      <th>primaryProfession</th>\n",
       "      <th>knownForTitles</th>\n",
       "    </tr>\n",
       "  </thead>\n",
       "  <tbody>\n",
       "    <tr>\n",
       "      <th>0</th>\n",
       "      <td>nm0000001</td>\n",
       "      <td>Fred Astaire</td>\n",
       "      <td>1899</td>\n",
       "      <td>1987</td>\n",
       "      <td>soundtrack,actor,miscellaneous</td>\n",
       "      <td>tt0031983,tt0053137,tt0072308,tt0050419</td>\n",
       "    </tr>\n",
       "    <tr>\n",
       "      <th>1</th>\n",
       "      <td>nm0000002</td>\n",
       "      <td>Lauren Bacall</td>\n",
       "      <td>1924</td>\n",
       "      <td>2014</td>\n",
       "      <td>actress,soundtrack</td>\n",
       "      <td>tt0038355,tt0071877,tt0037382,tt0117057</td>\n",
       "    </tr>\n",
       "    <tr>\n",
       "      <th>2</th>\n",
       "      <td>nm0000003</td>\n",
       "      <td>Brigitte Bardot</td>\n",
       "      <td>1934</td>\n",
       "      <td>\\N</td>\n",
       "      <td>actress,soundtrack,music_department</td>\n",
       "      <td>tt0054452,tt0056404,tt0049189,tt0057345</td>\n",
       "    </tr>\n",
       "    <tr>\n",
       "      <th>3</th>\n",
       "      <td>nm0000004</td>\n",
       "      <td>John Belushi</td>\n",
       "      <td>1949</td>\n",
       "      <td>1982</td>\n",
       "      <td>actor,soundtrack,writer</td>\n",
       "      <td>tt0078723,tt0080455,tt0077975,tt0072562</td>\n",
       "    </tr>\n",
       "    <tr>\n",
       "      <th>4</th>\n",
       "      <td>nm0000005</td>\n",
       "      <td>Ingmar Bergman</td>\n",
       "      <td>1918</td>\n",
       "      <td>2007</td>\n",
       "      <td>writer,director,actor</td>\n",
       "      <td>tt0050986,tt0083922,tt0060827,tt0050976</td>\n",
       "    </tr>\n",
       "  </tbody>\n",
       "</table>\n",
       "</div>"
      ],
      "text/plain": [
       "      nconst      primaryName birthYear deathYear  \\\n",
       "0  nm0000001     Fred Astaire      1899      1987   \n",
       "1  nm0000002    Lauren Bacall      1924      2014   \n",
       "2  nm0000003  Brigitte Bardot      1934        \\N   \n",
       "3  nm0000004     John Belushi      1949      1982   \n",
       "4  nm0000005   Ingmar Bergman      1918      2007   \n",
       "\n",
       "                     primaryProfession  \\\n",
       "0       soundtrack,actor,miscellaneous   \n",
       "1                   actress,soundtrack   \n",
       "2  actress,soundtrack,music_department   \n",
       "3              actor,soundtrack,writer   \n",
       "4                writer,director,actor   \n",
       "\n",
       "                            knownForTitles  \n",
       "0  tt0031983,tt0053137,tt0072308,tt0050419  \n",
       "1  tt0038355,tt0071877,tt0037382,tt0117057  \n",
       "2  tt0054452,tt0056404,tt0049189,tt0057345  \n",
       "3  tt0078723,tt0080455,tt0077975,tt0072562  \n",
       "4  tt0050986,tt0083922,tt0060827,tt0050976  "
      ]
     },
     "execution_count": 14,
     "metadata": {},
     "output_type": "execute_result"
    }
   ],
   "source": [
    "name.head()"
   ]
  },
  {
   "cell_type": "code",
   "execution_count": 22,
   "metadata": {},
   "outputs": [
    {
     "data": {
      "text/plain": [
       "9196080"
      ]
     },
     "execution_count": 22,
     "metadata": {},
     "output_type": "execute_result"
    }
   ],
   "source": [
    "len(name[\"primaryName\"].unique())"
   ]
  },
  {
   "cell_type": "code",
   "execution_count": 37,
   "metadata": {},
   "outputs": [
    {
     "name": "stdout",
     "output_type": "stream",
     "text": [
      "<class 'pandas.core.frame.DataFrame'>\n",
      "RangeIndex: 11804374 entries, 0 to 11804373\n",
      "Data columns (total 6 columns):\n",
      " #   Column             Dtype \n",
      "---  ------             ----- \n",
      " 0   nconst             object\n",
      " 1   primaryName        object\n",
      " 2   birthYear          object\n",
      " 3   deathYear          object\n",
      " 4   primaryProfession  object\n",
      " 5   knownForTitles     object\n",
      "dtypes: object(6)\n",
      "memory usage: 540.4+ MB\n"
     ]
    }
   ],
   "source": [
    "name.info()"
   ]
  },
  {
   "cell_type": "code",
   "execution_count": 38,
   "metadata": {},
   "outputs": [
    {
     "data": {
      "text/plain": [
       "nconst                     0\n",
       "primaryName                0\n",
       "birthYear                  0\n",
       "deathYear                  0\n",
       "primaryProfession    2533525\n",
       "knownForTitles             0\n",
       "dtype: int64"
      ]
     },
     "execution_count": 38,
     "metadata": {},
     "output_type": "execute_result"
    }
   ],
   "source": [
    "name.isna().sum()"
   ]
  },
  {
   "cell_type": "code",
   "execution_count": 44,
   "metadata": {},
   "outputs": [
    {
     "data": {
      "text/plain": [
       "\\N      11247777\n",
       "1980        9250\n",
       "1979        8999\n",
       "1981        8974\n",
       "1978        8947\n",
       "          ...   \n",
       "1449           1\n",
       "1597           1\n",
       "1489           1\n",
       "1736           1\n",
       "1631           1\n",
       "Name: birthYear, Length: 515, dtype: int64"
      ]
     },
     "execution_count": 44,
     "metadata": {},
     "output_type": "execute_result"
    }
   ],
   "source": [
    "name[\"birthYear\"].value_counts()"
   ]
  },
  {
   "cell_type": "code",
   "execution_count": 49,
   "metadata": {},
   "outputs": [],
   "source": [
    "name['deathYear'].replace('\\\\N', '0',inplace =True)\n",
    "name['birthYear'].replace('\\\\N', '0',inplace =True)"
   ]
  },
  {
   "cell_type": "code",
   "execution_count": 51,
   "metadata": {},
   "outputs": [],
   "source": [
    "name[\"Age\"] = name[\"deathYear\"].astype('int') - name[\"birthYear\"].astype('int')"
   ]
  },
  {
   "cell_type": "code",
   "execution_count": 60,
   "metadata": {},
   "outputs": [
    {
     "data": {
      "image/png": "[encoded data removed]",
      "text/plain": [
       "<Figure size 600x400 with 1 Axes>"
      ]
     },
     "metadata": {
      "needs_background": "light"
     },
     "output_type": "display_data"
    }
   ],
   "source": [
    "fig, ax = plt.subplots(figsize=(6, 4), dpi=100)\n",
    "plt.title('Histogram for Ages')\n",
    "sns.histplot(x='Age', data=name[((name[\"Age\"]>10) & (name[\"Age\"]<100))])\n",
    "plt.show()"
   ]
  },
  {
   "cell_type": "markdown",
   "metadata": {},
   "source": [
    "#### We don't have enough clean data for Age"
   ]
  },
  {
   "cell_type": "code",
   "execution_count": 61,
   "metadata": {},
   "outputs": [
    {
     "data": {
      "text/plain": [
       "0.9838633543803339"
      ]
     },
     "execution_count": 61,
     "metadata": {},
     "output_type": "execute_result"
    }
   ],
   "source": [
    "len(name[~((name[\"Age\"]>10) & (name[\"Age\"]<100))])/len(name)"
   ]
  },
  {
   "cell_type": "code",
   "execution_count": 62,
   "metadata": {},
   "outputs": [
    {
     "data": {
      "text/plain": [
       "0.016136645619666067"
      ]
     },
     "execution_count": 62,
     "metadata": {},
     "output_type": "execute_result"
    }
   ],
   "source": [
    "len(name[((name[\"Age\"]>10) & (name[\"Age\"]<100))])/len(name)"
   ]
  },
  {
   "cell_type": "code",
   "execution_count": 20,
   "metadata": {},
   "outputs": [
    {
     "data": {
      "text/html": [
       "<div>\n",
       "<style scoped>\n",
       "    .dataframe tbody tr th:only-of-type {\n",
       "        vertical-align: middle;\n",
       "    }\n",
       "\n",
       "    .dataframe tbody tr th {\n",
       "        vertical-align: top;\n",
       "    }\n",
       "\n",
       "    .dataframe thead th {\n",
       "        text-align: right;\n",
       "    }\n",
       "</style>\n",
       "<table border=\"1\" class=\"dataframe\">\n",
       "  <thead>\n",
       "    <tr style=\"text-align: right;\">\n",
       "      <th></th>\n",
       "      <th>tconst</th>\n",
       "      <th>titleType</th>\n",
       "      <th>primaryTitle</th>\n",
       "      <th>originalTitle</th>\n",
       "      <th>isAdult</th>\n",
       "      <th>startYear</th>\n",
       "      <th>endYear</th>\n",
       "      <th>runtimeMinutes</th>\n",
       "      <th>genres</th>\n",
       "    </tr>\n",
       "  </thead>\n",
       "  <tbody>\n",
       "    <tr>\n",
       "      <th>0</th>\n",
       "      <td>tt0000001</td>\n",
       "      <td>short</td>\n",
       "      <td>Carmencita</td>\n",
       "      <td>Carmencita</td>\n",
       "      <td>0</td>\n",
       "      <td>1894</td>\n",
       "      <td>\\N</td>\n",
       "      <td>1</td>\n",
       "      <td>Documentary,Short</td>\n",
       "    </tr>\n",
       "    <tr>\n",
       "      <th>1</th>\n",
       "      <td>tt0000002</td>\n",
       "      <td>short</td>\n",
       "      <td>Le clown et ses chiens</td>\n",
       "      <td>Le clown et ses chiens</td>\n",
       "      <td>0</td>\n",
       "      <td>1892</td>\n",
       "      <td>\\N</td>\n",
       "      <td>5</td>\n",
       "      <td>Animation,Short</td>\n",
       "    </tr>\n",
       "    <tr>\n",
       "      <th>2</th>\n",
       "      <td>tt0000003</td>\n",
       "      <td>short</td>\n",
       "      <td>Pauvre Pierrot</td>\n",
       "      <td>Pauvre Pierrot</td>\n",
       "      <td>0</td>\n",
       "      <td>1892</td>\n",
       "      <td>\\N</td>\n",
       "      <td>4</td>\n",
       "      <td>Animation,Comedy,Romance</td>\n",
       "    </tr>\n",
       "    <tr>\n",
       "      <th>3</th>\n",
       "      <td>tt0000004</td>\n",
       "      <td>short</td>\n",
       "      <td>Un bon bock</td>\n",
       "      <td>Un bon bock</td>\n",
       "      <td>0</td>\n",
       "      <td>1892</td>\n",
       "      <td>\\N</td>\n",
       "      <td>12</td>\n",
       "      <td>Animation,Short</td>\n",
       "    </tr>\n",
       "    <tr>\n",
       "      <th>4</th>\n",
       "      <td>tt0000005</td>\n",
       "      <td>short</td>\n",
       "      <td>Blacksmith Scene</td>\n",
       "      <td>Blacksmith Scene</td>\n",
       "      <td>0</td>\n",
       "      <td>1893</td>\n",
       "      <td>\\N</td>\n",
       "      <td>1</td>\n",
       "      <td>Comedy,Short</td>\n",
       "    </tr>\n",
       "  </tbody>\n",
       "</table>\n",
       "</div>"
      ],
      "text/plain": [
       "      tconst titleType            primaryTitle           originalTitle  \\\n",
       "0  tt0000001     short              Carmencita              Carmencita   \n",
       "1  tt0000002     short  Le clown et ses chiens  Le clown et ses chiens   \n",
       "2  tt0000003     short          Pauvre Pierrot          Pauvre Pierrot   \n",
       "3  tt0000004     short             Un bon bock             Un bon bock   \n",
       "4  tt0000005     short        Blacksmith Scene        Blacksmith Scene   \n",
       "\n",
       "  isAdult startYear endYear runtimeMinutes                    genres  \n",
       "0       0      1894      \\N              1         Documentary,Short  \n",
       "1       0      1892      \\N              5           Animation,Short  \n",
       "2       0      1892      \\N              4  Animation,Comedy,Romance  \n",
       "3       0      1892      \\N             12           Animation,Short  \n",
       "4       0      1893      \\N              1              Comedy,Short  "
      ]
     },
     "execution_count": 20,
     "metadata": {},
     "output_type": "execute_result"
    }
   ],
   "source": [
    "basic.head()"
   ]
  },
  {
   "cell_type": "code",
   "execution_count": 23,
   "metadata": {},
   "outputs": [
    {
     "data": {
      "text/plain": [
       "array(['short', 'movie', 'tvEpisode', 'tvSeries', 'tvShort', 'tvMovie',\n",
       "       'tvMiniSeries', 'tvSpecial', 'video', 'videoGame', 'tvPilot'],\n",
       "      dtype=object)"
      ]
     },
     "execution_count": 23,
     "metadata": {},
     "output_type": "execute_result"
    }
   ],
   "source": [
    "basic[\"titleType\"].unique()"
   ]
  },
  {
   "cell_type": "code",
   "execution_count": 150,
   "metadata": {},
   "outputs": [
    {
     "data": {
      "text/plain": [
       "0       8753194\n",
       "1        280645\n",
       "0         63399\n",
       "1          2136\n",
       "2019          3\n",
       "2020          2\n",
       "1981          1\n",
       "2017          1\n",
       "\\N            1\n",
       "2014          1\n",
       "2005          1\n",
       "Name: isAdult, dtype: int64"
      ]
     },
     "execution_count": 150,
     "metadata": {},
     "output_type": "execute_result"
    }
   ],
   "source": [
    "basic[\"isAdult\"].value_counts()"
   ]
  },
  {
   "cell_type": "code",
   "execution_count": 152,
   "metadata": {},
   "outputs": [
    {
     "data": {
      "text/plain": [
       "'Documentary'"
      ]
     },
     "execution_count": 152,
     "metadata": {},
     "output_type": "execute_result"
    }
   ],
   "source": [
    "basic[\"genres\"].str.split(',')[0][0]"
   ]
  },
  {
   "cell_type": "markdown",
   "metadata": {},
   "source": [
    "### 75% of titles are TV episodes"
   ]
  },
  {
   "cell_type": "code",
   "execution_count": 35,
   "metadata": {},
   "outputs": [
    {
     "data": {
      "text/plain": [
       "tvEpisode       75.259831\n",
       "short            9.682403\n",
       "movie            6.776887\n",
       "video            2.894383\n",
       "tvSeries         2.513731\n",
       "tvMovie          1.504629\n",
       "tvMiniSeries     0.488440\n",
       "tvSpecial        0.414687\n",
       "videoGame        0.348265\n",
       "tvShort          0.116722\n",
       "tvPilot          0.000022\n",
       "Name: titleType, dtype: float64"
      ]
     },
     "execution_count": 35,
     "metadata": {},
     "output_type": "execute_result"
    }
   ],
   "source": [
    "(basic[\"titleType\"].value_counts()/len(basic))*100"
   ]
  },
  {
   "cell_type": "code",
   "execution_count": 109,
   "metadata": {},
   "outputs": [
    {
     "data": {
      "image/png": "[encoded data removed]",
      "text/plain": [
       "<Figure size 800x600 with 1 Axes>"
      ]
     },
     "metadata": {
      "needs_background": "light"
     },
     "output_type": "display_data"
    }
   ],
   "source": [
    "fig, ax = plt.subplots(figsize=(8, 6), dpi=100)\n",
    "p = sns.histplot(x='titleType', data=basic)\n",
    "plt.xticks(rotation=45)\n",
    "plt.show()"
   ]
  },
  {
   "cell_type": "code",
   "execution_count": 36,
   "metadata": {},
   "outputs": [
    {
     "data": {
      "text/plain": [
       "\\N      13.253194\n",
       "2021     4.605466\n",
       "2018     4.590355\n",
       "2017     4.570716\n",
       "2019     4.452862\n",
       "          ...    \n",
       "2000     0.000011\n",
       "1988     0.000011\n",
       "2014     0.000011\n",
       "1980     0.000011\n",
       "1885     0.000011\n",
       "Name: startYear, Length: 254, dtype: float64"
      ]
     },
     "execution_count": 36,
     "metadata": {},
     "output_type": "execute_result"
    }
   ],
   "source": [
    "(basic[\"startYear\"].value_counts()/len(basic))*100"
   ]
  },
  {
   "cell_type": "code",
   "execution_count": 63,
   "metadata": {},
   "outputs": [
    {
     "data": {
      "image/png": "[encoded data removed]",
      "text/plain": [
       "<Figure size 600x400 with 1 Axes>"
      ]
     },
     "metadata": {
      "needs_background": "light"
     },
     "output_type": "display_data"
    }
   ],
   "source": [
    "fig, ax = plt.subplots(figsize=(6, 4), dpi=100)\n",
    "plt.title('Histogram for IMDB title - start year')\n",
    "sns.histplot(x='startYear', data=basic[basic[\"startYear\"]!='\\\\N'])\n",
    "plt.show()"
   ]
  },
  {
   "cell_type": "code",
   "execution_count": 65,
   "metadata": {},
   "outputs": [
    {
     "name": "stdout",
     "output_type": "stream",
     "text": [
      "<class 'pandas.core.frame.DataFrame'>\n",
      "RangeIndex: 9099384 entries, 0 to 9099383\n",
      "Data columns (total 9 columns):\n",
      " #   Column          Dtype \n",
      "---  ------          ----- \n",
      " 0   tconst          object\n",
      " 1   titleType       object\n",
      " 2   primaryTitle    object\n",
      " 3   originalTitle   object\n",
      " 4   isAdult         object\n",
      " 5   startYear       object\n",
      " 6   endYear         object\n",
      " 7   runtimeMinutes  object\n",
      " 8   genres          object\n",
      "dtypes: object(9)\n",
      "memory usage: 624.8+ MB\n"
     ]
    }
   ],
   "source": [
    "basic.info()"
   ]
  },
  {
   "cell_type": "code",
   "execution_count": 68,
   "metadata": {},
   "outputs": [
    {
     "data": {
      "text/plain": [
       "array(['1', '5', '4', '12', '45', '2', '\\\\N', '0', '3', '20', '13', '6',\n",
       "       '40', '11', '9', '10', '8', '15', '21', '16', '14', '7', '24',\n",
       "       '100', '17', '70', '90', '25', '120', '36', '18', '30', '19', '44',\n",
       "       '38', '58', '22', '33', '50', '34', '28', '35', '42', '23', '51',\n",
       "       '52', '60', '92', '56', '26', '53', '31', '41', '48', '47', '68',\n",
       "       '29', '71', '43', '46', '27', '32', '76', '85', '55', '150', '300',\n",
       "       '121', '89', '37', '69', '54', '64', '96', '49', '61', '39', '101',\n",
       "       '57', '99', '110', '88', '86', '170', '72', '78', '75', '450',\n",
       "       '148', '80', '124', '220', '59', '63', '112', '1428', '84', '65',\n",
       "       '74', '105', '310', '73', '82', '81', '199', '139', '109', '67',\n",
       "       '219', '195', '440', '77', '293', '97', '62', '250', '421', '360',\n",
       "       '180', '66', '93', '163', '400', '104', '95', '140', '165', '116',\n",
       "       '83', '320', '125', '127', '138', '460', '350', '374', '480', '91',\n",
       "       '87', '130', '108', '79', '136', '94', '600', '240', '117', '410',\n",
       "       '135', '146', '418', '330', '242', '223', '489', '102', '200',\n",
       "       '98', '119', '122', '115', '207', '166', '238', '106', '111',\n",
       "       '145', '131', '243', '172', '167', '103', '206', '157', '107',\n",
       "       '248', '235', '184', '380', '133', '128', '143', '155', '137',\n",
       "       '183', '210', '417', '141', '162', '153', '132', '129', '123',\n",
       "       '144', '151', '114', '113', '359', '118', '126', '179', '260',\n",
       "       '230', '168', '160', '142', '159', '185', '156', '215', '177',\n",
       "       '213', '149', '147', '266', '152', '217', '158', '226', '164',\n",
       "       '194', '225', '216', '227', '231', '218', '246', '279', '208',\n",
       "       '228', '229', '212', '236', '306', '257', '245', '197', '255',\n",
       "       '323', '305', '328', '269', '176', '232', '258', '256', '281',\n",
       "       '303', '290', '308', '224', '294', '252', '268', '204', '298',\n",
       "       '299', '264', '211', '302', '263', '134', '265', '205', '154',\n",
       "       '237', '285', '267', '247', '186', '241', '289', '283', '270',\n",
       "       '251', '278', '196', '261', '275', '280', '244', '189', '169',\n",
       "       '284', '295', '201', '221', '192', '171', '193', '287', '161',\n",
       "       '181', '175', '174', '173', '315', '182', '239', '178', '188',\n",
       "       '497', '209', '190', '327', '317', '191', '434', '234', '288',\n",
       "       '438', '453', '378', '316', '340', '203', '253', '344', '540',\n",
       "       '476', '451', '321', '202', '348', '890', '309', '653', '431',\n",
       "       '390', '187', '370', '396', '282', '471', '669', '467', '566',\n",
       "       '286', '274', '763', '770', '311', '198', '500', '373', '382',\n",
       "       '596', '1335', '588', '750', '273', '442', '599', '333', '614',\n",
       "       '1256', '385', '780', '510', '475', '271', '291', '366', '840',\n",
       "       '742', '931', '676', '547', '673', '358', '394', '301', '233',\n",
       "       '381', '659', '752', '504', '520', '720', '883', '313', '420',\n",
       "       '778', '413', '402', '700', '272', '222', '924', '391', '561',\n",
       "       '428', '437', '416', '367', '307', '304', '570', '569', '371',\n",
       "       '415', '376', '870', '312', '572', '407', '331', '375', '436',\n",
       "       '296', '355', '353', '357', '873', '384', '1290', '345', '1620',\n",
       "       '318', '335', '624', '680', '262', '398', '567', '606', '214',\n",
       "       '501', '322', '834', '735', '1140', '522', '361', '276', '439',\n",
       "       '314', '515', '762', '620', '528', '623', '537', '336', '341',\n",
       "       '568', '571', '556', '386', '383', '650', '292', '343', '277',\n",
       "       '698', '401', '377', '672', '465', '702', '660', '622', '356',\n",
       "       '1352', '1320', '395', '583', '665', '339', '259', '351', '388',\n",
       "       '325', '1120', '254', '455', '554', '612', '616', '349', '458',\n",
       "       '426', '1500', '594', '1080', '485', '495', '347', '487', '1800',\n",
       "       '577', '1440', '2800', '491', '338', '1100', '406', '3122', '776',\n",
       "       '369', '297', '804', '445', '2382', '960', '615', '535', '392',\n",
       "       '663', '693', '580', '425', '544', '5220', '877', '389', '464',\n",
       "       '545', '640', '446', '372', '629', '678', '1300', '352', '689',\n",
       "       '793', '2925', '608', '2880', '1170', '462', '1084', '457', '550',\n",
       "       '657', '249', '530', '346', '574', '738', '1970', '354', '551',\n",
       "       '1260', '1020', '1200', '646', '459', '579', '820', '704', '630',\n",
       "       '408', '552', '999', '710', '715', '514', '1664', '1215', '1755',\n",
       "       '1710', '1035', '1370', '1350', '1410', '1380', '326', '585',\n",
       "       '730', '364', '516', '705', '3600', '1973', '1196', '765', '2001',\n",
       "       '1000', '2002', '502', '8400', '541', '2000', '1999', '414', '652',\n",
       "       '1997', '1040', '1442', '598', '526', '334', '1248', '441', '543',\n",
       "       '1773', '1932', '466', '538', '4800', '363', '3900', '2150', '403',\n",
       "       '900', '527', '636', '575', '379', '412', '506', '800', '519',\n",
       "       '469', '719', '429', '1441', '490', 'Reality-TV', '784', '474',\n",
       "       '422', '990', '368', '3285', '507', '3300', '319', '1400', '10062',\n",
       "       '2018', '2160', '494', 'Talk-Show', '342', '468', '387', '337',\n",
       "       '634', '2004', '1250', 'Documentary', '13319', '1325', '584',\n",
       "       '573', '324', '427', '478', '472', '329', '35791', 'Game-Show',\n",
       "       '1444', '479', '28643', '1845', '675', '362', '1445', '1174',\n",
       "       '1050', '435', '498', '576', '332', '521', '2010', '1099', '483',\n",
       "       '668', '785', '586', '499', '6000', '449', '496', '518', '539',\n",
       "       '399', '670', '477', '712', '619', 'Animation,Comedy,Family',\n",
       "       '959', '512', '950', '546', '409', '443', '432', '456', '448',\n",
       "       '559', '736', '529', '470', '365', '444', '405', '830', '1009',\n",
       "       '454', '447', '942', '7777', '452', '3087', '593', '503', '602',\n",
       "       '481', '397', '1452', '1554', '542', '850', '562', '2580', '4019',\n",
       "       '961', '641', '964', '473', '651', '2520', '885', '1268', '1134',\n",
       "       '691', '1873', '1860', '783', '509', '2021', '553', '711', '484',\n",
       "       '901', '930', '482', '7200', '3720', '493', '3000', '1560', '1680',\n",
       "       '814', '508', '430', '1568', '751', '761', '5700', '590', '845',\n",
       "       '717', '998', '853', '513', '2400', '1669', '605', '1327', '1210',\n",
       "       '525', '771', '655', '865', '695', '970', '393', '463', '642',\n",
       "       '724', '1700', '842', '9000', '613', '411', '557', '810', '14400',\n",
       "       '912', '703', '1584', '536', '532', '404', '625', '940', '795',\n",
       "       '1470', '1411', '1716', '2288', '3077', '419', '43200', '936',\n",
       "       '747', '1005', 'Game-Show,Reality-TV', '1008', '1285', '2565',\n",
       "       '1151', '740', '549', '1644', '1207', '714', '3240', '2905',\n",
       "       '5460', '1068', '607', '433', '1415', '511', '685', '582', '684',\n",
       "       '662', '661', '597', '1559', '4080', '958', '492', '1044', '758',\n",
       "       '914', '1616', '2070', '923', '789', '4162', '3825', '697', '1228',\n",
       "       '2015', '773', '1439', '1329', '1532', '548', '954', '5760', '746',\n",
       "       '1184', '1179', '486', '423', '461', '51420', '531', '601', '1750',\n",
       "       '808', '1980', '2112', '716', '690', '755', '721', '424', '2088'],\n",
       "      dtype=object)"
      ]
     },
     "execution_count": 68,
     "metadata": {},
     "output_type": "execute_result"
    }
   ],
   "source": [
    "basic[\"runtimeMinutes\"].unique()"
   ]
  },
  {
   "cell_type": "code",
   "execution_count": 17,
   "metadata": {},
   "outputs": [
    {
     "data": {
      "text/html": [
       "<div>\n",
       "<style scoped>\n",
       "    .dataframe tbody tr th:only-of-type {\n",
       "        vertical-align: middle;\n",
       "    }\n",
       "\n",
       "    .dataframe tbody tr th {\n",
       "        vertical-align: top;\n",
       "    }\n",
       "\n",
       "    .dataframe thead th {\n",
       "        text-align: right;\n",
       "    }\n",
       "</style>\n",
       "<table border=\"1\" class=\"dataframe\">\n",
       "  <thead>\n",
       "    <tr style=\"text-align: right;\">\n",
       "      <th></th>\n",
       "      <th>tconst</th>\n",
       "      <th>parentTconst</th>\n",
       "      <th>seasonNumber</th>\n",
       "      <th>episodeNumber</th>\n",
       "    </tr>\n",
       "  </thead>\n",
       "  <tbody>\n",
       "    <tr>\n",
       "      <th>0</th>\n",
       "      <td>tt0020666</td>\n",
       "      <td>tt15180956</td>\n",
       "      <td>1</td>\n",
       "      <td>2</td>\n",
       "    </tr>\n",
       "    <tr>\n",
       "      <th>1</th>\n",
       "      <td>tt0020829</td>\n",
       "      <td>tt15180956</td>\n",
       "      <td>1</td>\n",
       "      <td>1</td>\n",
       "    </tr>\n",
       "    <tr>\n",
       "      <th>2</th>\n",
       "      <td>tt0021166</td>\n",
       "      <td>tt15180956</td>\n",
       "      <td>1</td>\n",
       "      <td>3</td>\n",
       "    </tr>\n",
       "    <tr>\n",
       "      <th>3</th>\n",
       "      <td>tt0021612</td>\n",
       "      <td>tt15180956</td>\n",
       "      <td>2</td>\n",
       "      <td>2</td>\n",
       "    </tr>\n",
       "    <tr>\n",
       "      <th>4</th>\n",
       "      <td>tt0021655</td>\n",
       "      <td>tt15180956</td>\n",
       "      <td>2</td>\n",
       "      <td>5</td>\n",
       "    </tr>\n",
       "  </tbody>\n",
       "</table>\n",
       "</div>"
      ],
      "text/plain": [
       "      tconst parentTconst seasonNumber episodeNumber\n",
       "0  tt0020666   tt15180956            1             2\n",
       "1  tt0020829   tt15180956            1             1\n",
       "2  tt0021166   tt15180956            1             3\n",
       "3  tt0021612   tt15180956            2             2\n",
       "4  tt0021655   tt15180956            2             5"
      ]
     },
     "execution_count": 17,
     "metadata": {},
     "output_type": "execute_result"
    }
   ],
   "source": [
    "episodes.head()"
   ]
  },
  {
   "cell_type": "code",
   "execution_count": 69,
   "metadata": {},
   "outputs": [
    {
     "data": {
      "text/plain": [
       "1       3406423\n",
       "\\N      1446828\n",
       "2        535079\n",
       "3        304103\n",
       "4        204836\n",
       "         ...   \n",
       "2005          1\n",
       "9999          1\n",
       "947           1\n",
       "1971          1\n",
       "1980          1\n",
       "Name: seasonNumber, Length: 392, dtype: int64"
      ]
     },
     "execution_count": 69,
     "metadata": {},
     "output_type": "execute_result"
    }
   ],
   "source": [
    "episodes[\"seasonNumber\"].value_counts()"
   ]
  },
  {
   "cell_type": "code",
   "execution_count": 75,
   "metadata": {},
   "outputs": [],
   "source": [
    "episodes[\"seasonNumber\"].replace('\\\\N', '0', inplace=True)"
   ]
  },
  {
   "cell_type": "code",
   "execution_count": 76,
   "metadata": {},
   "outputs": [],
   "source": [
    "episodes[\"seasonNumber\"] =episodes[\"seasonNumber\"].astype('int')"
   ]
  },
  {
   "cell_type": "code",
   "execution_count": 79,
   "metadata": {},
   "outputs": [
    {
     "data": {
      "text/plain": [
       "1       3406423\n",
       "0       1446828\n",
       "2        535079\n",
       "3        304103\n",
       "4        204836\n",
       "         ...   \n",
       "2005          1\n",
       "9999          1\n",
       "947           1\n",
       "1971          1\n",
       "1980          1\n",
       "Name: seasonNumber, Length: 392, dtype: int64"
      ]
     },
     "execution_count": 79,
     "metadata": {},
     "output_type": "execute_result"
    }
   ],
   "source": [
    "episodes[\"seasonNumber\"].value_counts()"
   ]
  },
  {
   "cell_type": "code",
   "execution_count": 104,
   "metadata": {},
   "outputs": [
    {
     "data": {
      "image/png": "[encoded data removed]",
      "text/plain": [
       "<Figure size 600x400 with 1 Axes>"
      ]
     },
     "metadata": {
      "needs_background": "light"
     },
     "output_type": "display_data"
    }
   ],
   "source": [
    "fig, ax = plt.subplots(figsize=(6, 4), dpi=100)\n",
    "plt.title('Histogram for IMDB seasons')\n",
    "sns.histplot(x='seasonNumber', data=episodes[(episodes[\"seasonNumber\"]<=12) & (episodes[\"seasonNumber\"]!=0)])\n",
    "plt.ticklabel_format(style='plain')\n",
    "plt.show()"
   ]
  },
  {
   "cell_type": "code",
   "execution_count": 90,
   "metadata": {},
   "outputs": [
    {
     "data": {
      "text/plain": [
       "tt0020666     1\n",
       "tt3287930     1\n",
       "tt3288110     1\n",
       "tt3288106     1\n",
       "tt3288104     1\n",
       "             ..\n",
       "tt14085334    1\n",
       "tt14085330    1\n",
       "tt1408532     1\n",
       "tt14085328    1\n",
       "tt9916880     1\n",
       "Name: tconst, Length: 6847882, dtype: int64"
      ]
     },
     "execution_count": 90,
     "metadata": {},
     "output_type": "execute_result"
    }
   ],
   "source": [
    "episodes[\"tconst\"].value_counts()"
   ]
  },
  {
   "cell_type": "code",
   "execution_count": 16,
   "metadata": {},
   "outputs": [
    {
     "data": {
      "text/html": [
       "<div>\n",
       "<style scoped>\n",
       "    .dataframe tbody tr th:only-of-type {\n",
       "        vertical-align: middle;\n",
       "    }\n",
       "\n",
       "    .dataframe tbody tr th {\n",
       "        vertical-align: top;\n",
       "    }\n",
       "\n",
       "    .dataframe thead th {\n",
       "        text-align: right;\n",
       "    }\n",
       "</style>\n",
       "<table border=\"1\" class=\"dataframe\">\n",
       "  <thead>\n",
       "    <tr style=\"text-align: right;\">\n",
       "      <th></th>\n",
       "      <th>tconst</th>\n",
       "      <th>ordering</th>\n",
       "      <th>nconst</th>\n",
       "      <th>category</th>\n",
       "      <th>job</th>\n",
       "      <th>characters</th>\n",
       "    </tr>\n",
       "  </thead>\n",
       "  <tbody>\n",
       "    <tr>\n",
       "      <th>0</th>\n",
       "      <td>tt0000001</td>\n",
       "      <td>1</td>\n",
       "      <td>nm1588970</td>\n",
       "      <td>self</td>\n",
       "      <td>\\N</td>\n",
       "      <td>[\"Self\"]</td>\n",
       "    </tr>\n",
       "    <tr>\n",
       "      <th>1</th>\n",
       "      <td>tt0000001</td>\n",
       "      <td>2</td>\n",
       "      <td>nm0005690</td>\n",
       "      <td>director</td>\n",
       "      <td>\\N</td>\n",
       "      <td>\\N</td>\n",
       "    </tr>\n",
       "    <tr>\n",
       "      <th>2</th>\n",
       "      <td>tt0000001</td>\n",
       "      <td>3</td>\n",
       "      <td>nm0374658</td>\n",
       "      <td>cinematographer</td>\n",
       "      <td>director of photography</td>\n",
       "      <td>\\N</td>\n",
       "    </tr>\n",
       "    <tr>\n",
       "      <th>3</th>\n",
       "      <td>tt0000002</td>\n",
       "      <td>1</td>\n",
       "      <td>nm0721526</td>\n",
       "      <td>director</td>\n",
       "      <td>\\N</td>\n",
       "      <td>\\N</td>\n",
       "    </tr>\n",
       "    <tr>\n",
       "      <th>4</th>\n",
       "      <td>tt0000002</td>\n",
       "      <td>2</td>\n",
       "      <td>nm1335271</td>\n",
       "      <td>composer</td>\n",
       "      <td>\\N</td>\n",
       "      <td>\\N</td>\n",
       "    </tr>\n",
       "  </tbody>\n",
       "</table>\n",
       "</div>"
      ],
      "text/plain": [
       "      tconst  ordering     nconst         category                      job  \\\n",
       "0  tt0000001         1  nm1588970             self                       \\N   \n",
       "1  tt0000001         2  nm0005690         director                       \\N   \n",
       "2  tt0000001         3  nm0374658  cinematographer  director of photography   \n",
       "3  tt0000002         1  nm0721526         director                       \\N   \n",
       "4  tt0000002         2  nm1335271         composer                       \\N   \n",
       "\n",
       "  characters  \n",
       "0   [\"Self\"]  \n",
       "1         \\N  \n",
       "2         \\N  \n",
       "3         \\N  \n",
       "4         \\N  "
      ]
     },
     "execution_count": 16,
     "metadata": {},
     "output_type": "execute_result"
    }
   ],
   "source": [
    "principals.head()"
   ]
  },
  {
   "cell_type": "code",
   "execution_count": 111,
   "metadata": {},
   "outputs": [
    {
     "data": {
      "text/plain": [
       "actor                  22.178649\n",
       "self                   17.393550\n",
       "actress                17.023297\n",
       "writer                 13.859866\n",
       "director               11.550862\n",
       "producer                6.444229\n",
       "cinematographer         3.477356\n",
       "composer                3.420408\n",
       "editor                  3.330244\n",
       "production_designer     0.674818\n",
       "archive_footage         0.640351\n",
       "archive_sound           0.006371\n",
       "Name: category, dtype: float64"
      ]
     },
     "execution_count": 111,
     "metadata": {},
     "output_type": "execute_result"
    }
   ],
   "source": [
    "(principals[\"category\"].value_counts()/len(principals))*100"
   ]
  },
  {
   "cell_type": "code",
   "execution_count": 107,
   "metadata": {},
   "outputs": [
    {
     "data": {
      "image/png": "[encoded data removed]",
      "text/plain": [
       "<Figure size 800x500 with 1 Axes>"
      ]
     },
     "metadata": {
      "needs_background": "light"
     },
     "output_type": "display_data"
    }
   ],
   "source": [
    "fig, ax = plt.subplots(figsize=(8, 5), dpi=100)\n",
    "plt.title('Histogram for category')\n",
    "sns.histplot(x='category', data=principals)\n",
    "plt.xticks(rotation=45)\n",
    "plt.show()"
   ]
  },
  {
   "cell_type": "code",
   "execution_count": 101,
   "metadata": {},
   "outputs": [
    {
     "data": {
      "text/plain": [
       "\\N                             26219856\n",
       "[\"Self\"]                        3811778\n",
       "[\"Self - Host\"]                 1537553\n",
       "[\"Self - Guest\"]                 278920\n",
       "[\"Self - Presenter\"]             270580\n",
       "                                 ...   \n",
       "[\"Sista Burns\"]                       1\n",
       "[\"Mme Marie, la concierge\"]           1\n",
       "[\"Pamela Bradley\"]                    1\n",
       "[\"Martin Lukas\"]                      1\n",
       "[\"Judah Harris\"]                      1\n",
       "Name: characters, Length: 2627330, dtype: int64"
      ]
     },
     "execution_count": 101,
     "metadata": {},
     "output_type": "execute_result"
    }
   ],
   "source": [
    "principals[\"characters\"].value_counts()"
   ]
  },
  {
   "cell_type": "code",
   "execution_count": 108,
   "metadata": {},
   "outputs": [
    {
     "data": {
      "text/plain": [
       "\\N                                  8.361172e-01\n",
       "producer                            6.330750e-02\n",
       "writer                              1.805828e-02\n",
       "written by                          9.458703e-03\n",
       "creator                             9.072888e-03\n",
       "                                        ...     \n",
       "novel \"Die Sonnenuhr\"               1.948268e-08\n",
       "director: planning part             1.948268e-08\n",
       "novel \"Crni dnevi in en bel dan\"    1.948268e-08\n",
       "play \"A Bed Full of Foreigners\"     1.948268e-08\n",
       "novel \"Breakdown\"                   1.948268e-08\n",
       "Name: job, Length: 37664, dtype: float64"
      ]
     },
     "execution_count": 108,
     "metadata": {},
     "output_type": "execute_result"
    }
   ],
   "source": [
    "principals[\"job\"].value_counts(20)"
   ]
  },
  {
   "cell_type": "code",
   "execution_count": 18,
   "metadata": {},
   "outputs": [
    {
     "data": {
      "text/html": [
       "<div>\n",
       "<style scoped>\n",
       "    .dataframe tbody tr th:only-of-type {\n",
       "        vertical-align: middle;\n",
       "    }\n",
       "\n",
       "    .dataframe tbody tr th {\n",
       "        vertical-align: top;\n",
       "    }\n",
       "\n",
       "    .dataframe thead th {\n",
       "        text-align: right;\n",
       "    }\n",
       "</style>\n",
       "<table border=\"1\" class=\"dataframe\">\n",
       "  <thead>\n",
       "    <tr style=\"text-align: right;\">\n",
       "      <th></th>\n",
       "      <th>tconst</th>\n",
       "      <th>directors</th>\n",
       "      <th>writers</th>\n",
       "    </tr>\n",
       "  </thead>\n",
       "  <tbody>\n",
       "    <tr>\n",
       "      <th>0</th>\n",
       "      <td>tt0000001</td>\n",
       "      <td>nm0005690</td>\n",
       "      <td>\\N</td>\n",
       "    </tr>\n",
       "    <tr>\n",
       "      <th>1</th>\n",
       "      <td>tt0000002</td>\n",
       "      <td>nm0721526</td>\n",
       "      <td>\\N</td>\n",
       "    </tr>\n",
       "    <tr>\n",
       "      <th>2</th>\n",
       "      <td>tt0000003</td>\n",
       "      <td>nm0721526</td>\n",
       "      <td>\\N</td>\n",
       "    </tr>\n",
       "    <tr>\n",
       "      <th>3</th>\n",
       "      <td>tt0000004</td>\n",
       "      <td>nm0721526</td>\n",
       "      <td>\\N</td>\n",
       "    </tr>\n",
       "    <tr>\n",
       "      <th>4</th>\n",
       "      <td>tt0000005</td>\n",
       "      <td>nm0005690</td>\n",
       "      <td>\\N</td>\n",
       "    </tr>\n",
       "  </tbody>\n",
       "</table>\n",
       "</div>"
      ],
      "text/plain": [
       "      tconst  directors writers\n",
       "0  tt0000001  nm0005690      \\N\n",
       "1  tt0000002  nm0721526      \\N\n",
       "2  tt0000003  nm0721526      \\N\n",
       "3  tt0000004  nm0721526      \\N\n",
       "4  tt0000005  nm0005690      \\N"
      ]
     },
     "execution_count": 18,
     "metadata": {},
     "output_type": "execute_result"
    }
   ],
   "source": [
    "crew.head()"
   ]
  },
  {
   "cell_type": "code",
   "execution_count": 103,
   "metadata": {},
   "outputs": [
    {
     "data": {
      "text/plain": [
       "\\N                                                             4428826\n",
       "nm6352729                                                        12435\n",
       "nm0934807                                                        11864\n",
       "nm0914844                                                        11566\n",
       "nm1271987,nm1667629,nm4390665,nm3089072,nm1956179,nm1335533       9924\n",
       "                                                                ...   \n",
       "nm1718142                                                            1\n",
       "nm11761437                                                           1\n",
       "nm11750343,nm11750342                                                1\n",
       "nm11761443                                                           1\n",
       "nm6951431                                                            1\n",
       "Name: writers, Length: 1197371, dtype: int64"
      ]
     },
     "execution_count": 103,
     "metadata": {},
     "output_type": "execute_result"
    }
   ],
   "source": [
    "crew[\"writers\"].value_counts()"
   ]
  },
  {
   "cell_type": "code",
   "execution_count": 112,
   "metadata": {},
   "outputs": [
    {
     "data": {
      "text/plain": [
       "0.5132828771705865"
      ]
     },
     "execution_count": 112,
     "metadata": {},
     "output_type": "execute_result"
    }
   ],
   "source": [
    "len(crew[crew[\"writers\"]!='\\\\N'])/len(crew)"
   ]
  },
  {
   "cell_type": "code",
   "execution_count": 19,
   "metadata": {},
   "outputs": [
    {
     "data": {
      "text/html": [
       "<div>\n",
       "<style scoped>\n",
       "    .dataframe tbody tr th:only-of-type {\n",
       "        vertical-align: middle;\n",
       "    }\n",
       "\n",
       "    .dataframe tbody tr th {\n",
       "        vertical-align: top;\n",
       "    }\n",
       "\n",
       "    .dataframe thead th {\n",
       "        text-align: right;\n",
       "    }\n",
       "</style>\n",
       "<table border=\"1\" class=\"dataframe\">\n",
       "  <thead>\n",
       "    <tr style=\"text-align: right;\">\n",
       "      <th></th>\n",
       "      <th>titleId</th>\n",
       "      <th>ordering</th>\n",
       "      <th>title</th>\n",
       "      <th>region</th>\n",
       "      <th>language</th>\n",
       "      <th>types</th>\n",
       "      <th>attributes</th>\n",
       "      <th>isOriginalTitle</th>\n",
       "    </tr>\n",
       "  </thead>\n",
       "  <tbody>\n",
       "    <tr>\n",
       "      <th>0</th>\n",
       "      <td>tt0000001</td>\n",
       "      <td>1</td>\n",
       "      <td>Карменсіта</td>\n",
       "      <td>UA</td>\n",
       "      <td>\\N</td>\n",
       "      <td>imdbDisplay</td>\n",
       "      <td>\\N</td>\n",
       "      <td>0</td>\n",
       "    </tr>\n",
       "    <tr>\n",
       "      <th>1</th>\n",
       "      <td>tt0000001</td>\n",
       "      <td>2</td>\n",
       "      <td>Carmencita</td>\n",
       "      <td>DE</td>\n",
       "      <td>\\N</td>\n",
       "      <td>\\N</td>\n",
       "      <td>literal title</td>\n",
       "      <td>0</td>\n",
       "    </tr>\n",
       "    <tr>\n",
       "      <th>2</th>\n",
       "      <td>tt0000001</td>\n",
       "      <td>3</td>\n",
       "      <td>Carmencita - spanyol tánc</td>\n",
       "      <td>HU</td>\n",
       "      <td>\\N</td>\n",
       "      <td>imdbDisplay</td>\n",
       "      <td>\\N</td>\n",
       "      <td>0</td>\n",
       "    </tr>\n",
       "    <tr>\n",
       "      <th>3</th>\n",
       "      <td>tt0000001</td>\n",
       "      <td>4</td>\n",
       "      <td>Καρμενσίτα</td>\n",
       "      <td>GR</td>\n",
       "      <td>\\N</td>\n",
       "      <td>imdbDisplay</td>\n",
       "      <td>\\N</td>\n",
       "      <td>0</td>\n",
       "    </tr>\n",
       "    <tr>\n",
       "      <th>4</th>\n",
       "      <td>tt0000001</td>\n",
       "      <td>5</td>\n",
       "      <td>Карменсита</td>\n",
       "      <td>RU</td>\n",
       "      <td>\\N</td>\n",
       "      <td>imdbDisplay</td>\n",
       "      <td>\\N</td>\n",
       "      <td>0</td>\n",
       "    </tr>\n",
       "  </tbody>\n",
       "</table>\n",
       "</div>"
      ],
      "text/plain": [
       "     titleId  ordering                      title region language  \\\n",
       "0  tt0000001         1                 Карменсіта     UA       \\N   \n",
       "1  tt0000001         2                 Carmencita     DE       \\N   \n",
       "2  tt0000001         3  Carmencita - spanyol tánc     HU       \\N   \n",
       "3  tt0000001         4                 Καρμενσίτα     GR       \\N   \n",
       "4  tt0000001         5                 Карменсита     RU       \\N   \n",
       "\n",
       "         types     attributes isOriginalTitle  \n",
       "0  imdbDisplay             \\N               0  \n",
       "1           \\N  literal title               0  \n",
       "2  imdbDisplay             \\N               0  \n",
       "3  imdbDisplay             \\N               0  \n",
       "4  imdbDisplay             \\N               0  "
      ]
     },
     "execution_count": 19,
     "metadata": {},
     "output_type": "execute_result"
    }
   ],
   "source": [
    "aka.head()"
   ]
  },
  {
   "cell_type": "code",
   "execution_count": 138,
   "metadata": {},
   "outputs": [
    {
     "data": {
      "text/plain": [
       "array(['FR', 'JP', 'DE', 'IN', 'ES', 'IT', 'PT', '\\\\N', 'US', 'GB', 'CA',\n",
       "       'XWW', 'AU', 'BR', 'MX', 'RU', 'GR', 'FI', 'PL', 'HU', 'SE', 'AR',\n",
       "       'DK', 'NO', 'XWG', 'TR', 'NL', 'PH', 'SUHH', 'BE', 'AT', 'HK',\n",
       "       'BG', 'CN', 'RO', 'TW', 'KR', 'UA', 'RS', 'ZA', 'CZ', 'SG', 'ID',\n",
       "       'IE', 'XYU', 'IL', 'AE', 'VE', 'HR', 'CH', 'IR', 'NZ', 'LT', 'VN',\n",
       "       'CL', 'CSHH', 'DDDE', 'SI', 'EG', 'CO', 'SK', 'PE', 'NG', 'UY',\n",
       "       'EE', 'XEU', 'TH', 'LV', 'PK', 'MY', 'BD', 'DO', 'IS', 'EC', 'CU',\n",
       "       'AL', 'BA', 'LB', 'PR', 'LK', 'UZ', 'TN', 'GE', 'NP', 'MA', 'LU',\n",
       "       'XAS', 'DZ', 'CY', 'AZ', 'BY', 'MK', 'AM', 'CR', 'KZ', 'PA', 'KP',\n",
       "       'JM', 'YUCS', 'BO', 'SA', 'KE', 'LI', 'GH', 'QA', 'SY', 'IQ', 'MT',\n",
       "       'XKO', 'UG', 'PY', 'MN', 'JO', 'KW', 'KH', 'GT', 'TT', 'SN', 'CM',\n",
       "       'MD', 'XKV', 'AF', 'PS', 'BF', 'ME', 'MM', 'SM', 'HT', 'CG', 'KG',\n",
       "       'XSA', 'MC', 'SV', 'BH', 'GI', 'ZW', 'HN', 'TZ', 'MZ', 'BS', 'ET',\n",
       "       'CI', 'AO', 'CSXX', 'MO', 'BJ', 'NI', 'CD', 'VI', 'GP', 'MU', 'GL',\n",
       "       'RW', 'LA', 'MV', 'FO', 'SD', 'ML', 'YE', 'TM', 'TJ', 'BT', 'TG',\n",
       "       'GU', 'LY', 'ZM', 'NE', 'BB', 'BI', 'AD', 'BUMM', 'MG', 'OM', 'GA',\n",
       "       'MQ', 'KY', 'VDVN', 'AN', 'SL', 'IM', 'FJ', 'XPI', 'GN', 'AW',\n",
       "       'BM', 'BZ', 'BW', 'PF', 'SZ', 'MW', 'TD', 'SR', 'PG', 'SO', 'LR',\n",
       "       'RE', 'BN', 'GY', 'AG', 'TL', 'CV', 'GW', 'DM', 'MR', 'GM', 'LC',\n",
       "       'LS', 'NC', 'ER', 'TO', 'VA', 'VG', 'AQ', 'MH', 'CF', 'GQ', 'XSI',\n",
       "       'VC', 'ZRCD', 'ST', 'AS', 'VU', 'SB', 'SC', 'WS', 'GF', 'AI', 'KM',\n",
       "       'GD', 'MP', 'MS', 'CK', 'EH', 'XAU', 'KI', 'FM', 'CW', 'DJ', 'XNA',\n",
       "       'SH', 'JE', 'KN', 'NR', 'NU', 'PW', 'TV', 'TC'], dtype=object)"
      ]
     },
     "execution_count": 138,
     "metadata": {},
     "output_type": "execute_result"
    }
   ],
   "source": [
    "k = pd.DataFrame(aka[\"region\"].value_counts()).reset_index()\n",
    "k[\"index\"].unique()"
   ]
  },
  {
   "cell_type": "code",
   "execution_count": 143,
   "metadata": {},
   "outputs": [
    {
     "data": {
      "image/png": "[encoded data removed]",
      "text/plain": [
       "<Figure size 1000x800 with 1 Axes>"
      ]
     },
     "metadata": {
      "needs_background": "light"
     },
     "output_type": "display_data"
    }
   ],
   "source": [
    "fig, ax = plt.subplots(figsize=(10, 8), dpi=100)\n",
    "\n",
    "plt.title('Histogram for region')\n",
    "plt.ylabel(\"Region\")\n",
    "sns.barplot(x='region',y='index', data=k[k['region']>100000])\n",
    "plt.yticks(rotation=45)\n",
    "plt.show()"
   ]
  },
  {
   "cell_type": "code",
   "execution_count": 115,
   "metadata": {},
   "outputs": [
    {
     "data": {
      "text/plain": [
       "\\N                                     32398330\n",
       "transliterated title                      26880\n",
       "alternative spelling                      17998\n",
       "new title                                 17505\n",
       "literal English title                     14651\n",
       "                                         ...   \n",
       "POLart                                        1\n",
       "8mm release title\u0002second part title           1\n",
       "first three episodes title                    1\n",
       "X-rated version\u0002bootleg title                 1\n",
       "YIVO translation\u0002reissue title                1\n",
       "Name: attributes, Length: 188, dtype: int64"
      ]
     },
     "execution_count": 115,
     "metadata": {},
     "output_type": "execute_result"
    }
   ],
   "source": [
    "aka[\"attributes\"].value_counts()"
   ]
  },
  {
   "cell_type": "code",
   "execution_count": 116,
   "metadata": {},
   "outputs": [
    {
     "data": {
      "text/plain": [
       "0     18542691\n",
       "0     12312720\n",
       "1      1312530\n",
       "1       471408\n",
       "\\N        2187\n",
       "Name: isOriginalTitle, dtype: int64"
      ]
     },
     "execution_count": 116,
     "metadata": {},
     "output_type": "execute_result"
    }
   ],
   "source": [
    "aka[\"isOriginalTitle\"].value_counts()"
   ]
  },
  {
   "cell_type": "code",
   "execution_count": 117,
   "metadata": {},
   "outputs": [
    {
     "data": {
      "text/plain": [
       "\\N                      27416947\n",
       "imdbDisplay              3210257\n",
       "original                 1783939\n",
       "alternative                99994\n",
       "working                    52043\n",
       "dvd                        21726\n",
       "video                      20313\n",
       "tv                         18248\n",
       "festival                   17584\n",
       "dvd\u0002imdbDisplay              242\n",
       "imdbDisplay\u0002tv                74\n",
       "festival\u0002imdbDisplay          66\n",
       "imdbDisplay\u0002working           31\n",
       "imdbDisplay\u0002video             26\n",
       "alternative\u0002tv                 9\n",
       "tv\u0002video                       7\n",
       "alternative\u0002dvd                6\n",
       "alternative\u0002working            6\n",
       "video\u0002working                  5\n",
       "tv\u0002working                     4\n",
       "festival\u0002working               3\n",
       "alternative\u0002video              2\n",
       "dvd\u0002video                      2\n",
       "alternative\u0002festival           2\n",
       "Name: types, dtype: int64"
      ]
     },
     "execution_count": 117,
     "metadata": {},
     "output_type": "execute_result"
    }
   ],
   "source": [
    "aka[\"types\"].value_counts()"
   ]
  },
  {
   "cell_type": "markdown",
   "metadata": {},
   "source": [
    "## Data Cleaning "
   ]
  },
  {
   "cell_type": "code",
   "execution_count": 73,
   "metadata": {},
   "outputs": [
    {
     "data": {
      "text/plain": [
       "dict_keys(['name', 'aka', 'basics', 'crew', 'episodes', 'principals', 'ratings'])"
      ]
     },
     "execution_count": 73,
     "metadata": {},
     "output_type": "execute_result"
    }
   ],
   "source": [
    "files.keys()"
   ]
  },
  {
   "cell_type": "markdown",
   "metadata": {},
   "source": [
    "basic = pd.read_csv('data-4.tsv', sep='\\t')"
   ]
  },
  {
   "cell_type": "code",
   "execution_count": 77,
   "metadata": {},
   "outputs": [],
   "source": [
    "basic['startYear'].replace('\\\\N','0', inplace=True)\n",
    "basic[\"startYear\"] = basic[\"startYear\"].astype('int')"
   ]
  },
  {
   "cell_type": "code",
   "execution_count": 78,
   "metadata": {},
   "outputs": [
    {
     "data": {
      "text/plain": [
       "0.8454041198448955"
      ]
     },
     "execution_count": 78,
     "metadata": {},
     "output_type": "execute_result"
    }
   ],
   "source": [
    "len(basic[basic[\"startYear\"]>=1950])/len(basic)"
   ]
  },
  {
   "cell_type": "code",
   "execution_count": 79,
   "metadata": {},
   "outputs": [],
   "source": [
    "basic2 = basic[basic[\"startYear\"]>=1950]"
   ]
  },
  {
   "cell_type": "code",
   "execution_count": 80,
   "metadata": {},
   "outputs": [
    {
     "data": {
      "image/png": "[encoded data removed]",
      "text/plain": [
       "<Figure size 800x600 with 1 Axes>"
      ]
     },
     "metadata": {
      "needs_background": "light"
     },
     "output_type": "display_data"
    }
   ],
   "source": [
    "fig, ax = plt.subplots(figsize=(8, 6), dpi=100)\n",
    "p = sns.histplot(x='titleType', data=basic2)\n",
    "plt.xticks(rotation=45)\n",
    "plt.show()"
   ]
  },
  {
   "cell_type": "code",
   "execution_count": 81,
   "metadata": {},
   "outputs": [
    {
     "data": {
      "text/plain": [
       "7718625"
      ]
     },
     "execution_count": 81,
     "metadata": {},
     "output_type": "execute_result"
    }
   ],
   "source": [
    "len(basic2)"
   ]
  },
  {
   "cell_type": "code",
   "execution_count": 82,
   "metadata": {},
   "outputs": [
    {
     "data": {
      "text/plain": [
       "tconst            0\n",
       "titleType         0\n",
       "primaryTitle      7\n",
       "originalTitle     7\n",
       "isAdult           0\n",
       "startYear         0\n",
       "endYear           0\n",
       "runtimeMinutes    0\n",
       "genres            0\n",
       "dtype: int64"
      ]
     },
     "execution_count": 82,
     "metadata": {},
     "output_type": "execute_result"
    }
   ],
   "source": [
    "basic2.isna().sum()"
   ]
  },
  {
   "cell_type": "code",
   "execution_count": 83,
   "metadata": {},
   "outputs": [
    {
     "data": {
      "text/html": [
       "<div>\n",
       "<style scoped>\n",
       "    .dataframe tbody tr th:only-of-type {\n",
       "        vertical-align: middle;\n",
       "    }\n",
       "\n",
       "    .dataframe tbody tr th {\n",
       "        vertical-align: top;\n",
       "    }\n",
       "\n",
       "    .dataframe thead th {\n",
       "        text-align: right;\n",
       "    }\n",
       "</style>\n",
       "<table border=\"1\" class=\"dataframe\">\n",
       "  <thead>\n",
       "    <tr style=\"text-align: right;\">\n",
       "      <th></th>\n",
       "      <th>tconst</th>\n",
       "      <th>titleType</th>\n",
       "      <th>primaryTitle</th>\n",
       "      <th>originalTitle</th>\n",
       "      <th>isAdult</th>\n",
       "      <th>startYear</th>\n",
       "      <th>endYear</th>\n",
       "      <th>runtimeMinutes</th>\n",
       "      <th>genres</th>\n",
       "    </tr>\n",
       "  </thead>\n",
       "  <tbody>\n",
       "    <tr>\n",
       "      <th>11636</th>\n",
       "      <td>tt0011801</td>\n",
       "      <td>movie</td>\n",
       "      <td>Tötet nicht mehr</td>\n",
       "      <td>Tötet nicht mehr</td>\n",
       "      <td>0</td>\n",
       "      <td>2019</td>\n",
       "      <td>\\N</td>\n",
       "      <td>\\N</td>\n",
       "      <td>Action,Crime</td>\n",
       "    </tr>\n",
       "    <tr>\n",
       "      <th>13079</th>\n",
       "      <td>tt0013274</td>\n",
       "      <td>movie</td>\n",
       "      <td>Istoriya grazhdanskoy voyny</td>\n",
       "      <td>Istoriya grazhdanskoy voyny</td>\n",
       "      <td>0</td>\n",
       "      <td>2021</td>\n",
       "      <td>\\N</td>\n",
       "      <td>133</td>\n",
       "      <td>Documentary</td>\n",
       "    </tr>\n",
       "    <tr>\n",
       "      <th>15174</th>\n",
       "      <td>tt0015414</td>\n",
       "      <td>movie</td>\n",
       "      <td>La tierra de los toros</td>\n",
       "      <td>La tierra de los toros</td>\n",
       "      <td>0</td>\n",
       "      <td>2000</td>\n",
       "      <td>\\N</td>\n",
       "      <td>60</td>\n",
       "      <td>\\N</td>\n",
       "    </tr>\n",
       "    <tr>\n",
       "      <th>15482</th>\n",
       "      <td>tt0015724</td>\n",
       "      <td>movie</td>\n",
       "      <td>Dama de noche</td>\n",
       "      <td>Dama de noche</td>\n",
       "      <td>0</td>\n",
       "      <td>1993</td>\n",
       "      <td>\\N</td>\n",
       "      <td>102</td>\n",
       "      <td>Drama,Mystery,Romance</td>\n",
       "    </tr>\n",
       "    <tr>\n",
       "      <th>21267</th>\n",
       "      <td>tt0021617</td>\n",
       "      <td>movie</td>\n",
       "      <td>Arizona Territory</td>\n",
       "      <td>Arizona Territory</td>\n",
       "      <td>0</td>\n",
       "      <td>1950</td>\n",
       "      <td>\\N</td>\n",
       "      <td>56</td>\n",
       "      <td>Western</td>\n",
       "    </tr>\n",
       "  </tbody>\n",
       "</table>\n",
       "</div>"
      ],
      "text/plain": [
       "          tconst titleType                 primaryTitle  \\\n",
       "11636  tt0011801     movie             Tötet nicht mehr   \n",
       "13079  tt0013274     movie  Istoriya grazhdanskoy voyny   \n",
       "15174  tt0015414     movie       La tierra de los toros   \n",
       "15482  tt0015724     movie                Dama de noche   \n",
       "21267  tt0021617     movie            Arizona Territory   \n",
       "\n",
       "                     originalTitle isAdult  startYear endYear runtimeMinutes  \\\n",
       "11636             Tötet nicht mehr       0       2019      \\N             \\N   \n",
       "13079  Istoriya grazhdanskoy voyny       0       2021      \\N            133   \n",
       "15174       La tierra de los toros       0       2000      \\N             60   \n",
       "15482                Dama de noche       0       1993      \\N            102   \n",
       "21267            Arizona Territory       0       1950      \\N             56   \n",
       "\n",
       "                      genres  \n",
       "11636           Action,Crime  \n",
       "13079            Documentary  \n",
       "15174                     \\N  \n",
       "15482  Drama,Mystery,Romance  \n",
       "21267                Western  "
      ]
     },
     "execution_count": 83,
     "metadata": {},
     "output_type": "execute_result"
    }
   ],
   "source": [
    "basic2.head()"
   ]
  },
  {
   "cell_type": "code",
   "execution_count": 84,
   "metadata": {},
   "outputs": [],
   "source": [
    "basic2 = basic2[~basic2[\"primaryTitle\"].isna()==True]"
   ]
  },
  {
   "cell_type": "code",
   "execution_count": 85,
   "metadata": {},
   "outputs": [
    {
     "data": {
      "text/html": [
       "<div>\n",
       "<style scoped>\n",
       "    .dataframe tbody tr th:only-of-type {\n",
       "        vertical-align: middle;\n",
       "    }\n",
       "\n",
       "    .dataframe tbody tr th {\n",
       "        vertical-align: top;\n",
       "    }\n",
       "\n",
       "    .dataframe thead th {\n",
       "        text-align: right;\n",
       "    }\n",
       "</style>\n",
       "<table border=\"1\" class=\"dataframe\">\n",
       "  <thead>\n",
       "    <tr style=\"text-align: right;\">\n",
       "      <th></th>\n",
       "      <th>tconst</th>\n",
       "      <th>titleType</th>\n",
       "      <th>primaryTitle</th>\n",
       "      <th>originalTitle</th>\n",
       "      <th>isAdult</th>\n",
       "      <th>startYear</th>\n",
       "      <th>endYear</th>\n",
       "      <th>runtimeMinutes</th>\n",
       "      <th>genres</th>\n",
       "    </tr>\n",
       "  </thead>\n",
       "  <tbody>\n",
       "    <tr>\n",
       "      <th>11636</th>\n",
       "      <td>tt0011801</td>\n",
       "      <td>movie</td>\n",
       "      <td>Tötet nicht mehr</td>\n",
       "      <td>Tötet nicht mehr</td>\n",
       "      <td>0</td>\n",
       "      <td>2019</td>\n",
       "      <td>\\N</td>\n",
       "      <td>\\N</td>\n",
       "      <td>Action,Crime</td>\n",
       "    </tr>\n",
       "    <tr>\n",
       "      <th>13079</th>\n",
       "      <td>tt0013274</td>\n",
       "      <td>movie</td>\n",
       "      <td>Istoriya grazhdanskoy voyny</td>\n",
       "      <td>Istoriya grazhdanskoy voyny</td>\n",
       "      <td>0</td>\n",
       "      <td>2021</td>\n",
       "      <td>\\N</td>\n",
       "      <td>133</td>\n",
       "      <td>Documentary</td>\n",
       "    </tr>\n",
       "    <tr>\n",
       "      <th>15174</th>\n",
       "      <td>tt0015414</td>\n",
       "      <td>movie</td>\n",
       "      <td>La tierra de los toros</td>\n",
       "      <td>La tierra de los toros</td>\n",
       "      <td>0</td>\n",
       "      <td>2000</td>\n",
       "      <td>\\N</td>\n",
       "      <td>60</td>\n",
       "      <td>\\N</td>\n",
       "    </tr>\n",
       "    <tr>\n",
       "      <th>15482</th>\n",
       "      <td>tt0015724</td>\n",
       "      <td>movie</td>\n",
       "      <td>Dama de noche</td>\n",
       "      <td>Dama de noche</td>\n",
       "      <td>0</td>\n",
       "      <td>1993</td>\n",
       "      <td>\\N</td>\n",
       "      <td>102</td>\n",
       "      <td>Drama,Mystery,Romance</td>\n",
       "    </tr>\n",
       "    <tr>\n",
       "      <th>21267</th>\n",
       "      <td>tt0021617</td>\n",
       "      <td>movie</td>\n",
       "      <td>Arizona Territory</td>\n",
       "      <td>Arizona Territory</td>\n",
       "      <td>0</td>\n",
       "      <td>1950</td>\n",
       "      <td>\\N</td>\n",
       "      <td>56</td>\n",
       "      <td>Western</td>\n",
       "    </tr>\n",
       "  </tbody>\n",
       "</table>\n",
       "</div>"
      ],
      "text/plain": [
       "          tconst titleType                 primaryTitle  \\\n",
       "11636  tt0011801     movie             Tötet nicht mehr   \n",
       "13079  tt0013274     movie  Istoriya grazhdanskoy voyny   \n",
       "15174  tt0015414     movie       La tierra de los toros   \n",
       "15482  tt0015724     movie                Dama de noche   \n",
       "21267  tt0021617     movie            Arizona Territory   \n",
       "\n",
       "                     originalTitle isAdult  startYear endYear runtimeMinutes  \\\n",
       "11636             Tötet nicht mehr       0       2019      \\N             \\N   \n",
       "13079  Istoriya grazhdanskoy voyny       0       2021      \\N            133   \n",
       "15174       La tierra de los toros       0       2000      \\N             60   \n",
       "15482                Dama de noche       0       1993      \\N            102   \n",
       "21267            Arizona Territory       0       1950      \\N             56   \n",
       "\n",
       "                      genres  \n",
       "11636           Action,Crime  \n",
       "13079            Documentary  \n",
       "15174                     \\N  \n",
       "15482  Drama,Mystery,Romance  \n",
       "21267                Western  "
      ]
     },
     "execution_count": 85,
     "metadata": {},
     "output_type": "execute_result"
    }
   ],
   "source": [
    "basic2.head()"
   ]
  },
  {
   "cell_type": "code",
   "execution_count": 86,
   "metadata": {},
   "outputs": [
    {
     "data": {
      "text/plain": [
       "\\N      7624184\n",
       "2017       5845\n",
       "2018       5797\n",
       "2019       5670\n",
       "2020       5197\n",
       "         ...   \n",
       "2025          7\n",
       "1950          4\n",
       "2026          2\n",
       "2027          2\n",
       "2028          1\n",
       "Name: endYear, Length: 80, dtype: int64"
      ]
     },
     "execution_count": 86,
     "metadata": {},
     "output_type": "execute_result"
    }
   ],
   "source": [
    "basic2[\"endYear\"].value_counts()"
   ]
  },
  {
   "cell_type": "code",
   "execution_count": 21,
   "metadata": {},
   "outputs": [
    {
     "data": {
      "text/plain": [
       "0.6954577879097009"
      ]
     },
     "execution_count": 21,
     "metadata": {},
     "output_type": "execute_result"
    }
   ],
   "source": [
    "len(basic2[basic2[\"runtimeMinutes\"]=='\\\\N'])/len(basic2)"
   ]
  },
  {
   "cell_type": "code",
   "execution_count": 88,
   "metadata": {},
   "outputs": [
    {
     "name": "stdout",
     "output_type": "stream",
     "text": [
      "<class 'pandas.core.frame.DataFrame'>\n",
      "Int64Index: 7718618 entries, 11636 to 9130100\n",
      "Data columns (total 9 columns):\n",
      " #   Column          Dtype \n",
      "---  ------          ----- \n",
      " 0   tconst          object\n",
      " 1   titleType       object\n",
      " 2   primaryTitle    object\n",
      " 3   originalTitle   object\n",
      " 4   isAdult         object\n",
      " 5   startYear       int64 \n",
      " 6   endYear         object\n",
      " 7   runtimeMinutes  object\n",
      " 8   genres          object\n",
      "dtypes: int64(1), object(8)\n",
      "memory usage: 588.9+ MB\n"
     ]
    }
   ],
   "source": [
    "basic2.info()"
   ]
  },
  {
   "cell_type": "code",
   "execution_count": 87,
   "metadata": {},
   "outputs": [
    {
     "data": {
      "text/plain": [
       "\\N       5367973\n",
       "30        128864\n",
       "60         98598\n",
       "22         90010\n",
       "44         67476\n",
       "          ...   \n",
       "1444           1\n",
       "28643          1\n",
       "1845           1\n",
       "1445           1\n",
       "2088           1\n",
       "Name: runtimeMinutes, Length: 859, dtype: int64"
      ]
     },
     "execution_count": 87,
     "metadata": {},
     "output_type": "execute_result"
    }
   ],
   "source": [
    "basic2[\"runtimeMinutes\"].value_counts()"
   ]
  },
  {
   "cell_type": "code",
   "execution_count": 89,
   "metadata": {},
   "outputs": [],
   "source": [
    "basic2[\"runtimeMinutes\"].replace('\\\\N', np.nan, inplace=True)\n",
    "basic2[\"endYear\"].replace('\\\\N', '9999', inplace=True)\n",
    "basic2[\"endYear\"] = basic2[\"endYear\"].astype('int')"
   ]
  },
  {
   "cell_type": "code",
   "execution_count": 90,
   "metadata": {},
   "outputs": [
    {
     "data": {
      "text/html": [
       "<div>\n",
       "<style scoped>\n",
       "    .dataframe tbody tr th:only-of-type {\n",
       "        vertical-align: middle;\n",
       "    }\n",
       "\n",
       "    .dataframe tbody tr th {\n",
       "        vertical-align: top;\n",
       "    }\n",
       "\n",
       "    .dataframe thead th {\n",
       "        text-align: right;\n",
       "    }\n",
       "</style>\n",
       "<table border=\"1\" class=\"dataframe\">\n",
       "  <thead>\n",
       "    <tr style=\"text-align: right;\">\n",
       "      <th></th>\n",
       "      <th>tconst</th>\n",
       "      <th>titleType</th>\n",
       "      <th>primaryTitle</th>\n",
       "      <th>originalTitle</th>\n",
       "      <th>isAdult</th>\n",
       "      <th>startYear</th>\n",
       "      <th>endYear</th>\n",
       "      <th>runtimeMinutes</th>\n",
       "      <th>genres</th>\n",
       "    </tr>\n",
       "  </thead>\n",
       "  <tbody>\n",
       "    <tr>\n",
       "      <th>11636</th>\n",
       "      <td>tt0011801</td>\n",
       "      <td>movie</td>\n",
       "      <td>Tötet nicht mehr</td>\n",
       "      <td>Tötet nicht mehr</td>\n",
       "      <td>0</td>\n",
       "      <td>2019</td>\n",
       "      <td>9999</td>\n",
       "      <td>NaN</td>\n",
       "      <td>Action,Crime</td>\n",
       "    </tr>\n",
       "    <tr>\n",
       "      <th>13079</th>\n",
       "      <td>tt0013274</td>\n",
       "      <td>movie</td>\n",
       "      <td>Istoriya grazhdanskoy voyny</td>\n",
       "      <td>Istoriya grazhdanskoy voyny</td>\n",
       "      <td>0</td>\n",
       "      <td>2021</td>\n",
       "      <td>9999</td>\n",
       "      <td>133</td>\n",
       "      <td>Documentary</td>\n",
       "    </tr>\n",
       "    <tr>\n",
       "      <th>15174</th>\n",
       "      <td>tt0015414</td>\n",
       "      <td>movie</td>\n",
       "      <td>La tierra de los toros</td>\n",
       "      <td>La tierra de los toros</td>\n",
       "      <td>0</td>\n",
       "      <td>2000</td>\n",
       "      <td>9999</td>\n",
       "      <td>60</td>\n",
       "      <td>\\N</td>\n",
       "    </tr>\n",
       "    <tr>\n",
       "      <th>15482</th>\n",
       "      <td>tt0015724</td>\n",
       "      <td>movie</td>\n",
       "      <td>Dama de noche</td>\n",
       "      <td>Dama de noche</td>\n",
       "      <td>0</td>\n",
       "      <td>1993</td>\n",
       "      <td>9999</td>\n",
       "      <td>102</td>\n",
       "      <td>Drama,Mystery,Romance</td>\n",
       "    </tr>\n",
       "    <tr>\n",
       "      <th>21267</th>\n",
       "      <td>tt0021617</td>\n",
       "      <td>movie</td>\n",
       "      <td>Arizona Territory</td>\n",
       "      <td>Arizona Territory</td>\n",
       "      <td>0</td>\n",
       "      <td>1950</td>\n",
       "      <td>9999</td>\n",
       "      <td>56</td>\n",
       "      <td>Western</td>\n",
       "    </tr>\n",
       "  </tbody>\n",
       "</table>\n",
       "</div>"
      ],
      "text/plain": [
       "          tconst titleType                 primaryTitle  \\\n",
       "11636  tt0011801     movie             Tötet nicht mehr   \n",
       "13079  tt0013274     movie  Istoriya grazhdanskoy voyny   \n",
       "15174  tt0015414     movie       La tierra de los toros   \n",
       "15482  tt0015724     movie                Dama de noche   \n",
       "21267  tt0021617     movie            Arizona Territory   \n",
       "\n",
       "                     originalTitle isAdult  startYear  endYear runtimeMinutes  \\\n",
       "11636             Tötet nicht mehr       0       2019     9999            NaN   \n",
       "13079  Istoriya grazhdanskoy voyny       0       2021     9999            133   \n",
       "15174       La tierra de los toros       0       2000     9999             60   \n",
       "15482                Dama de noche       0       1993     9999            102   \n",
       "21267            Arizona Territory       0       1950     9999             56   \n",
       "\n",
       "                      genres  \n",
       "11636           Action,Crime  \n",
       "13079            Documentary  \n",
       "15174                     \\N  \n",
       "15482  Drama,Mystery,Romance  \n",
       "21267                Western  "
      ]
     },
     "execution_count": 90,
     "metadata": {},
     "output_type": "execute_result"
    }
   ],
   "source": [
    "basic2.head()"
   ]
  },
  {
   "cell_type": "code",
   "execution_count": 91,
   "metadata": {},
   "outputs": [
    {
     "data": {
      "text/plain": [
       "0.04248208681916892"
      ]
     },
     "execution_count": 91,
     "metadata": {},
     "output_type": "execute_result"
    }
   ],
   "source": [
    "len(basic2[basic2[\"genres\"]=='\\\\N'])/len(basic2)"
   ]
  },
  {
   "cell_type": "code",
   "execution_count": 92,
   "metadata": {},
   "outputs": [
    {
     "data": {
      "text/plain": [
       "['Action,Crime',\n",
       " 'Documentary',\n",
       " '\\\\N',\n",
       " 'Drama,Mystery,Romance',\n",
       " 'Western',\n",
       " 'Drama',\n",
       " 'Drama,Musical',\n",
       " 'Comedy',\n",
       " 'Biography,Drama',\n",
       " 'Animation,Comedy,Family',\n",
       " 'Animation,Short',\n",
       " 'Short',\n",
       " 'Comedy,Fantasy,Romance',\n",
       " 'Drama,War',\n",
       " 'Drama,Family',\n",
       " 'Action,Adventure,Mystery',\n",
       " 'Adventure',\n",
       " 'Crime',\n",
       " 'Thriller',\n",
       " 'Drama,History',\n",
       " 'Documentary,War',\n",
       " 'Adventure,History',\n",
       " 'Comedy,Western',\n",
       " 'Comedy,Drama',\n",
       " 'Crime,Drama',\n",
       " 'Drama,Musical,Romance',\n",
       " 'Comedy,Fantasy',\n",
       " 'Short,Western',\n",
       " 'Comedy,Drama,Music',\n",
       " 'Family,Western',\n",
       " 'Game-Show',\n",
       " 'Family',\n",
       " 'Documentary,Short',\n",
       " 'Adventure,Drama,History',\n",
       " 'Adventure,Drama',\n",
       " 'Drama,Romance',\n",
       " 'Comedy,Romance',\n",
       " 'Animation,Music,Short',\n",
       " 'Crime,Film-Noir,Thriller',\n",
       " 'Action,Adventure,Romance',\n",
       " 'Crime,Drama,Thriller',\n",
       " 'Documentary,Sport',\n",
       " 'Drama,Romance,War',\n",
       " 'Comedy,Drama,Family',\n",
       " 'Drama,Short,Western',\n",
       " 'Biography,Drama,History',\n",
       " 'Fantasy',\n",
       " 'Comedy,Romance,Western',\n",
       " 'Action,Music,Western',\n",
       " 'Comedy,Musical',\n",
       " 'Crime,Drama,Romance',\n",
       " 'Drama,Film-Noir,Romance',\n",
       " 'Drama,Fantasy,Romance',\n",
       " 'Musical',\n",
       " 'Drama,Mystery',\n",
       " 'Comedy,Crime',\n",
       " 'Comedy,Drama,Musical',\n",
       " 'Action,Adventure,Western',\n",
       " 'Comedy,Short',\n",
       " 'Adventure,Crime,Drama',\n",
       " 'Action,Adventure,Comedy',\n",
       " 'Drama,Sport,Thriller',\n",
       " 'Crime,Drama,Film-Noir',\n",
       " 'Comedy,Music,Talk-Show',\n",
       " 'Crime,Drama,Mystery',\n",
       " 'Talk-Show',\n",
       " 'Family,Game-Show',\n",
       " 'Music',\n",
       " 'Family,Music',\n",
       " 'Comedy,Family',\n",
       " 'Family,Music,Western',\n",
       " 'Comedy,Music',\n",
       " 'Comedy,Family,Music',\n",
       " 'Action,Crime,Drama',\n",
       " 'Action,Adventure,Family',\n",
       " 'Comedy,Family,Game-Show',\n",
       " 'Adventure,Comedy',\n",
       " 'Drama,History,War',\n",
       " 'Comedy,Musical,Romance',\n",
       " 'Crime,Mystery',\n",
       " 'Adventure,Comedy,Romance',\n",
       " 'Action,Adventure,Crime',\n",
       " 'Musical,Romance',\n",
       " 'Comedy,Musical,War',\n",
       " 'Family,Sci-Fi',\n",
       " 'Comedy,Drama,Romance',\n",
       " 'Comedy,Drama,Fantasy',\n",
       " 'Crime,Film-Noir,Mystery',\n",
       " 'Comedy,Fantasy,Horror',\n",
       " 'Biography,Crime,Drama',\n",
       " 'Adventure,Drama,Romance',\n",
       " 'Comedy,Music,Romance',\n",
       " 'Action,Adventure,Drama',\n",
       " 'Adventure,Crime',\n",
       " 'Adventure,History,Romance',\n",
       " 'Comedy,Crime,Family',\n",
       " 'Drama,Sport',\n",
       " 'Drama,Film-Noir',\n",
       " 'Drama,Romance,Sport',\n",
       " 'Drama,Romance,Western',\n",
       " 'Adventure,Crime,Western',\n",
       " 'Animation,Family,Short',\n",
       " 'Crime,Drama,Western',\n",
       " 'Animation,Family,Fantasy',\n",
       " 'Crime,Thriller',\n",
       " 'Drama,Mystery,War',\n",
       " 'Adventure,Fantasy',\n",
       " 'Comedy,Documentary,Short',\n",
       " 'Action,Adventure',\n",
       " 'Romance,Western',\n",
       " 'Drama,Family,Romance',\n",
       " 'Adventure,Western',\n",
       " 'Documentary,Short,Sport',\n",
       " 'Adventure,Drama,Sci-Fi',\n",
       " 'Film-Noir,Thriller',\n",
       " 'Crime,Sci-Fi',\n",
       " 'Comedy,Horror,Short',\n",
       " 'Adventure,Comedy,History',\n",
       " 'Crime,Musical',\n",
       " 'Horror',\n",
       " 'History,Romance',\n",
       " 'Comedy,Musical,Western',\n",
       " 'Adventure,Comedy,Family',\n",
       " 'Action,Comedy',\n",
       " 'Sci-Fi,Thriller',\n",
       " 'Adventure,Animation,Comedy',\n",
       " 'Biography,Comedy,Drama',\n",
       " 'Adventure,Comedy,Drama',\n",
       " 'Action,Comedy,Drama',\n",
       " 'Drama,Romance,Thriller',\n",
       " 'Romance',\n",
       " 'Comedy,Family,Romance',\n",
       " 'Action,Thriller',\n",
       " 'Action,Drama',\n",
       " 'Action,Comedy,Family',\n",
       " 'Documentary,Family,Short',\n",
       " 'Drama,Film-Noir,Mystery',\n",
       " 'Biography,Drama,Sport',\n",
       " 'Comedy,Family,Sport',\n",
       " 'Action,Comedy,Crime',\n",
       " 'Family,Fantasy,Romance',\n",
       " 'Adventure,Drama,Western',\n",
       " 'War',\n",
       " 'Comedy,Sport',\n",
       " 'Drama,Film-Noir,Thriller',\n",
       " 'Adventure,Drama,Family',\n",
       " 'Animation,Comedy,Short',\n",
       " 'Comedy,History',\n",
       " 'Adventure,War',\n",
       " 'Comedy,Mystery',\n",
       " 'Action,Adventure,History',\n",
       " 'Drama,Music,Romance',\n",
       " 'Adventure,Family',\n",
       " 'Biography,Drama,Musical',\n",
       " 'Documentary,Drama',\n",
       " 'Comedy,Drama,Sport',\n",
       " 'Comedy,Crime,Romance',\n",
       " 'Comedy,Crime,Drama',\n",
       " 'Comedy,Crime,Mystery',\n",
       " 'Comedy,Fantasy,Mystery',\n",
       " 'Biography,Documentary,History',\n",
       " 'Comedy,Crime,Musical',\n",
       " 'Drama,Fantasy',\n",
       " 'Music,Romance',\n",
       " 'Mystery',\n",
       " 'Family,Fantasy',\n",
       " 'Biography,Comedy,Musical',\n",
       " 'Action,Crime,Family',\n",
       " 'Comedy,Short,Western',\n",
       " 'Drama,Fantasy,Short',\n",
       " 'History',\n",
       " 'Action,Drama,Romance',\n",
       " 'Documentary,History,Short',\n",
       " 'Drama,Thriller',\n",
       " 'Drama,Sport,War',\n",
       " 'Biography,Drama,Music',\n",
       " 'Film-Noir,Mystery,Thriller',\n",
       " 'Drama,Family,Western',\n",
       " 'Drama,Mystery,Thriller',\n",
       " 'Drama,History,Romance',\n",
       " 'Action,Romance,Sport',\n",
       " 'Action,Comedy,Music',\n",
       " 'Adventure,Romance,Sci-Fi',\n",
       " 'Action,Adventure,War',\n",
       " 'Crime,Drama,Musical',\n",
       " 'Comedy,War',\n",
       " 'Action,Drama,Western',\n",
       " 'Biography,Western',\n",
       " 'Animation',\n",
       " 'Comedy,Game-Show',\n",
       " 'Music,Talk-Show',\n",
       " 'Game-Show,Music',\n",
       " 'News,Talk-Show',\n",
       " 'Drama,Game-Show,Mystery',\n",
       " 'Crime,Mystery,Thriller',\n",
       " 'Adventure,Mystery',\n",
       " 'Family,Talk-Show',\n",
       " 'Action,Drama,Mystery',\n",
       " 'Adventure,Family,Western',\n",
       " 'Drama,Horror,Mystery',\n",
       " 'Film-Noir,Mystery',\n",
       " 'Comedy,Family,Sci-Fi',\n",
       " 'Adventure,Romance,Western',\n",
       " 'Comedy,Drama,Western',\n",
       " 'Biography,Drama,War',\n",
       " 'Comedy,Family,Fantasy',\n",
       " 'Comedy,Drama,War',\n",
       " 'Drama,Short',\n",
       " 'Adventure,Sci-Fi',\n",
       " 'Comedy,Crime,Short',\n",
       " 'Adventure,Crime,Thriller',\n",
       " 'Drama,Family,History',\n",
       " 'Drama,Sci-Fi',\n",
       " 'Adventure,Comedy,Music',\n",
       " 'Horror,Sci-Fi',\n",
       " 'Drama,Horror,Sci-Fi',\n",
       " 'Action,Drama,War',\n",
       " 'Family,Romance',\n",
       " 'Adventure,Drama,War',\n",
       " 'Comedy,Family,Musical',\n",
       " 'Comedy,Family,Western',\n",
       " 'Drama,Musical,Western',\n",
       " 'Comedy,Thriller',\n",
       " 'Adventure,Family,Romance',\n",
       " 'Comedy,Sci-Fi',\n",
       " 'Action,Crime,Film-Noir',\n",
       " 'Horror,Mystery,Thriller',\n",
       " 'Comedy,Romance,War',\n",
       " 'Biography,Drama,Romance',\n",
       " 'Drama,Film-Noir,Sport',\n",
       " 'Biography,Drama,Family',\n",
       " 'Adventure,Biography,Romance',\n",
       " 'Comedy,Drama,Film-Noir',\n",
       " 'Comedy,Crime,Music',\n",
       " 'Comedy,Musical,Short',\n",
       " 'Adventure,Fantasy,Sci-Fi',\n",
       " 'Action,Crime,Sci-Fi',\n",
       " 'Action,Adventure,Fantasy',\n",
       " 'Action,War',\n",
       " 'Horror,Romance,Sci-Fi',\n",
       " 'Drama,Music',\n",
       " 'Comedy,Music,Musical',\n",
       " 'Action,Drama,History',\n",
       " 'Comedy,Romance,Sport',\n",
       " 'Action,Family,Sci-Fi',\n",
       " 'Adventure,Crime,Romance',\n",
       " 'Documentary,Music',\n",
       " 'Drama,Fantasy,Mystery',\n",
       " 'Action,Drama,Film-Noir',\n",
       " 'Action,Drama,Sport',\n",
       " 'Drama,Western',\n",
       " 'Horror,Mystery,Short',\n",
       " 'Short,Sport',\n",
       " 'Animation,Comedy,Musical',\n",
       " 'Adventure,Drama,Fantasy',\n",
       " 'Drama,Family,Fantasy',\n",
       " 'Adventure,Crime,Mystery',\n",
       " 'Drama,Family,Musical',\n",
       " 'Adventure,Drama,Musical',\n",
       " 'Adventure,Comedy,War',\n",
       " 'Crime,Horror,Romance',\n",
       " 'Animation,Documentary,Short',\n",
       " 'Horror,Thriller',\n",
       " 'Fantasy,Music,Musical',\n",
       " 'Comedy,Music,Sport',\n",
       " 'Crime,Western',\n",
       " 'Adventure,Biography,Drama',\n",
       " 'Biography,History,Music',\n",
       " 'Action,Sci-Fi,Thriller',\n",
       " 'Comedy,Crime,Fantasy',\n",
       " 'Drama,History,Music',\n",
       " 'Comedy,Family,Mystery',\n",
       " 'Family,Game-Show,Sport',\n",
       " 'Documentary,Family',\n",
       " 'Family,Game-Show,Music',\n",
       " 'Comedy,Drama,Mystery',\n",
       " 'Biography,Family,Reality-TV',\n",
       " 'News',\n",
       " 'Action,Biography,Drama',\n",
       " 'Adventure,Family,Fantasy',\n",
       " 'Comedy,History,Short',\n",
       " 'Comedy,Horror,Sci-Fi',\n",
       " 'Comedy,Fantasy,Music',\n",
       " 'Comedy,Fantasy,Sci-Fi',\n",
       " 'Animation,Comedy,Fantasy',\n",
       " 'Crime,Drama,History',\n",
       " 'Adventure,Horror,Mystery',\n",
       " 'Adventure,Romance',\n",
       " 'Action,Adventure,Thriller',\n",
       " 'Sci-Fi',\n",
       " 'Comedy,Drama,History',\n",
       " 'Adventure,Drama,Short',\n",
       " 'Crime,Romance,Thriller',\n",
       " 'Action,Adventure,Sci-Fi',\n",
       " 'Animation,Comedy,Drama',\n",
       " 'Biography,Drama,Short',\n",
       " 'Biography,Family,Musical',\n",
       " 'Drama,Thriller,Western',\n",
       " 'Action,Comedy,Sport',\n",
       " 'Crime,Mystery,Romance',\n",
       " 'Animation,Comedy,Crime',\n",
       " 'Drama,Sci-Fi,War',\n",
       " 'Action,Adventure,Biography',\n",
       " 'Adventure,Romance,War',\n",
       " 'Adventure,Family,Sci-Fi',\n",
       " 'Comedy,Crime,Thriller',\n",
       " 'Mystery,Romance,Thriller',\n",
       " 'Adventure,Drama,Thriller',\n",
       " 'History,Short',\n",
       " 'Comedy,Drama,Sci-Fi',\n",
       " 'Adventure,Music,Romance',\n",
       " 'Comedy,Horror',\n",
       " 'Drama,Family,Music',\n",
       " 'Crime,Drama,War',\n",
       " 'Documentary,Short,War',\n",
       " 'Adventure,War,Western',\n",
       " 'Adventure,Drama,Mystery',\n",
       " 'Adventure,Comedy,Fantasy',\n",
       " 'Animation,History,Short',\n",
       " 'Action,Romance,Western',\n",
       " 'Animation,Fantasy,Musical',\n",
       " 'Thriller,War,Western',\n",
       " 'Biography,Comedy,Music',\n",
       " 'Drama,Film-Noir,Music',\n",
       " 'Drama,Mystery,Short',\n",
       " 'Action,Drama,Thriller',\n",
       " 'Adventure,Fantasy,Romance',\n",
       " 'Romance,War',\n",
       " 'Adventure,Sci-Fi,War',\n",
       " 'Drama,Fantasy,Horror',\n",
       " 'Adventure,Animation,Family',\n",
       " 'Comedy,Reality-TV',\n",
       " 'Biography,Music',\n",
       " 'Documentary,News,Talk-Show',\n",
       " 'Animation,Family',\n",
       " 'Family,Fantasy,Music',\n",
       " 'Comedy,Horror,Mystery',\n",
       " 'Biography,Musical',\n",
       " 'History,Musical,Romance',\n",
       " 'Drama,Sport,Western',\n",
       " 'Crime,Drama,Short',\n",
       " 'Crime,History,Musical',\n",
       " 'Drama,Family,Sport',\n",
       " 'Adventure,Short',\n",
       " 'Mystery,Romance',\n",
       " 'Biography,Documentary',\n",
       " 'Comedy,Musical,Sport',\n",
       " 'Musical,Romance,Western',\n",
       " 'Action,Western',\n",
       " 'Horror,Romance',\n",
       " 'Adventure,Documentary',\n",
       " 'Documentary,Music,Short',\n",
       " 'Drama,Thriller,War',\n",
       " 'Romance,Sci-Fi',\n",
       " 'Adventure,Comedy,Crime',\n",
       " 'Drama,Music,Musical',\n",
       " 'Documentary,Drama,Short',\n",
       " 'Comedy,Music,Short',\n",
       " 'Crime,Family,Mystery',\n",
       " 'Biography,Drama,Film-Noir',\n",
       " 'Animation,Family,Music',\n",
       " 'Biography,Short',\n",
       " 'Music,Short',\n",
       " 'History,Romance,Western',\n",
       " 'Adventure,Crime,Sci-Fi',\n",
       " 'Documentary,History',\n",
       " 'Comedy,Family,Horror',\n",
       " 'Adventure,Comedy,Musical',\n",
       " 'Comedy,Horror,Musical',\n",
       " 'Action,Crime,Western',\n",
       " 'Animation,Fantasy',\n",
       " 'Adventure,Biography,History',\n",
       " 'Adventure,Documentary,Fantasy',\n",
       " 'Biography,Music,Musical',\n",
       " 'Comedy,Short,Thriller',\n",
       " 'Fantasy,Sci-Fi,Short',\n",
       " 'Drama,Fantasy,Music',\n",
       " 'War,Western',\n",
       " 'Animation,Crime,Horror',\n",
       " 'Musical,Western',\n",
       " 'Drama,Fantasy,War',\n",
       " 'Romance,War,Western',\n",
       " 'Comedy,Talk-Show',\n",
       " 'Action,Documentary,War',\n",
       " 'Musical,Romance,Thriller',\n",
       " 'Action,Short,Sport',\n",
       " 'Adventure,History,War',\n",
       " 'Fantasy,Musical,Romance',\n",
       " 'Action,Film-Noir,Mystery',\n",
       " 'Romance,Short',\n",
       " 'Crime,Drama,Horror',\n",
       " 'Crime,Drama,Sci-Fi',\n",
       " 'Family,Short',\n",
       " 'Adventure,Family,Thriller',\n",
       " 'Drama,Horror,Romance',\n",
       " 'Adventure,Horror',\n",
       " 'Fantasy,Horror,Short',\n",
       " 'Adventure,Romance,Thriller',\n",
       " 'Horror,Mystery,Sci-Fi',\n",
       " 'Adventure,Family,History',\n",
       " 'Drama,Music,War',\n",
       " 'Mystery,Thriller',\n",
       " 'Action,Comedy,Western',\n",
       " 'Comedy,History,Romance',\n",
       " 'Fantasy,Mystery,Thriller',\n",
       " 'Comedy,Crime,Sport',\n",
       " 'Family,Fantasy,Musical',\n",
       " 'Crime,Horror',\n",
       " 'Crime,Horror,Mystery',\n",
       " 'Comedy,Fantasy,Musical',\n",
       " 'Action,Music,Romance',\n",
       " 'Comedy,Fantasy,Sport',\n",
       " 'Adventure,Drama,Horror',\n",
       " 'Action,Fantasy,Sci-Fi',\n",
       " 'Crime,Drama,Fantasy',\n",
       " 'Drama,Short,War',\n",
       " 'Crime,Mystery,Sci-Fi',\n",
       " 'Adventure,Fantasy,History',\n",
       " 'Drama,History,Thriller',\n",
       " 'Animation,Drama',\n",
       " 'Comedy,Fantasy,Short',\n",
       " 'Comedy,Musical,Sci-Fi',\n",
       " 'Crime,Film-Noir',\n",
       " 'History,Romance,War',\n",
       " 'Crime,Horror,Sci-Fi',\n",
       " 'Fantasy,Horror',\n",
       " 'Film-Noir,Horror,Mystery',\n",
       " 'Adventure,Musical',\n",
       " 'Drama,War,Western',\n",
       " 'News,Short,Sport',\n",
       " 'Action,Horror,Sci-Fi',\n",
       " 'Animation,Drama,Short',\n",
       " 'Adventure,Drama,Film-Noir',\n",
       " 'Documentary,Musical',\n",
       " 'History,War,Western',\n",
       " 'Documentary,Horror,Short',\n",
       " 'Action,Sci-Fi',\n",
       " 'Crime,Drama,Music',\n",
       " 'Biography,History,Western',\n",
       " 'History,Thriller',\n",
       " 'Biography',\n",
       " 'Musical,Romance,Sport',\n",
       " 'Crime,Documentary,Short',\n",
       " 'History,Western',\n",
       " 'Sport',\n",
       " 'Game-Show,Reality-TV',\n",
       " 'Horror,Mystery,Romance',\n",
       " 'Animation,Documentary,History',\n",
       " 'Drama,Horror,Thriller',\n",
       " 'Crime,Sci-Fi,Thriller',\n",
       " 'Action,Crime,Musical',\n",
       " 'Music,Musical,Romance',\n",
       " 'Drama,Fantasy,Musical',\n",
       " 'Comedy,Romance,Short',\n",
       " 'Action,Family,Short',\n",
       " 'Biography,Documentary,Short',\n",
       " 'Film-Noir,Horror',\n",
       " 'Adventure,Music,Western',\n",
       " 'Biography,History',\n",
       " 'Adventure,Family,Musical',\n",
       " 'Adventure,Comedy,Mystery',\n",
       " 'Horror,Sci-Fi,Thriller',\n",
       " 'Family,Musical',\n",
       " 'Adventure,Fantasy,Horror',\n",
       " 'Adventure,Biography,Documentary',\n",
       " 'Comedy,Drama,Thriller',\n",
       " 'Action,Family,Western',\n",
       " 'Action,Crime,Thriller',\n",
       " 'Action',\n",
       " 'Crime,Family',\n",
       " 'Comedy,Documentary,Music',\n",
       " 'Adventure,Thriller',\n",
       " 'Crime,Romance,Western',\n",
       " 'Biography,Drama,Thriller',\n",
       " 'Adventure,Crime,Fantasy',\n",
       " 'Biography,Documentary,Music',\n",
       " 'Drama,History,Short',\n",
       " 'Action,Biography,Crime',\n",
       " 'Family,Music,Talk-Show',\n",
       " 'Comedy,Family,Talk-Show',\n",
       " 'Crime,War',\n",
       " 'Action,Adventure,Horror',\n",
       " 'Action,Drama,Music',\n",
       " 'Drama,Music,Western',\n",
       " 'Family,Horror,Sci-Fi',\n",
       " 'Adventure,Documentary,Drama',\n",
       " 'Music,Romance,Short',\n",
       " 'Horror,Short',\n",
       " 'Fantasy,Horror,Sci-Fi',\n",
       " 'Biography,Drama,Western',\n",
       " 'Action,Romance,War',\n",
       " 'Comedy,Mystery,Thriller',\n",
       " 'Action,Drama,Horror',\n",
       " 'Fantasy,Musical,Mystery',\n",
       " 'Crime,Short',\n",
       " 'Comedy,Romance,Thriller',\n",
       " 'Action,Drama,Musical',\n",
       " 'Fantasy,Horror,Mystery',\n",
       " 'Adventure,Family,Short',\n",
       " 'Drama,Horror',\n",
       " 'Comedy,Sci-Fi,Short',\n",
       " 'Action,Crime,Romance',\n",
       " 'Drama,History,Western',\n",
       " 'Comedy,Music,Thriller',\n",
       " 'Comedy,Crime,Horror',\n",
       " 'Action,Romance,Thriller',\n",
       " 'Fantasy,Horror,Romance',\n",
       " 'Drama,Fantasy,Sci-Fi',\n",
       " 'Horror,Sci-Fi,Western',\n",
       " 'Drama,History,Mystery',\n",
       " 'Biography,Crime,Western',\n",
       " 'Animation,Documentary,Family',\n",
       " 'Drama,Sci-Fi,Thriller',\n",
       " 'Biography,Crime,Film-Noir',\n",
       " 'Fantasy,Romance',\n",
       " 'Adventure,Horror,Sci-Fi',\n",
       " 'Crime,Horror,Thriller',\n",
       " 'Comedy,Drama,Short',\n",
       " 'Musical,Thriller',\n",
       " 'Horror,Mystery,Western',\n",
       " 'Crime,Musical,Romance',\n",
       " 'Documentary,Drama,Romance',\n",
       " 'Mystery,Western',\n",
       " 'Drama,Romance,Short',\n",
       " 'Action,Comedy,Romance',\n",
       " 'Action,Mystery',\n",
       " 'Action,War,Western',\n",
       " 'Biography,Sci-Fi',\n",
       " 'Thriller,War',\n",
       " 'Romance,Sport',\n",
       " 'Action,Biography,History',\n",
       " 'Musical,Romance,War',\n",
       " 'Adventure,Animation,Fantasy',\n",
       " 'Documentary,Romance',\n",
       " 'Action,Horror,Romance',\n",
       " 'Crime,Romance',\n",
       " 'Animation,Sci-Fi,Short',\n",
       " 'Documentary,Drama,War',\n",
       " 'Adventure,Sci-Fi,Thriller',\n",
       " 'Horror,Western',\n",
       " 'Crime,Music,Mystery',\n",
       " 'Horror,Mystery',\n",
       " 'Drama,Romance,Sci-Fi',\n",
       " 'Adventure,Family,Mystery',\n",
       " 'Animation,Comedy',\n",
       " 'Game-Show,Sport',\n",
       " 'Musical,Short',\n",
       " 'Comedy,History,Musical',\n",
       " 'Crime,History,Horror',\n",
       " 'Drama,History,Musical',\n",
       " 'Music,Musical',\n",
       " 'Crime,Fantasy,Horror',\n",
       " 'Family,War',\n",
       " 'Documentary,History,News',\n",
       " 'Biography,Crime,History',\n",
       " 'Crime,Drama,Sport',\n",
       " 'Action,Crime,Mystery',\n",
       " 'Biography,Fantasy',\n",
       " 'Comedy,Documentary',\n",
       " 'Action,Adventure,Animation',\n",
       " 'Animation,Family,Sci-Fi',\n",
       " 'Action,Drama,Fantasy',\n",
       " 'Adventure,Mystery,Western',\n",
       " 'Short,War',\n",
       " 'Comedy,Horror,Thriller',\n",
       " 'Action,Drama,Family',\n",
       " 'Adventure,Comedy,Documentary',\n",
       " 'Comedy,Drama,Horror',\n",
       " 'Family,Fantasy,History',\n",
       " 'Action,Crime,Sport',\n",
       " 'Animation,Drama,Family',\n",
       " 'Animation,Documentary',\n",
       " 'Comedy,Sci-Fi,Thriller',\n",
       " 'Animation,Family,Romance',\n",
       " 'Action,Horror',\n",
       " 'Adventure,History,Mystery',\n",
       " 'Mystery,Thriller,Western',\n",
       " 'Sport,Western',\n",
       " 'Animation,Fantasy,Music',\n",
       " 'Family,Fantasy,Horror',\n",
       " 'Musical,Mystery,Thriller',\n",
       " 'Fantasy,Mystery',\n",
       " 'Action,Comedy,Mystery',\n",
       " 'Fantasy,Horror,Thriller',\n",
       " 'Action,Comedy,Short',\n",
       " 'Biography,Comedy',\n",
       " 'Drama,Musical,Sport',\n",
       " 'Action,Crime,Horror',\n",
       " 'Action,Fantasy',\n",
       " 'Fantasy,Romance,Sci-Fi',\n",
       " 'Drama,Horror,Music',\n",
       " 'Drama,History,Horror',\n",
       " 'Adventure,Animation,Biography',\n",
       " 'Adventure,Comedy,Thriller',\n",
       " 'Family,Musical,Romance',\n",
       " 'Biography,Sport',\n",
       " 'Comedy,Mystery,Romance',\n",
       " 'Action,Animation,Short',\n",
       " 'Documentary,Horror',\n",
       " 'Comedy,Romance,Sci-Fi',\n",
       " 'Documentary,Thriller',\n",
       " 'Action,History',\n",
       " 'Comedy,Documentary,Drama',\n",
       " 'History,War',\n",
       " 'Documentary,History,War',\n",
       " 'Fantasy,Mystery,Western',\n",
       " 'Comedy,War,Western',\n",
       " 'Adventure,Biography,Comedy',\n",
       " 'Action,Comedy,Thriller',\n",
       " 'Biography,Documentary,Drama',\n",
       " 'Comedy,History,War',\n",
       " 'Fantasy,Music',\n",
       " 'Drama,Mystery,Sci-Fi',\n",
       " 'Biography,Documentary,War',\n",
       " 'Horror,Musical',\n",
       " 'Drama,Musical,Mystery',\n",
       " 'Adventure,Fantasy,War',\n",
       " 'Adventure,Comedy,Western',\n",
       " 'Fantasy,Musical',\n",
       " 'Fantasy,Music,Romance',\n",
       " 'Documentary,Music,News',\n",
       " 'Documentary,History,Music',\n",
       " 'Action,Animation,Comedy',\n",
       " 'Animation,Comedy,Music',\n",
       " 'Game-Show,Romance',\n",
       " 'Animation,Crime,Family',\n",
       " 'Action,Mystery,Sci-Fi',\n",
       " 'Biography,Crime,Thriller',\n",
       " 'Action,Horror,Mystery',\n",
       " 'Action,Drama,Sci-Fi',\n",
       " 'Family,Sport',\n",
       " 'Adventure,Biography',\n",
       " 'Sci-Fi,Short',\n",
       " 'Fantasy,Sci-Fi',\n",
       " 'Comedy,Family,Short',\n",
       " 'Biography,Drama,Horror',\n",
       " 'Adventure,Comedy,Sci-Fi',\n",
       " 'Adventure,Crime,Family',\n",
       " 'Action,Thriller,War',\n",
       " 'Adventure,Crime,History',\n",
       " 'Comedy,Crime,Sci-Fi',\n",
       " 'Action,Animation,Family',\n",
       " 'Animation,Family,Western',\n",
       " 'Action,Animation,Sci-Fi',\n",
       " 'Adventure,Animation,Drama',\n",
       " 'Adventure,Biography,Family',\n",
       " 'Animation,Musical',\n",
       " 'Adventure,Documentary,Family',\n",
       " 'Comedy,Music,Western',\n",
       " 'Animation,Comedy,Horror',\n",
       " 'Adventure,Animation,Sci-Fi',\n",
       " 'Animation,Horror,Short',\n",
       " 'Action,Musical,Romance',\n",
       " 'Comedy,Musical,Mystery',\n",
       " 'Action,Thriller,Western',\n",
       " 'Comedy,Music,Sci-Fi',\n",
       " 'Drama,Horror,Short',\n",
       " 'Animation,Mystery,Short',\n",
       " 'Comedy,Fantasy,Western',\n",
       " 'Drama,Musical,War',\n",
       " 'Action,Sport',\n",
       " 'Comedy,Documentary,Family',\n",
       " 'Action,Family,Fantasy',\n",
       " 'Sport,Thriller',\n",
       " 'Action,Animation,History',\n",
       " 'Animation,Family,Musical',\n",
       " 'Action,Adventure,Musical',\n",
       " 'Adventure,Animation',\n",
       " 'Drama,Family,Thriller',\n",
       " 'Mystery,Romance,Western',\n",
       " 'Action,Mystery,Thriller',\n",
       " 'Action,Comedy,Sci-Fi',\n",
       " 'Crime,Musical,Mystery',\n",
       " 'Adult,Short',\n",
       " 'Fantasy,Sci-Fi,Thriller',\n",
       " 'Drama,Musical,Thriller',\n",
       " 'Animation,Musical,Short',\n",
       " 'Biography,History,Romance',\n",
       " 'Adult,Drama',\n",
       " 'Documentary,History,Sport',\n",
       " 'Documentary,Drama,History',\n",
       " 'Thriller,Western',\n",
       " 'Animation,Comedy,Sci-Fi',\n",
       " 'Mystery,Sci-Fi',\n",
       " 'Action,Mystery,Western',\n",
       " 'Documentary,Sci-Fi',\n",
       " 'Animation,Comedy,Documentary',\n",
       " 'Biography,Comedy,Documentary',\n",
       " 'Action,History,War',\n",
       " 'Adventure,Musical,Mystery',\n",
       " 'Fantasy,Short',\n",
       " 'Action,Horror,Western',\n",
       " 'Adventure,Crime,Horror',\n",
       " 'Biography,Comedy,History',\n",
       " 'Biography,Horror',\n",
       " 'Drama,Fantasy,History',\n",
       " 'Drama,Fantasy,Sport',\n",
       " 'Romance,Thriller',\n",
       " 'Adventure,Biography,Crime',\n",
       " 'Comedy,History,Music',\n",
       " 'Animation,Family,Sport',\n",
       " 'Adult',\n",
       " 'Animation,Drama,Sport',\n",
       " 'Adult,Fantasy,Horror',\n",
       " 'Animation,History,Romance',\n",
       " 'Crime,Thriller,Western',\n",
       " 'Musical,Sci-Fi',\n",
       " 'Documentary,Family,Sport',\n",
       " 'Documentary,Music,Thriller',\n",
       " 'Adventure,Fantasy,Musical',\n",
       " 'Mystery,Sci-Fi,Thriller',\n",
       " 'Adult,Documentary',\n",
       " 'Adult,Comedy,Drama',\n",
       " 'Comedy,Crime,Western',\n",
       " 'Action,Romance',\n",
       " 'Family,History,War',\n",
       " 'Adult,Comedy',\n",
       " 'Adventure,Family,Sport',\n",
       " 'Drama,Sci-Fi,Short',\n",
       " 'Comedy,Documentary,Sport',\n",
       " 'Biography,Documentary,Western',\n",
       " 'Animation,Short,War',\n",
       " 'Action,Comedy,Musical',\n",
       " 'Biography,Romance',\n",
       " 'Adult,Adventure,Comedy',\n",
       " 'Adventure,Crime,Musical',\n",
       " 'Action,Adult,Western',\n",
       " 'Animation,Fantasy,Short',\n",
       " 'Documentary,Drama,Music',\n",
       " 'Biography,Crime,Documentary',\n",
       " 'Adult,Horror',\n",
       " 'Adventure,Horror,Thriller',\n",
       " 'Adventure,Documentary,Romance',\n",
       " 'Action,Adult,Drama',\n",
       " 'Family,History,Sci-Fi',\n",
       " 'Action,Musical,Thriller',\n",
       " 'Musical,Mystery,Romance',\n",
       " 'Drama,Horror,War',\n",
       " 'Crime,Horror,Musical',\n",
       " 'Animation,Family,Mystery',\n",
       " 'Family,Game-Show,Reality-TV',\n",
       " 'Action,Documentary,Sport',\n",
       " 'Family,Fantasy,Mystery',\n",
       " 'Biography,Drama,Mystery',\n",
       " 'Horror,Romance,Thriller',\n",
       " 'Horror,Thriller,Western',\n",
       " 'Drama,Mystery,Western',\n",
       " 'Adventure,Comedy,Horror',\n",
       " 'Action,Biography,Comedy',\n",
       " 'Adventure,Animation,Crime',\n",
       " 'Animation,Documentary,Drama',\n",
       " 'Animation,Comedy,Mystery',\n",
       " 'Reality-TV',\n",
       " 'Family,Game-Show,Mystery',\n",
       " 'Adventure,Musical,Romance',\n",
       " 'Adventure,History,Musical',\n",
       " 'Adventure,Horror,Romance',\n",
       " 'Adult,Drama,Fantasy',\n",
       " 'Horror,Musical,Sci-Fi',\n",
       " 'Biography,War',\n",
       " 'Animation,Biography,Short',\n",
       " 'Adventure,Mystery,Thriller',\n",
       " 'Biography,Documentary,Sport',\n",
       " 'Drama,Horror,Western',\n",
       " 'Action,Comedy,Fantasy',\n",
       " 'Action,Comedy,War',\n",
       " 'Documentary,Drama,Fantasy',\n",
       " 'Animation,Sci-Fi',\n",
       " 'Adult,Drama,Romance',\n",
       " 'Adult,Crime,Horror',\n",
       " 'Biography,Documentary,Family',\n",
       " 'Adult,Comedy,Sci-Fi',\n",
       " 'Animation,History',\n",
       " 'Animation,Drama,Fantasy',\n",
       " 'Action,Horror,Thriller',\n",
       " 'Documentary,Mystery',\n",
       " 'Comedy,Horror,Music',\n",
       " 'Adult,Comedy,Romance',\n",
       " 'Drama,Fantasy,Thriller',\n",
       " 'Animation,Romance,Short',\n",
       " 'Adult,Adventure',\n",
       " 'Mystery,Short',\n",
       " 'Music,Sci-Fi',\n",
       " 'Documentary,Family,Musical',\n",
       " 'Adult,Animation,Drama',\n",
       " 'Family,Fantasy,Sci-Fi',\n",
       " 'Crime,Drama,Family',\n",
       " 'Documentary,History,Reality-TV',\n",
       " 'Animation,Fantasy,Romance',\n",
       " 'Adult,Horror,Thriller',\n",
       " 'Action,Fantasy,Horror',\n",
       " 'Adult,Biography,Documentary',\n",
       " 'Animation,Documentary,Musical',\n",
       " 'Adventure,Fantasy,Short',\n",
       " 'Adult,Fantasy',\n",
       " 'Biography,Comedy,Crime',\n",
       " 'Adult,Crime',\n",
       " 'Adult,Crime,Drama',\n",
       " 'Fantasy,Western',\n",
       " 'Action,Sci-Fi,Sport',\n",
       " 'Adult,Drama,Thriller',\n",
       " 'Adult,Comedy,Horror',\n",
       " 'Fantasy,History,Horror',\n",
       " 'Crime,History',\n",
       " 'Comedy,News',\n",
       " 'Adult,Talk-Show',\n",
       " 'Drama,History,Sport',\n",
       " 'Adult,Comedy,Fantasy',\n",
       " 'Drama,Music,Mystery',\n",
       " 'Adult,Drama,Horror',\n",
       " 'Adult,Crime,Mystery',\n",
       " 'Horror,War',\n",
       " 'Adult,Comedy,Musical',\n",
       " 'Action,Fantasy,Musical',\n",
       " 'Comedy,Mystery,Sci-Fi',\n",
       " 'Documentary,Horror,Music',\n",
       " 'Adult,Romance',\n",
       " 'Family,Mystery',\n",
       " 'Biography,History,Talk-Show',\n",
       " 'Comedy,Crime,History',\n",
       " 'Family,News,Sport',\n",
       " 'Family,Romance,Sci-Fi',\n",
       " 'Animation,Horror,Mystery',\n",
       " 'Adult,Adventure,Drama',\n",
       " 'Drama,Mystery,Sport',\n",
       " 'Adult,Thriller',\n",
       " 'Documentary,News',\n",
       " 'Action,Animation,Fantasy',\n",
       " 'Biography,Family',\n",
       " 'Comedy,Documentary,Romance',\n",
       " 'Documentary,Mystery,Sci-Fi',\n",
       " 'Family,Musical,Short',\n",
       " 'Adult,Drama,War',\n",
       " 'Biography,History,War',\n",
       " 'Adult,Drama,Musical',\n",
       " 'Adult,Mystery',\n",
       " 'Fantasy,Horror,Music',\n",
       " 'Family,Musical,Mystery',\n",
       " 'Drama,Family,Short',\n",
       " 'Adult,Comedy,Western',\n",
       " 'Crime,Documentary',\n",
       " 'Crime,History,Mystery',\n",
       " 'Adult,Comedy,Crime',\n",
       " 'Animation,Drama,Romance',\n",
       " 'Documentary,Reality-TV',\n",
       " 'Adventure,Crime,Sport',\n",
       " 'Documentary,Drama,Western',\n",
       " 'Drama,Sci-Fi,Sport',\n",
       " 'Animation,Romance,Sci-Fi',\n",
       " 'Adventure,Mystery,Sci-Fi',\n",
       " 'Fantasy,History,Romance',\n",
       " 'Adult,Western',\n",
       " 'Fantasy,Mystery,Sci-Fi',\n",
       " 'Music,News',\n",
       " 'Music,Musical,Sci-Fi',\n",
       " 'Action,Comedy,Horror',\n",
       " 'Action,Comedy,History',\n",
       " 'Adult,Crime,Romance',\n",
       " 'Action,Adult,Adventure',\n",
       " 'Horror,Music,Short',\n",
       " 'Crime,Horror,Music',\n",
       " 'Action,Animation,Drama',\n",
       " 'Family,Horror,Mystery',\n",
       " 'Drama,Family,War',\n",
       " 'Comedy,Game-Show,Music',\n",
       " 'Animation,Drama,History',\n",
       " 'Documentary,Family,Music',\n",
       " 'Crime,Music,Thriller',\n",
       " 'Romance,Thriller,War',\n",
       " 'Action,Romance,Sci-Fi',\n",
       " 'Adventure,Comedy,Sport',\n",
       " 'Fantasy,Romance,Thriller',\n",
       " 'Horror,Thriller,War',\n",
       " 'Adult,Sci-Fi',\n",
       " 'Action,Crime,Fantasy',\n",
       " 'Comedy,Game-Show,Talk-Show',\n",
       " 'Documentary,Family,History',\n",
       " 'Action,Music,Sci-Fi',\n",
       " 'Drama,Music,Sport',\n",
       " 'Action,Fantasy,Romance',\n",
       " 'Comedy,Documentary,Musical',\n",
       " 'Drama,Horror,Musical',\n",
       " 'Action,Animation,Crime',\n",
       " 'Crime,Sport',\n",
       " 'History,Musical',\n",
       " 'Animation,Biography,Drama',\n",
       " 'Adult,Drama,Mystery',\n",
       " 'Animation,Fantasy,Horror',\n",
       " 'Adult,Crime,Thriller',\n",
       " 'Comedy,Music,War',\n",
       " 'Adventure,Mystery,Romance',\n",
       " 'Animation,Biography,Documentary',\n",
       " 'Comedy,Family,History',\n",
       " 'Adult,Drama,Music',\n",
       " 'Action,Musical',\n",
       " 'Horror,Sport',\n",
       " 'Horror,Music',\n",
       " 'Action,Fantasy,Thriller',\n",
       " 'Fantasy,Mystery,Romance',\n",
       " 'Documentary,Horror,Thriller',\n",
       " 'Action,Animation',\n",
       " 'Animation,Crime,Sci-Fi',\n",
       " 'Adult,Music',\n",
       " 'Adventure,Fantasy,Mystery',\n",
       " 'Action,Crime,Short',\n",
       " 'Adventure,Sci-Fi,Sport',\n",
       " 'History,Mystery',\n",
       " 'Comedy,Horror,Romance',\n",
       " 'Biography,Crime',\n",
       " 'Action,Sci-Fi,Western',\n",
       " 'Animation,Comedy,Romance',\n",
       " 'Adult,Fantasy,Sci-Fi',\n",
       " 'Adventure,Animation,Western',\n",
       " 'Crime,Fantasy',\n",
       " 'Action,Crime,War',\n",
       " 'Animation,Short,Western',\n",
       " 'Action,Family,Sport',\n",
       " 'Action,Music',\n",
       " 'Action,Animation,Music',\n",
       " 'Documentary,Family,Fantasy',\n",
       " 'Fantasy,Musical,Sci-Fi',\n",
       " 'Action,Crime,Music',\n",
       " 'Drama,Short,Thriller',\n",
       " 'Comedy,Short,Sport',\n",
       " 'Animation,Crime,Documentary',\n",
       " 'Animation,Drama,Horror',\n",
       " 'Horror,Music,Thriller',\n",
       " 'Animation,Drama,Sci-Fi',\n",
       " 'Action,Animation,Horror',\n",
       " 'Comedy,Documentary,Horror',\n",
       " 'Adventure,Sci-Fi,Short',\n",
       " 'Action,Horror,War',\n",
       " 'Animation,Crime,Drama',\n",
       " 'Documentary,Romance,Short',\n",
       " 'Comedy,Reality-TV,Talk-Show',\n",
       " 'Crime,Documentary,Drama',\n",
       " 'Documentary,Western',\n",
       " 'Fantasy,Thriller',\n",
       " 'Action,Documentary,Drama',\n",
       " 'Adult,Adventure,Mystery',\n",
       " 'Adventure,Drama,Sport',\n",
       " 'Animation,Drama,War',\n",
       " 'Biography,Music,Romance',\n",
       " 'Horror,Music,Mystery',\n",
       " 'Action,History,Thriller',\n",
       " 'Animation,Biography,Comedy',\n",
       " 'Action,Game-Show,Sport',\n",
       " 'Action,Crime,Reality-TV',\n",
       " 'Action,Sport,Thriller',\n",
       " 'Drama,Music,Short',\n",
       " 'Action,Biography',\n",
       " 'Biography,Fantasy,Mystery',\n",
       " 'Adult,Comedy,Mystery',\n",
       " 'Comedy,Horror,Western',\n",
       " 'Documentary,History,Romance',\n",
       " 'Family,Fantasy,Short',\n",
       " 'Horror,Short,Thriller',\n",
       " 'Comedy,Family,Reality-TV',\n",
       " 'Game-Show,Music,Reality-TV',\n",
       " 'Comedy,Game-Show,News',\n",
       " 'Documentary,Drama,Mystery',\n",
       " 'Sci-Fi,Short,Thriller',\n",
       " 'Action,Documentary',\n",
       " 'Adult,Adventure,Romance',\n",
       " 'Action,Animation,Romance',\n",
       " 'Comedy,Horror,Sport',\n",
       " 'Animation,Comedy,History',\n",
       " 'Music,Thriller',\n",
       " 'Adventure,Biography,War',\n",
       " 'Adventure,Animation,Horror',\n",
       " 'Adult,Drama,Western',\n",
       " 'Comedy,Fantasy,Thriller',\n",
       " 'Crime,Reality-TV',\n",
       " 'Crime,Drama,Game-Show',\n",
       " 'Biography,Documentary,Romance',\n",
       " 'Fantasy,Musical,Short',\n",
       " 'Short,Thriller',\n",
       " 'Music,Reality-TV',\n",
       " 'Drama,Music,Thriller',\n",
       " 'Drama,Reality-TV',\n",
       " 'Documentary,History,Mystery',\n",
       " 'Crime,Documentary,Mystery',\n",
       " 'Family,Thriller',\n",
       " 'Biography,Horror,Mystery',\n",
       " 'Drama,Family,Mystery',\n",
       " 'Action,Musical,Mystery',\n",
       " 'Adult,Documentary,Short',\n",
       " 'Horror,Romance,Western',\n",
       " 'History,Short,Western',\n",
       " 'Documentary,Drama,Sci-Fi',\n",
       " 'Documentary,Drama,Sport',\n",
       " 'Animation,Fantasy,Mystery',\n",
       " 'Comedy,Mystery,Short',\n",
       " 'Animation,Drama,Thriller',\n",
       " 'Action,Biography,Documentary',\n",
       " 'Biography,Drama,Fantasy',\n",
       " 'Biography,Comedy,Fantasy',\n",
       " 'Documentary,Fantasy,Short',\n",
       " 'Biography,Comedy,Thriller',\n",
       " 'Adult,Animation,Comedy',\n",
       " ...]"
      ]
     },
     "execution_count": 92,
     "metadata": {},
     "output_type": "execute_result"
    }
   ],
   "source": [
    "list(basic2[\"genres\"].unique())"
   ]
  },
  {
   "cell_type": "code",
   "execution_count": 93,
   "metadata": {},
   "outputs": [],
   "source": [
    "basic2[\"genres\"].replace('\\\\N', None, inplace=True)"
   ]
  },
  {
   "cell_type": "code",
   "execution_count": 94,
   "metadata": {},
   "outputs": [
    {
     "data": {
      "text/html": [
       "<div>\n",
       "<style scoped>\n",
       "    .dataframe tbody tr th:only-of-type {\n",
       "        vertical-align: middle;\n",
       "    }\n",
       "\n",
       "    .dataframe tbody tr th {\n",
       "        vertical-align: top;\n",
       "    }\n",
       "\n",
       "    .dataframe thead th {\n",
       "        text-align: right;\n",
       "    }\n",
       "</style>\n",
       "<table border=\"1\" class=\"dataframe\">\n",
       "  <thead>\n",
       "    <tr style=\"text-align: right;\">\n",
       "      <th></th>\n",
       "      <th>tconst</th>\n",
       "      <th>titleType</th>\n",
       "      <th>primaryTitle</th>\n",
       "      <th>originalTitle</th>\n",
       "      <th>isAdult</th>\n",
       "      <th>startYear</th>\n",
       "      <th>endYear</th>\n",
       "      <th>runtimeMinutes</th>\n",
       "      <th>genres</th>\n",
       "    </tr>\n",
       "  </thead>\n",
       "  <tbody>\n",
       "    <tr>\n",
       "      <th>11636</th>\n",
       "      <td>tt0011801</td>\n",
       "      <td>movie</td>\n",
       "      <td>Tötet nicht mehr</td>\n",
       "      <td>Tötet nicht mehr</td>\n",
       "      <td>0</td>\n",
       "      <td>2019</td>\n",
       "      <td>9999</td>\n",
       "      <td>NaN</td>\n",
       "      <td>Action,Crime</td>\n",
       "    </tr>\n",
       "    <tr>\n",
       "      <th>13079</th>\n",
       "      <td>tt0013274</td>\n",
       "      <td>movie</td>\n",
       "      <td>Istoriya grazhdanskoy voyny</td>\n",
       "      <td>Istoriya grazhdanskoy voyny</td>\n",
       "      <td>0</td>\n",
       "      <td>2021</td>\n",
       "      <td>9999</td>\n",
       "      <td>133</td>\n",
       "      <td>Documentary</td>\n",
       "    </tr>\n",
       "    <tr>\n",
       "      <th>15174</th>\n",
       "      <td>tt0015414</td>\n",
       "      <td>movie</td>\n",
       "      <td>La tierra de los toros</td>\n",
       "      <td>La tierra de los toros</td>\n",
       "      <td>0</td>\n",
       "      <td>2000</td>\n",
       "      <td>9999</td>\n",
       "      <td>60</td>\n",
       "      <td>None</td>\n",
       "    </tr>\n",
       "    <tr>\n",
       "      <th>15482</th>\n",
       "      <td>tt0015724</td>\n",
       "      <td>movie</td>\n",
       "      <td>Dama de noche</td>\n",
       "      <td>Dama de noche</td>\n",
       "      <td>0</td>\n",
       "      <td>1993</td>\n",
       "      <td>9999</td>\n",
       "      <td>102</td>\n",
       "      <td>Drama,Mystery,Romance</td>\n",
       "    </tr>\n",
       "    <tr>\n",
       "      <th>21267</th>\n",
       "      <td>tt0021617</td>\n",
       "      <td>movie</td>\n",
       "      <td>Arizona Territory</td>\n",
       "      <td>Arizona Territory</td>\n",
       "      <td>0</td>\n",
       "      <td>1950</td>\n",
       "      <td>9999</td>\n",
       "      <td>56</td>\n",
       "      <td>Western</td>\n",
       "    </tr>\n",
       "  </tbody>\n",
       "</table>\n",
       "</div>"
      ],
      "text/plain": [
       "          tconst titleType                 primaryTitle  \\\n",
       "11636  tt0011801     movie             Tötet nicht mehr   \n",
       "13079  tt0013274     movie  Istoriya grazhdanskoy voyny   \n",
       "15174  tt0015414     movie       La tierra de los toros   \n",
       "15482  tt0015724     movie                Dama de noche   \n",
       "21267  tt0021617     movie            Arizona Territory   \n",
       "\n",
       "                     originalTitle isAdult  startYear  endYear runtimeMinutes  \\\n",
       "11636             Tötet nicht mehr       0       2019     9999            NaN   \n",
       "13079  Istoriya grazhdanskoy voyny       0       2021     9999            133   \n",
       "15174       La tierra de los toros       0       2000     9999             60   \n",
       "15482                Dama de noche       0       1993     9999            102   \n",
       "21267            Arizona Territory       0       1950     9999             56   \n",
       "\n",
       "                      genres  \n",
       "11636           Action,Crime  \n",
       "13079            Documentary  \n",
       "15174                   None  \n",
       "15482  Drama,Mystery,Romance  \n",
       "21267                Western  "
      ]
     },
     "execution_count": 94,
     "metadata": {},
     "output_type": "execute_result"
    }
   ],
   "source": [
    "basic2.head()"
   ]
  },
  {
   "cell_type": "code",
   "execution_count": 95,
   "metadata": {},
   "outputs": [
    {
     "data": {
      "text/plain": [
       "tconst                  0\n",
       "titleType               0\n",
       "primaryTitle            0\n",
       "originalTitle           0\n",
       "isAdult                 0\n",
       "startYear               0\n",
       "endYear                 0\n",
       "runtimeMinutes    5367973\n",
       "genres             327903\n",
       "dtype: int64"
      ]
     },
     "execution_count": 95,
     "metadata": {},
     "output_type": "execute_result"
    }
   ],
   "source": [
    "basic2.isna().sum()"
   ]
  },
  {
   "cell_type": "code",
   "execution_count": 96,
   "metadata": {},
   "outputs": [
    {
     "data": {
      "text/html": [
       "<div>\n",
       "<style scoped>\n",
       "    .dataframe tbody tr th:only-of-type {\n",
       "        vertical-align: middle;\n",
       "    }\n",
       "\n",
       "    .dataframe tbody tr th {\n",
       "        vertical-align: top;\n",
       "    }\n",
       "\n",
       "    .dataframe thead th {\n",
       "        text-align: right;\n",
       "    }\n",
       "</style>\n",
       "<table border=\"1\" class=\"dataframe\">\n",
       "  <thead>\n",
       "    <tr style=\"text-align: right;\">\n",
       "      <th></th>\n",
       "      <th>tconst</th>\n",
       "      <th>titleType</th>\n",
       "      <th>primaryTitle</th>\n",
       "      <th>originalTitle</th>\n",
       "      <th>isAdult</th>\n",
       "      <th>startYear</th>\n",
       "      <th>endYear</th>\n",
       "      <th>runtimeMinutes</th>\n",
       "      <th>genres</th>\n",
       "    </tr>\n",
       "  </thead>\n",
       "  <tbody>\n",
       "    <tr>\n",
       "      <th>15174</th>\n",
       "      <td>tt0015414</td>\n",
       "      <td>movie</td>\n",
       "      <td>La tierra de los toros</td>\n",
       "      <td>La tierra de los toros</td>\n",
       "      <td>0</td>\n",
       "      <td>2000</td>\n",
       "      <td>9999</td>\n",
       "      <td>60</td>\n",
       "      <td>None</td>\n",
       "    </tr>\n",
       "    <tr>\n",
       "      <th>35698</th>\n",
       "      <td>tt0036345</td>\n",
       "      <td>movie</td>\n",
       "      <td>Honour Is Precious</td>\n",
       "      <td>Al-sharaf ghali</td>\n",
       "      <td>0</td>\n",
       "      <td>1951</td>\n",
       "      <td>9999</td>\n",
       "      <td>NaN</td>\n",
       "      <td>None</td>\n",
       "    </tr>\n",
       "    <tr>\n",
       "      <th>37070</th>\n",
       "      <td>tt0037745</td>\n",
       "      <td>movie</td>\n",
       "      <td>Glück muß man haben</td>\n",
       "      <td>Glück muß man haben</td>\n",
       "      <td>0</td>\n",
       "      <td>1950</td>\n",
       "      <td>9999</td>\n",
       "      <td>78</td>\n",
       "      <td>None</td>\n",
       "    </tr>\n",
       "    <tr>\n",
       "      <th>37719</th>\n",
       "      <td>tt0038405</td>\n",
       "      <td>movie</td>\n",
       "      <td>El centauro</td>\n",
       "      <td>El centauro</td>\n",
       "      <td>0</td>\n",
       "      <td>1950</td>\n",
       "      <td>9999</td>\n",
       "      <td>87</td>\n",
       "      <td>None</td>\n",
       "    </tr>\n",
       "    <tr>\n",
       "      <th>39250</th>\n",
       "      <td>tt0039952</td>\n",
       "      <td>movie</td>\n",
       "      <td>Vecchio cinema... che passione!</td>\n",
       "      <td>Vecchio cinema... che passione!</td>\n",
       "      <td>0</td>\n",
       "      <td>1957</td>\n",
       "      <td>9999</td>\n",
       "      <td>NaN</td>\n",
       "      <td>None</td>\n",
       "    </tr>\n",
       "    <tr>\n",
       "      <th>...</th>\n",
       "      <td>...</td>\n",
       "      <td>...</td>\n",
       "      <td>...</td>\n",
       "      <td>...</td>\n",
       "      <td>...</td>\n",
       "      <td>...</td>\n",
       "      <td>...</td>\n",
       "      <td>...</td>\n",
       "      <td>...</td>\n",
       "    </tr>\n",
       "    <tr>\n",
       "      <th>9129754</th>\n",
       "      <td>tt9916130</td>\n",
       "      <td>tvSeries</td>\n",
       "      <td>Tot Art</td>\n",
       "      <td>Tot Art</td>\n",
       "      <td>0</td>\n",
       "      <td>1976</td>\n",
       "      <td>9999</td>\n",
       "      <td>NaN</td>\n",
       "      <td>None</td>\n",
       "    </tr>\n",
       "    <tr>\n",
       "      <th>9130014</th>\n",
       "      <td>tt9916672</td>\n",
       "      <td>tvEpisode</td>\n",
       "      <td>L'échange</td>\n",
       "      <td>L'échange</td>\n",
       "      <td>0</td>\n",
       "      <td>2007</td>\n",
       "      <td>9999</td>\n",
       "      <td>NaN</td>\n",
       "      <td>None</td>\n",
       "    </tr>\n",
       "    <tr>\n",
       "      <th>9130020</th>\n",
       "      <td>tt9916684</td>\n",
       "      <td>tvEpisode</td>\n",
       "      <td>Otages (1e partie)</td>\n",
       "      <td>Otages (1e partie)</td>\n",
       "      <td>0</td>\n",
       "      <td>2007</td>\n",
       "      <td>9999</td>\n",
       "      <td>NaN</td>\n",
       "      <td>None</td>\n",
       "    </tr>\n",
       "    <tr>\n",
       "      <th>9130027</th>\n",
       "      <td>tt9916700</td>\n",
       "      <td>tvEpisode</td>\n",
       "      <td>Apex Cartoon - Meet the Legends</td>\n",
       "      <td>Apex Cartoon - Meet the Legends</td>\n",
       "      <td>0</td>\n",
       "      <td>2019</td>\n",
       "      <td>9999</td>\n",
       "      <td>NaN</td>\n",
       "      <td>None</td>\n",
       "    </tr>\n",
       "    <tr>\n",
       "      <th>9130041</th>\n",
       "      <td>tt9916730</td>\n",
       "      <td>movie</td>\n",
       "      <td>6 Gunn</td>\n",
       "      <td>6 Gunn</td>\n",
       "      <td>0</td>\n",
       "      <td>2017</td>\n",
       "      <td>9999</td>\n",
       "      <td>116</td>\n",
       "      <td>None</td>\n",
       "    </tr>\n",
       "  </tbody>\n",
       "</table>\n",
       "<p>327903 rows × 9 columns</p>\n",
       "</div>"
      ],
      "text/plain": [
       "            tconst  titleType                     primaryTitle  \\\n",
       "15174    tt0015414      movie           La tierra de los toros   \n",
       "35698    tt0036345      movie               Honour Is Precious   \n",
       "37070    tt0037745      movie              Glück muß man haben   \n",
       "37719    tt0038405      movie                      El centauro   \n",
       "39250    tt0039952      movie  Vecchio cinema... che passione!   \n",
       "...            ...        ...                              ...   \n",
       "9129754  tt9916130   tvSeries                          Tot Art   \n",
       "9130014  tt9916672  tvEpisode                        L'échange   \n",
       "9130020  tt9916684  tvEpisode               Otages (1e partie)   \n",
       "9130027  tt9916700  tvEpisode  Apex Cartoon - Meet the Legends   \n",
       "9130041  tt9916730      movie                           6 Gunn   \n",
       "\n",
       "                           originalTitle isAdult  startYear  endYear  \\\n",
       "15174             La tierra de los toros       0       2000     9999   \n",
       "35698                    Al-sharaf ghali       0       1951     9999   \n",
       "37070                Glück muß man haben       0       1950     9999   \n",
       "37719                        El centauro       0       1950     9999   \n",
       "39250    Vecchio cinema... che passione!       0       1957     9999   \n",
       "...                                  ...     ...        ...      ...   \n",
       "9129754                          Tot Art       0       1976     9999   \n",
       "9130014                        L'échange       0       2007     9999   \n",
       "9130020               Otages (1e partie)       0       2007     9999   \n",
       "9130027  Apex Cartoon - Meet the Legends       0       2019     9999   \n",
       "9130041                           6 Gunn       0       2017     9999   \n",
       "\n",
       "        runtimeMinutes genres  \n",
       "15174               60   None  \n",
       "35698              NaN   None  \n",
       "37070               78   None  \n",
       "37719               87   None  \n",
       "39250              NaN   None  \n",
       "...                ...    ...  \n",
       "9129754            NaN   None  \n",
       "9130014            NaN   None  \n",
       "9130020            NaN   None  \n",
       "9130027            NaN   None  \n",
       "9130041            116   None  \n",
       "\n",
       "[327903 rows x 9 columns]"
      ]
     },
     "execution_count": 96,
     "metadata": {},
     "output_type": "execute_result"
    }
   ],
   "source": [
    "basic2[basic2[\"genres\"].isna()==True]"
   ]
  },
  {
   "cell_type": "code",
   "execution_count": 172,
   "metadata": {},
   "outputs": [],
   "source": [
    "basic2[[\"genre1\", \"genre2\", \"genre3\"]] = basic2[\"genres\"].str.split(',', expand = True)"
   ]
  },
  {
   "cell_type": "code",
   "execution_count": 173,
   "metadata": {},
   "outputs": [],
   "source": [
    "basic2.to_csv('Basic.csv',index=False)"
   ]
  },
  {
   "cell_type": "code",
   "execution_count": 98,
   "metadata": {},
   "outputs": [
    {
     "data": {
      "text/html": [
       "<div>\n",
       "<style scoped>\n",
       "    .dataframe tbody tr th:only-of-type {\n",
       "        vertical-align: middle;\n",
       "    }\n",
       "\n",
       "    .dataframe tbody tr th {\n",
       "        vertical-align: top;\n",
       "    }\n",
       "\n",
       "    .dataframe thead th {\n",
       "        text-align: right;\n",
       "    }\n",
       "</style>\n",
       "<table border=\"1\" class=\"dataframe\">\n",
       "  <thead>\n",
       "    <tr style=\"text-align: right;\">\n",
       "      <th></th>\n",
       "      <th>tconst</th>\n",
       "      <th>averageRating</th>\n",
       "      <th>numVotes</th>\n",
       "    </tr>\n",
       "  </thead>\n",
       "  <tbody>\n",
       "    <tr>\n",
       "      <th>0</th>\n",
       "      <td>tt0000001</td>\n",
       "      <td>5.7</td>\n",
       "      <td>1903</td>\n",
       "    </tr>\n",
       "    <tr>\n",
       "      <th>1</th>\n",
       "      <td>tt0000002</td>\n",
       "      <td>5.9</td>\n",
       "      <td>255</td>\n",
       "    </tr>\n",
       "    <tr>\n",
       "      <th>2</th>\n",
       "      <td>tt0000003</td>\n",
       "      <td>6.5</td>\n",
       "      <td>1698</td>\n",
       "    </tr>\n",
       "    <tr>\n",
       "      <th>3</th>\n",
       "      <td>tt0000004</td>\n",
       "      <td>5.7</td>\n",
       "      <td>167</td>\n",
       "    </tr>\n",
       "    <tr>\n",
       "      <th>4</th>\n",
       "      <td>tt0000005</td>\n",
       "      <td>6.2</td>\n",
       "      <td>2518</td>\n",
       "    </tr>\n",
       "  </tbody>\n",
       "</table>\n",
       "</div>"
      ],
      "text/plain": [
       "      tconst  averageRating  numVotes\n",
       "0  tt0000001            5.7      1903\n",
       "1  tt0000002            5.9       255\n",
       "2  tt0000003            6.5      1698\n",
       "3  tt0000004            5.7       167\n",
       "4  tt0000005            6.2      2518"
      ]
     },
     "execution_count": 98,
     "metadata": {},
     "output_type": "execute_result"
    }
   ],
   "source": [
    "ratings.head()"
   ]
  },
  {
   "cell_type": "code",
   "execution_count": 99,
   "metadata": {},
   "outputs": [],
   "source": [
    "tconst = basic2['tconst']"
   ]
  },
  {
   "cell_type": "code",
   "execution_count": 139,
   "metadata": {},
   "outputs": [
    {
     "data": {
      "text/plain": [
       "11636      tt0011801\n",
       "13079      tt0013274\n",
       "15174      tt0015414\n",
       "15482      tt0015724\n",
       "21267      tt0021617\n",
       "             ...    \n",
       "9130096    tt9916848\n",
       "9130097    tt9916850\n",
       "9130098    tt9916852\n",
       "9130099    tt9916856\n",
       "9130100    tt9916880\n",
       "Name: tconst, Length: 7718618, dtype: object"
      ]
     },
     "execution_count": 139,
     "metadata": {},
     "output_type": "execute_result"
    }
   ],
   "source": [
    "tconst"
   ]
  },
  {
   "cell_type": "code",
   "execution_count": 101,
   "metadata": {},
   "outputs": [],
   "source": [
    "ratings2 = ratings[ratings[\"tconst\"].isin(tconst)==True]"
   ]
  },
  {
   "cell_type": "code",
   "execution_count": 100,
   "metadata": {},
   "outputs": [
    {
     "data": {
      "text/plain": [
       "1259218"
      ]
     },
     "execution_count": 100,
     "metadata": {},
     "output_type": "execute_result"
    }
   ],
   "source": [
    "len(ratings)"
   ]
  },
  {
   "cell_type": "code",
   "execution_count": 102,
   "metadata": {},
   "outputs": [
    {
     "data": {
      "text/plain": [
       "1216615"
      ]
     },
     "execution_count": 102,
     "metadata": {},
     "output_type": "execute_result"
    }
   ],
   "source": [
    "len(ratings2)"
   ]
  },
  {
   "cell_type": "code",
   "execution_count": 103,
   "metadata": {},
   "outputs": [
    {
     "data": {
      "text/plain": [
       "tconst           0\n",
       "averageRating    0\n",
       "numVotes         0\n",
       "dtype: int64"
      ]
     },
     "execution_count": 103,
     "metadata": {},
     "output_type": "execute_result"
    }
   ],
   "source": [
    "ratings2.isna().sum()"
   ]
  },
  {
   "cell_type": "code",
   "execution_count": 104,
   "metadata": {},
   "outputs": [],
   "source": [
    "ratings2.to_csv('ratings.csv', index=False)"
   ]
  },
  {
   "cell_type": "raw",
   "metadata": {},
   "source": []
  },
  {
   "cell_type": "code",
   "execution_count": 34,
   "metadata": {},
   "outputs": [
    {
     "data": {
      "text/plain": [
       "dict_keys(['name', 'aka', 'basics', 'crew', 'episodes', 'principals', 'ratings'])"
      ]
     },
     "execution_count": 34,
     "metadata": {},
     "output_type": "execute_result"
    }
   ],
   "source": [
    "files.keys()"
   ]
  },
  {
   "cell_type": "code",
   "execution_count": 105,
   "metadata": {},
   "outputs": [
    {
     "data": {
      "text/html": [
       "<div>\n",
       "<style scoped>\n",
       "    .dataframe tbody tr th:only-of-type {\n",
       "        vertical-align: middle;\n",
       "    }\n",
       "\n",
       "    .dataframe tbody tr th {\n",
       "        vertical-align: top;\n",
       "    }\n",
       "\n",
       "    .dataframe thead th {\n",
       "        text-align: right;\n",
       "    }\n",
       "</style>\n",
       "<table border=\"1\" class=\"dataframe\">\n",
       "  <thead>\n",
       "    <tr style=\"text-align: right;\">\n",
       "      <th></th>\n",
       "      <th>titleId</th>\n",
       "      <th>ordering</th>\n",
       "      <th>title</th>\n",
       "      <th>region</th>\n",
       "      <th>language</th>\n",
       "      <th>types</th>\n",
       "      <th>attributes</th>\n",
       "      <th>isOriginalTitle</th>\n",
       "    </tr>\n",
       "  </thead>\n",
       "  <tbody>\n",
       "    <tr>\n",
       "      <th>0</th>\n",
       "      <td>tt0000001</td>\n",
       "      <td>1</td>\n",
       "      <td>Карменсіта</td>\n",
       "      <td>UA</td>\n",
       "      <td>\\N</td>\n",
       "      <td>imdbDisplay</td>\n",
       "      <td>\\N</td>\n",
       "      <td>0</td>\n",
       "    </tr>\n",
       "    <tr>\n",
       "      <th>1</th>\n",
       "      <td>tt0000001</td>\n",
       "      <td>2</td>\n",
       "      <td>Carmencita</td>\n",
       "      <td>DE</td>\n",
       "      <td>\\N</td>\n",
       "      <td>\\N</td>\n",
       "      <td>literal title</td>\n",
       "      <td>0</td>\n",
       "    </tr>\n",
       "    <tr>\n",
       "      <th>2</th>\n",
       "      <td>tt0000001</td>\n",
       "      <td>3</td>\n",
       "      <td>Carmencita - spanyol tánc</td>\n",
       "      <td>HU</td>\n",
       "      <td>\\N</td>\n",
       "      <td>imdbDisplay</td>\n",
       "      <td>\\N</td>\n",
       "      <td>0</td>\n",
       "    </tr>\n",
       "    <tr>\n",
       "      <th>3</th>\n",
       "      <td>tt0000001</td>\n",
       "      <td>4</td>\n",
       "      <td>Καρμενσίτα</td>\n",
       "      <td>GR</td>\n",
       "      <td>\\N</td>\n",
       "      <td>imdbDisplay</td>\n",
       "      <td>\\N</td>\n",
       "      <td>0</td>\n",
       "    </tr>\n",
       "    <tr>\n",
       "      <th>4</th>\n",
       "      <td>tt0000001</td>\n",
       "      <td>5</td>\n",
       "      <td>Карменсита</td>\n",
       "      <td>RU</td>\n",
       "      <td>\\N</td>\n",
       "      <td>imdbDisplay</td>\n",
       "      <td>\\N</td>\n",
       "      <td>0</td>\n",
       "    </tr>\n",
       "  </tbody>\n",
       "</table>\n",
       "</div>"
      ],
      "text/plain": [
       "     titleId  ordering                      title region language  \\\n",
       "0  tt0000001         1                 Карменсіта     UA       \\N   \n",
       "1  tt0000001         2                 Carmencita     DE       \\N   \n",
       "2  tt0000001         3  Carmencita - spanyol tánc     HU       \\N   \n",
       "3  tt0000001         4                 Καρμενσίτα     GR       \\N   \n",
       "4  tt0000001         5                 Карменсита     RU       \\N   \n",
       "\n",
       "         types     attributes isOriginalTitle  \n",
       "0  imdbDisplay             \\N               0  \n",
       "1           \\N  literal title               0  \n",
       "2  imdbDisplay             \\N               0  \n",
       "3  imdbDisplay             \\N               0  \n",
       "4  imdbDisplay             \\N               0  "
      ]
     },
     "execution_count": 105,
     "metadata": {},
     "output_type": "execute_result"
    }
   ],
   "source": [
    "aka.head()"
   ]
  },
  {
   "cell_type": "code",
   "execution_count": 106,
   "metadata": {},
   "outputs": [
    {
     "name": "stdout",
     "output_type": "stream",
     "text": [
      "<class 'pandas.core.frame.DataFrame'>\n",
      "RangeIndex: 32765327 entries, 0 to 32765326\n",
      "Data columns (total 8 columns):\n",
      " #   Column           Dtype \n",
      "---  ------           ----- \n",
      " 0   titleId          object\n",
      " 1   ordering         int64 \n",
      " 2   title            object\n",
      " 3   region           object\n",
      " 4   language         object\n",
      " 5   types            object\n",
      " 6   attributes       object\n",
      " 7   isOriginalTitle  object\n",
      "dtypes: int64(1), object(7)\n",
      "memory usage: 2.0+ GB\n"
     ]
    }
   ],
   "source": [
    "aka.info()"
   ]
  },
  {
   "cell_type": "code",
   "execution_count": 107,
   "metadata": {},
   "outputs": [
    {
     "data": {
      "text/plain": [
       "titleId              0\n",
       "ordering             0\n",
       "title                5\n",
       "region             104\n",
       "language             0\n",
       "types                0\n",
       "attributes           0\n",
       "isOriginalTitle      0\n",
       "dtype: int64"
      ]
     },
     "execution_count": 107,
     "metadata": {},
     "output_type": "execute_result"
    }
   ],
   "source": [
    "aka.isna().sum()"
   ]
  },
  {
   "cell_type": "code",
   "execution_count": 108,
   "metadata": {},
   "outputs": [
    {
     "data": {
      "text/html": [
       "<div>\n",
       "<style scoped>\n",
       "    .dataframe tbody tr th:only-of-type {\n",
       "        vertical-align: middle;\n",
       "    }\n",
       "\n",
       "    .dataframe tbody tr th {\n",
       "        vertical-align: top;\n",
       "    }\n",
       "\n",
       "    .dataframe thead th {\n",
       "        text-align: right;\n",
       "    }\n",
       "</style>\n",
       "<table border=\"1\" class=\"dataframe\">\n",
       "  <thead>\n",
       "    <tr style=\"text-align: right;\">\n",
       "      <th></th>\n",
       "      <th>titleId</th>\n",
       "      <th>ordering</th>\n",
       "      <th>title</th>\n",
       "      <th>region</th>\n",
       "      <th>language</th>\n",
       "      <th>types</th>\n",
       "      <th>attributes</th>\n",
       "      <th>isOriginalTitle</th>\n",
       "    </tr>\n",
       "  </thead>\n",
       "  <tbody>\n",
       "    <tr>\n",
       "      <th>1599256</th>\n",
       "      <td>tt0319739</td>\n",
       "      <td>2</td>\n",
       "      <td>Leni Riefenstahl im Sudan</td>\n",
       "      <td>NaN</td>\n",
       "      <td>\\N</td>\n",
       "      <td>imdbDisplay</td>\n",
       "      <td>\\N</td>\n",
       "      <td>0</td>\n",
       "    </tr>\n",
       "    <tr>\n",
       "      <th>1603382</th>\n",
       "      <td>tt0321284</td>\n",
       "      <td>1</td>\n",
       "      <td>An Argument About a Marriage</td>\n",
       "      <td>NaN</td>\n",
       "      <td>\\N</td>\n",
       "      <td>imdbDisplay</td>\n",
       "      <td>\\N</td>\n",
       "      <td>0</td>\n",
       "    </tr>\n",
       "    <tr>\n",
       "      <th>1603624</th>\n",
       "      <td>tt0321379</td>\n",
       "      <td>1</td>\n",
       "      <td>Baobab Play</td>\n",
       "      <td>NaN</td>\n",
       "      <td>\\N</td>\n",
       "      <td>imdbDisplay</td>\n",
       "      <td>\\N</td>\n",
       "      <td>0</td>\n",
       "    </tr>\n",
       "    <tr>\n",
       "      <th>1618061</th>\n",
       "      <td>tt0326513</td>\n",
       "      <td>1</td>\n",
       "      <td>Bitter Melons</td>\n",
       "      <td>NaN</td>\n",
       "      <td>\\N</td>\n",
       "      <td>imdbDisplay</td>\n",
       "      <td>\\N</td>\n",
       "      <td>0</td>\n",
       "    </tr>\n",
       "    <tr>\n",
       "      <th>2906764</th>\n",
       "      <td>tt0855839</td>\n",
       "      <td>1</td>\n",
       "      <td>Imiti ikula</td>\n",
       "      <td>NaN</td>\n",
       "      <td>\\N</td>\n",
       "      <td>imdbDisplay</td>\n",
       "      <td>\\N</td>\n",
       "      <td>0</td>\n",
       "    </tr>\n",
       "    <tr>\n",
       "      <th>...</th>\n",
       "      <td>...</td>\n",
       "      <td>...</td>\n",
       "      <td>...</td>\n",
       "      <td>...</td>\n",
       "      <td>...</td>\n",
       "      <td>...</td>\n",
       "      <td>...</td>\n",
       "      <td>...</td>\n",
       "    </tr>\n",
       "    <tr>\n",
       "      <th>30666082</th>\n",
       "      <td>tt8790692</td>\n",
       "      <td>1</td>\n",
       "      <td>Journey To The Dead</td>\n",
       "      <td>NaN</td>\n",
       "      <td>\\N</td>\n",
       "      <td>imdbDisplay</td>\n",
       "      <td>\\N</td>\n",
       "      <td>0</td>\n",
       "    </tr>\n",
       "    <tr>\n",
       "      <th>30888384</th>\n",
       "      <td>tt8914498</td>\n",
       "      <td>2</td>\n",
       "      <td>Wrong Way to Hell (After-Life)</td>\n",
       "      <td>NaN</td>\n",
       "      <td>\\N</td>\n",
       "      <td>imdbDisplay</td>\n",
       "      <td>\\N</td>\n",
       "      <td>0</td>\n",
       "    </tr>\n",
       "    <tr>\n",
       "      <th>31196000</th>\n",
       "      <td>tt9093870</td>\n",
       "      <td>1</td>\n",
       "      <td>The White Line</td>\n",
       "      <td>NaN</td>\n",
       "      <td>\\N</td>\n",
       "      <td>imdbDisplay</td>\n",
       "      <td>\\N</td>\n",
       "      <td>0</td>\n",
       "    </tr>\n",
       "    <tr>\n",
       "      <th>31396517</th>\n",
       "      <td>tt9199110</td>\n",
       "      <td>1</td>\n",
       "      <td>The Wind on your Skin</td>\n",
       "      <td>NaN</td>\n",
       "      <td>\\N</td>\n",
       "      <td>imdbDisplay</td>\n",
       "      <td>\\N</td>\n",
       "      <td>0</td>\n",
       "    </tr>\n",
       "    <tr>\n",
       "      <th>32371865</th>\n",
       "      <td>tt9712026</td>\n",
       "      <td>1</td>\n",
       "      <td>Paths to Freedom</td>\n",
       "      <td>NaN</td>\n",
       "      <td>\\N</td>\n",
       "      <td>imdbDisplay</td>\n",
       "      <td>\\N</td>\n",
       "      <td>0</td>\n",
       "    </tr>\n",
       "  </tbody>\n",
       "</table>\n",
       "<p>104 rows × 8 columns</p>\n",
       "</div>"
      ],
      "text/plain": [
       "            titleId  ordering                           title region language  \\\n",
       "1599256   tt0319739         2       Leni Riefenstahl im Sudan    NaN       \\N   \n",
       "1603382   tt0321284         1    An Argument About a Marriage    NaN       \\N   \n",
       "1603624   tt0321379         1                     Baobab Play    NaN       \\N   \n",
       "1618061   tt0326513         1                   Bitter Melons    NaN       \\N   \n",
       "2906764   tt0855839         1                     Imiti ikula    NaN       \\N   \n",
       "...             ...       ...                             ...    ...      ...   \n",
       "30666082  tt8790692         1             Journey To The Dead    NaN       \\N   \n",
       "30888384  tt8914498         2  Wrong Way to Hell (After-Life)    NaN       \\N   \n",
       "31196000  tt9093870         1                  The White Line    NaN       \\N   \n",
       "31396517  tt9199110         1           The Wind on your Skin    NaN       \\N   \n",
       "32371865  tt9712026         1                Paths to Freedom    NaN       \\N   \n",
       "\n",
       "                types attributes isOriginalTitle  \n",
       "1599256   imdbDisplay         \\N               0  \n",
       "1603382   imdbDisplay         \\N               0  \n",
       "1603624   imdbDisplay         \\N               0  \n",
       "1618061   imdbDisplay         \\N               0  \n",
       "2906764   imdbDisplay         \\N               0  \n",
       "...               ...        ...             ...  \n",
       "30666082  imdbDisplay         \\N               0  \n",
       "30888384  imdbDisplay         \\N               0  \n",
       "31196000  imdbDisplay         \\N               0  \n",
       "31396517  imdbDisplay         \\N               0  \n",
       "32371865  imdbDisplay         \\N               0  \n",
       "\n",
       "[104 rows x 8 columns]"
      ]
     },
     "execution_count": 108,
     "metadata": {},
     "output_type": "execute_result"
    }
   ],
   "source": [
    "aka[aka[\"region\"].isna()==True]"
   ]
  },
  {
   "cell_type": "code",
   "execution_count": 40,
   "metadata": {},
   "outputs": [
    {
     "data": {
      "text/plain": [
       "11636      tt0011801\n",
       "13079      tt0013274\n",
       "15174      tt0015414\n",
       "15482      tt0015724\n",
       "21267      tt0021617\n",
       "             ...    \n",
       "9130096    tt9916848\n",
       "9130097    tt9916850\n",
       "9130098    tt9916852\n",
       "9130099    tt9916856\n",
       "9130100    tt9916880\n",
       "Name: tconst, Length: 7718618, dtype: object"
      ]
     },
     "execution_count": 40,
     "metadata": {},
     "output_type": "execute_result"
    }
   ],
   "source": [
    "tconst"
   ]
  },
  {
   "cell_type": "code",
   "execution_count": 56,
   "metadata": {},
   "outputs": [
    {
     "data": {
      "text/plain": [
       "7718618"
      ]
     },
     "execution_count": 56,
     "metadata": {},
     "output_type": "execute_result"
    }
   ],
   "source": [
    "len(tconst)"
   ]
  },
  {
   "cell_type": "code",
   "execution_count": 109,
   "metadata": {},
   "outputs": [
    {
     "data": {
      "text/plain": [
       "\\N     6205718\n",
       "ja     3779636\n",
       "fr     3745901\n",
       "hi     3716869\n",
       "es     3695296\n",
       "        ...   \n",
       "rm           1\n",
       "rn           1\n",
       "eka          1\n",
       "sq           1\n",
       "cr           1\n",
       "Name: language, Length: 107, dtype: int64"
      ]
     },
     "execution_count": 109,
     "metadata": {},
     "output_type": "execute_result"
    }
   ],
   "source": [
    "aka[\"language\"].value_counts()"
   ]
  },
  {
   "cell_type": "code",
   "execution_count": 110,
   "metadata": {},
   "outputs": [
    {
     "data": {
      "text/plain": [
       "0     18613528\n",
       "0     12365353\n",
       "1      1307229\n",
       "1       477030\n",
       "\\N        2187\n",
       "Name: isOriginalTitle, dtype: int64"
      ]
     },
     "execution_count": 110,
     "metadata": {},
     "output_type": "execute_result"
    }
   ],
   "source": [
    "aka[\"isOriginalTitle\"].value_counts()"
   ]
  },
  {
   "cell_type": "code",
   "execution_count": 111,
   "metadata": {},
   "outputs": [
    {
     "data": {
      "text/plain": [
       "\\N                                     32521334\n",
       "transliterated title                      26941\n",
       "alternative spelling                      18100\n",
       "new title                                 17545\n",
       "literal English title                     14689\n",
       "                                         ...   \n",
       "POLart                                        1\n",
       "8mm release title\u0002second part title           1\n",
       "first three episodes title                    1\n",
       "X-rated version\u0002bootleg title                 1\n",
       "YIVO translation\u0002reissue title                1\n",
       "Name: attributes, Length: 188, dtype: int64"
      ]
     },
     "execution_count": 111,
     "metadata": {},
     "output_type": "execute_result"
    }
   ],
   "source": [
    "aka[\"attributes\"].value_counts()"
   ]
  },
  {
   "cell_type": "code",
   "execution_count": 112,
   "metadata": {},
   "outputs": [
    {
     "data": {
      "text/plain": [
       "\\N                      27530046\n",
       "imdbDisplay              3220015\n",
       "original                 1784260\n",
       "alternative               100459\n",
       "working                    52137\n",
       "dvd                        21740\n",
       "video                      20323\n",
       "tv                         18278\n",
       "festival                   17584\n",
       "dvd\u0002imdbDisplay              242\n",
       "imdbDisplay\u0002tv                74\n",
       "festival\u0002imdbDisplay          66\n",
       "imdbDisplay\u0002working           31\n",
       "imdbDisplay\u0002video             26\n",
       "alternative\u0002tv                 9\n",
       "tv\u0002video                       7\n",
       "alternative\u0002dvd                6\n",
       "alternative\u0002working            6\n",
       "video\u0002working                  5\n",
       "tv\u0002working                     4\n",
       "festival\u0002working               3\n",
       "alternative\u0002video              2\n",
       "dvd\u0002video                      2\n",
       "alternative\u0002festival           2\n",
       "Name: types, dtype: int64"
      ]
     },
     "execution_count": 112,
     "metadata": {},
     "output_type": "execute_result"
    }
   ],
   "source": [
    "aka[\"types\"].value_counts()"
   ]
  },
  {
   "cell_type": "code",
   "execution_count": 113,
   "metadata": {},
   "outputs": [
    {
     "data": {
      "text/plain": [
       "FR    3910951\n",
       "JP    3910187\n",
       "DE    3893850\n",
       "IN    3838039\n",
       "ES    3834110\n",
       "       ...   \n",
       "NR          1\n",
       "NU          1\n",
       "PW          1\n",
       "TV          1\n",
       "TC          1\n",
       "Name: region, Length: 247, dtype: int64"
      ]
     },
     "execution_count": 113,
     "metadata": {},
     "output_type": "execute_result"
    }
   ],
   "source": [
    "aka[\"region\"].value_counts()"
   ]
  },
  {
   "cell_type": "code",
   "execution_count": 114,
   "metadata": {},
   "outputs": [
    {
     "data": {
      "text/plain": [
       "1      6465301\n",
       "2      5476868\n",
       "3      4238714\n",
       "4      3993851\n",
       "5      3916501\n",
       "        ...   \n",
       "209          1\n",
       "210          1\n",
       "211          1\n",
       "212          1\n",
       "246          1\n",
       "Name: ordering, Length: 246, dtype: int64"
      ]
     },
     "execution_count": 114,
     "metadata": {},
     "output_type": "execute_result"
    }
   ],
   "source": [
    "aka[\"ordering\"].value_counts()"
   ]
  },
  {
   "cell_type": "code",
   "execution_count": 115,
   "metadata": {},
   "outputs": [],
   "source": [
    "aka[\"language\"].replace('\\\\N', None, inplace=True)\n",
    "aka[\"types\"].replace('\\\\N', None, inplace=True)\n",
    "aka[\"attributes\"].replace('\\\\N', None, inplace=True)"
   ]
  },
  {
   "cell_type": "code",
   "execution_count": 116,
   "metadata": {},
   "outputs": [
    {
     "data": {
      "text/plain": [
       "Index(['titleId', 'ordering', 'title', 'region', 'language', 'types',\n",
       "       'attributes', 'isOriginalTitle'],\n",
       "      dtype='object')"
      ]
     },
     "execution_count": 116,
     "metadata": {},
     "output_type": "execute_result"
    }
   ],
   "source": [
    "aka.columns"
   ]
  },
  {
   "cell_type": "code",
   "execution_count": 117,
   "metadata": {},
   "outputs": [],
   "source": [
    "aka2 = aka[aka[\"titleId\"].isin(tconst)==True]"
   ]
  },
  {
   "cell_type": "code",
   "execution_count": 118,
   "metadata": {},
   "outputs": [
    {
     "name": "stdout",
     "output_type": "stream",
     "text": [
      "aka2 :  25224093\n",
      "aka :  32765327\n"
     ]
    }
   ],
   "source": [
    "print(\"aka2 : \", len(aka2))\n",
    "print(\"aka : \", len(aka))"
   ]
  },
  {
   "cell_type": "code",
   "execution_count": 119,
   "metadata": {},
   "outputs": [],
   "source": [
    "aka2.to_csv(\"aka.csv\", index=False)"
   ]
  },
  {
   "cell_type": "code",
   "execution_count": 135,
   "metadata": {},
   "outputs": [
    {
     "data": {
      "text/plain": [
       "dict_keys(['name', 'aka', 'basics', 'crew', 'episodes', 'principals', 'ratings'])"
      ]
     },
     "execution_count": 135,
     "metadata": {},
     "output_type": "execute_result"
    }
   ],
   "source": [
    "files.keys()"
   ]
  },
  {
   "cell_type": "code",
   "execution_count": 120,
   "metadata": {},
   "outputs": [
    {
     "data": {
      "text/html": [
       "<div>\n",
       "<style scoped>\n",
       "    .dataframe tbody tr th:only-of-type {\n",
       "        vertical-align: middle;\n",
       "    }\n",
       "\n",
       "    .dataframe tbody tr th {\n",
       "        vertical-align: top;\n",
       "    }\n",
       "\n",
       "    .dataframe thead th {\n",
       "        text-align: right;\n",
       "    }\n",
       "</style>\n",
       "<table border=\"1\" class=\"dataframe\">\n",
       "  <thead>\n",
       "    <tr style=\"text-align: right;\">\n",
       "      <th></th>\n",
       "      <th>tconst</th>\n",
       "      <th>ordering</th>\n",
       "      <th>nconst</th>\n",
       "      <th>category</th>\n",
       "      <th>job</th>\n",
       "      <th>characters</th>\n",
       "    </tr>\n",
       "  </thead>\n",
       "  <tbody>\n",
       "    <tr>\n",
       "      <th>0</th>\n",
       "      <td>tt0000001</td>\n",
       "      <td>1</td>\n",
       "      <td>nm1588970</td>\n",
       "      <td>self</td>\n",
       "      <td>\\N</td>\n",
       "      <td>[\"Self\"]</td>\n",
       "    </tr>\n",
       "    <tr>\n",
       "      <th>1</th>\n",
       "      <td>tt0000001</td>\n",
       "      <td>2</td>\n",
       "      <td>nm0005690</td>\n",
       "      <td>director</td>\n",
       "      <td>\\N</td>\n",
       "      <td>\\N</td>\n",
       "    </tr>\n",
       "    <tr>\n",
       "      <th>2</th>\n",
       "      <td>tt0000001</td>\n",
       "      <td>3</td>\n",
       "      <td>nm0374658</td>\n",
       "      <td>cinematographer</td>\n",
       "      <td>director of photography</td>\n",
       "      <td>\\N</td>\n",
       "    </tr>\n",
       "    <tr>\n",
       "      <th>3</th>\n",
       "      <td>tt0000002</td>\n",
       "      <td>1</td>\n",
       "      <td>nm0721526</td>\n",
       "      <td>director</td>\n",
       "      <td>\\N</td>\n",
       "      <td>\\N</td>\n",
       "    </tr>\n",
       "    <tr>\n",
       "      <th>4</th>\n",
       "      <td>tt0000002</td>\n",
       "      <td>2</td>\n",
       "      <td>nm1335271</td>\n",
       "      <td>composer</td>\n",
       "      <td>\\N</td>\n",
       "      <td>\\N</td>\n",
       "    </tr>\n",
       "  </tbody>\n",
       "</table>\n",
       "</div>"
      ],
      "text/plain": [
       "      tconst  ordering     nconst         category                      job  \\\n",
       "0  tt0000001         1  nm1588970             self                       \\N   \n",
       "1  tt0000001         2  nm0005690         director                       \\N   \n",
       "2  tt0000001         3  nm0374658  cinematographer  director of photography   \n",
       "3  tt0000002         1  nm0721526         director                       \\N   \n",
       "4  tt0000002         2  nm1335271         composer                       \\N   \n",
       "\n",
       "  characters  \n",
       "0   [\"Self\"]  \n",
       "1         \\N  \n",
       "2         \\N  \n",
       "3         \\N  \n",
       "4         \\N  "
      ]
     },
     "execution_count": 120,
     "metadata": {},
     "output_type": "execute_result"
    }
   ],
   "source": [
    "principals.head()"
   ]
  },
  {
   "cell_type": "code",
   "execution_count": 129,
   "metadata": {},
   "outputs": [
    {
     "data": {
      "text/plain": [
       "'51,502,123'"
      ]
     },
     "execution_count": 129,
     "metadata": {},
     "output_type": "execute_result"
    }
   ],
   "source": [
    "'{:,}'.format(len(principals))"
   ]
  },
  {
   "cell_type": "code",
   "execution_count": 122,
   "metadata": {},
   "outputs": [
    {
     "data": {
      "text/plain": [
       "tconst        0\n",
       "ordering      0\n",
       "nconst        0\n",
       "category      0\n",
       "job           0\n",
       "characters    0\n",
       "dtype: int64"
      ]
     },
     "execution_count": 122,
     "metadata": {},
     "output_type": "execute_result"
    }
   ],
   "source": [
    "principals.isna().sum()"
   ]
  },
  {
   "cell_type": "code",
   "execution_count": 131,
   "metadata": {},
   "outputs": [
    {
     "data": {
      "text/plain": [
       "\\N                                   43058920\n",
       "producer                              3264393\n",
       "writer                                 930499\n",
       "written by                             487390\n",
       "creator                                463147\n",
       "                                       ...   \n",
       "video game \"Dungeon Siege\"                  1\n",
       "novel \"Truth Will Prevail\"                  1\n",
       "play \"Klaara ja hänen Vihtorinsa\"           1\n",
       "novel \"The Lost Country\"                    1\n",
       "sceennplay                                  1\n",
       "Name: job, Length: 37759, dtype: int64"
      ]
     },
     "execution_count": 131,
     "metadata": {},
     "output_type": "execute_result"
    }
   ],
   "source": [
    "principals[\"job\"].value_counts()"
   ]
  },
  {
   "cell_type": "code",
   "execution_count": 132,
   "metadata": {},
   "outputs": [
    {
     "data": {
      "text/plain": [
       "\\N                          26313054\n",
       "[\"Self\"]                     3821700\n",
       "[\"Self - Host\"]              1543560\n",
       "[\"Self - Guest\"]              279702\n",
       "[\"Self - Presenter\"]          271603\n",
       "                              ...   \n",
       "[\"Éric Nardier\"]                   1\n",
       "[\"Brigitte Nardier\"]               1\n",
       "[\"Martin Martienzen\"]              1\n",
       "[\"plk. Vladimír Kempný\"]           1\n",
       "[\"Judah Harris\"]                   1\n",
       "Name: characters, Length: 2633328, dtype: int64"
      ]
     },
     "execution_count": 132,
     "metadata": {},
     "output_type": "execute_result"
    }
   ],
   "source": [
    "principals[\"characters\"].value_counts()"
   ]
  },
  {
   "cell_type": "code",
   "execution_count": 133,
   "metadata": {},
   "outputs": [
    {
     "data": {
      "text/plain": [
       "actor                  11418706\n",
       "self                    8957547\n",
       "actress                 8766843\n",
       "writer                  7142800\n",
       "director                5949697\n",
       "producer                3322908\n",
       "cinematographer         1787930\n",
       "composer                1759417\n",
       "editor                  1715954\n",
       "production_designer      346405\n",
       "archive_footage          330264\n",
       "archive_sound              3652\n",
       "Name: category, dtype: int64"
      ]
     },
     "execution_count": 133,
     "metadata": {},
     "output_type": "execute_result"
    }
   ],
   "source": [
    "principals[\"category\"].value_counts()"
   ]
  },
  {
   "cell_type": "code",
   "execution_count": 136,
   "metadata": {},
   "outputs": [
    {
     "data": {
      "text/plain": [
       "nm0914844     24264\n",
       "nm0934807     16486\n",
       "nm6352729     16093\n",
       "nm0438471     14412\n",
       "nm0438506     14246\n",
       "              ...  \n",
       "nm7037630         1\n",
       "nm13362012        1\n",
       "nm2487574         1\n",
       "nm13362030        1\n",
       "nm10538653        1\n",
       "Name: nconst, Length: 4751103, dtype: int64"
      ]
     },
     "execution_count": 136,
     "metadata": {},
     "output_type": "execute_result"
    }
   ],
   "source": [
    "principals[\"nconst\"].value_counts()"
   ]
  },
  {
   "cell_type": "code",
   "execution_count": 137,
   "metadata": {},
   "outputs": [],
   "source": [
    "principals[\"characters\"].replace('\\\\N', None, inplace=True)\n",
    "principals[\"job\"].replace('\\\\N', None, inplace=True)"
   ]
  },
  {
   "cell_type": "code",
   "execution_count": 138,
   "metadata": {},
   "outputs": [
    {
     "data": {
      "text/plain": [
       "[\"Self\"]                    3821700\n",
       "[\"Self - Host\"]             1543560\n",
       "[\"Self - Guest\"]             279702\n",
       "[\"Self - Presenter\"]         271603\n",
       "[\"Self - Panelist\"]          214695\n",
       "                             ...   \n",
       "[\"Éric Nardier\"]                  1\n",
       "[\"Brigitte Nardier\"]              1\n",
       "[\"Martin Martienzen\"]             1\n",
       "[\"plk. Vladimír Kempný\"]          1\n",
       "[\"Judah Harris\"]                  1\n",
       "Name: characters, Length: 2633327, dtype: int64"
      ]
     },
     "execution_count": 138,
     "metadata": {},
     "output_type": "execute_result"
    }
   ],
   "source": [
    "principals[\"characters\"].value_counts()"
   ]
  },
  {
   "cell_type": "code",
   "execution_count": 141,
   "metadata": {},
   "outputs": [],
   "source": [
    "principals2 = principals[principals[\"tconst\"].isin(tconst)==True]"
   ]
  },
  {
   "cell_type": "code",
   "execution_count": 146,
   "metadata": {},
   "outputs": [
    {
     "name": "stdout",
     "output_type": "stream",
     "text": [
      "OLD -->  51,502,123  : NEW -->   44,601,599\n"
     ]
    }
   ],
   "source": [
    "print(\"OLD --> \",'{:,}'.format(len(principals)),\" : NEW -->  \", '{:,}'.format(len(principals2)))"
   ]
  },
  {
   "cell_type": "code",
   "execution_count": 147,
   "metadata": {},
   "outputs": [],
   "source": [
    "principals2.to_csv('principals.csv', index=False)"
   ]
  },
  {
   "cell_type": "code",
   "execution_count": 143,
   "metadata": {},
   "outputs": [
    {
     "data": {
      "text/plain": [
       "dict_keys(['name', 'aka', 'basics', 'crew', 'episodes', 'principals', 'ratings'])"
      ]
     },
     "execution_count": 143,
     "metadata": {},
     "output_type": "execute_result"
    }
   ],
   "source": [
    "files.keys()"
   ]
  },
  {
   "cell_type": "code",
   "execution_count": 148,
   "metadata": {},
   "outputs": [
    {
     "data": {
      "text/html": [
       "<div>\n",
       "<style scoped>\n",
       "    .dataframe tbody tr th:only-of-type {\n",
       "        vertical-align: middle;\n",
       "    }\n",
       "\n",
       "    .dataframe tbody tr th {\n",
       "        vertical-align: top;\n",
       "    }\n",
       "\n",
       "    .dataframe thead th {\n",
       "        text-align: right;\n",
       "    }\n",
       "</style>\n",
       "<table border=\"1\" class=\"dataframe\">\n",
       "  <thead>\n",
       "    <tr style=\"text-align: right;\">\n",
       "      <th></th>\n",
       "      <th>nconst</th>\n",
       "      <th>primaryName</th>\n",
       "      <th>birthYear</th>\n",
       "      <th>deathYear</th>\n",
       "      <th>primaryProfession</th>\n",
       "      <th>knownForTitles</th>\n",
       "    </tr>\n",
       "  </thead>\n",
       "  <tbody>\n",
       "    <tr>\n",
       "      <th>0</th>\n",
       "      <td>nm0000001</td>\n",
       "      <td>Fred Astaire</td>\n",
       "      <td>1899</td>\n",
       "      <td>1987</td>\n",
       "      <td>soundtrack,actor,miscellaneous</td>\n",
       "      <td>tt0031983,tt0050419,tt0053137,tt0072308</td>\n",
       "    </tr>\n",
       "    <tr>\n",
       "      <th>1</th>\n",
       "      <td>nm0000002</td>\n",
       "      <td>Lauren Bacall</td>\n",
       "      <td>1924</td>\n",
       "      <td>2014</td>\n",
       "      <td>actress,soundtrack</td>\n",
       "      <td>tt0071877,tt0038355,tt0037382,tt0117057</td>\n",
       "    </tr>\n",
       "    <tr>\n",
       "      <th>2</th>\n",
       "      <td>nm0000003</td>\n",
       "      <td>Brigitte Bardot</td>\n",
       "      <td>1934</td>\n",
       "      <td>\\N</td>\n",
       "      <td>actress,soundtrack,music_department</td>\n",
       "      <td>tt0049189,tt0054452,tt0057345,tt0056404</td>\n",
       "    </tr>\n",
       "    <tr>\n",
       "      <th>3</th>\n",
       "      <td>nm0000004</td>\n",
       "      <td>John Belushi</td>\n",
       "      <td>1949</td>\n",
       "      <td>1982</td>\n",
       "      <td>actor,soundtrack,writer</td>\n",
       "      <td>tt0077975,tt0072562,tt0080455,tt0078723</td>\n",
       "    </tr>\n",
       "    <tr>\n",
       "      <th>4</th>\n",
       "      <td>nm0000005</td>\n",
       "      <td>Ingmar Bergman</td>\n",
       "      <td>1918</td>\n",
       "      <td>2007</td>\n",
       "      <td>writer,director,actor</td>\n",
       "      <td>tt0083922,tt0050976,tt0050986,tt0060827</td>\n",
       "    </tr>\n",
       "  </tbody>\n",
       "</table>\n",
       "</div>"
      ],
      "text/plain": [
       "      nconst      primaryName birthYear deathYear  \\\n",
       "0  nm0000001     Fred Astaire      1899      1987   \n",
       "1  nm0000002    Lauren Bacall      1924      2014   \n",
       "2  nm0000003  Brigitte Bardot      1934        \\N   \n",
       "3  nm0000004     John Belushi      1949      1982   \n",
       "4  nm0000005   Ingmar Bergman      1918      2007   \n",
       "\n",
       "                     primaryProfession  \\\n",
       "0       soundtrack,actor,miscellaneous   \n",
       "1                   actress,soundtrack   \n",
       "2  actress,soundtrack,music_department   \n",
       "3              actor,soundtrack,writer   \n",
       "4                writer,director,actor   \n",
       "\n",
       "                            knownForTitles  \n",
       "0  tt0031983,tt0050419,tt0053137,tt0072308  \n",
       "1  tt0071877,tt0038355,tt0037382,tt0117057  \n",
       "2  tt0049189,tt0054452,tt0057345,tt0056404  \n",
       "3  tt0077975,tt0072562,tt0080455,tt0078723  \n",
       "4  tt0083922,tt0050976,tt0050986,tt0060827  "
      ]
     },
     "execution_count": 148,
     "metadata": {},
     "output_type": "execute_result"
    }
   ],
   "source": [
    "name.head()"
   ]
  },
  {
   "cell_type": "code",
   "execution_count": 151,
   "metadata": {},
   "outputs": [
    {
     "data": {
      "text/plain": [
       "'11,832,859'"
      ]
     },
     "execution_count": 151,
     "metadata": {},
     "output_type": "execute_result"
    }
   ],
   "source": [
    "'{:,}'.format(len(name))"
   ]
  },
  {
   "cell_type": "code",
   "execution_count": 152,
   "metadata": {},
   "outputs": [
    {
     "data": {
      "text/plain": [
       "nconst                     0\n",
       "primaryName                0\n",
       "birthYear                  0\n",
       "deathYear                  0\n",
       "primaryProfession    2540898\n",
       "knownForTitles             0\n",
       "dtype: int64"
      ]
     },
     "execution_count": 152,
     "metadata": {},
     "output_type": "execute_result"
    }
   ],
   "source": [
    "name.isna().sum()"
   ]
  },
  {
   "cell_type": "code",
   "execution_count": 155,
   "metadata": {},
   "outputs": [
    {
     "data": {
      "text/plain": [
       "11832854    tt14069590,tt2455546,tt11657662\n",
       "11832855                                 \\N\n",
       "11832856                          tt8736744\n",
       "11832857                                 \\N\n",
       "11832858                                 \\N\n",
       "Name: knownForTitles, dtype: object"
      ]
     },
     "execution_count": 155,
     "metadata": {},
     "output_type": "execute_result"
    }
   ],
   "source": [
    "name[\"knownForTitles\"].tail()"
   ]
  },
  {
   "cell_type": "code",
   "execution_count": 160,
   "metadata": {},
   "outputs": [],
   "source": [
    " name[[\"title1\", \"title2\", \"title3\", \"title4\", \"title5\", \"title6\"]] = name[\"knownForTitles\"].str.split(',', expand=True)"
   ]
  },
  {
   "cell_type": "code",
   "execution_count": 163,
   "metadata": {},
   "outputs": [],
   "source": [
    "name2 = name[((name[\"title1\"].isin(tconst)==True) | \n",
    "      (name[\"title2\"].isin(tconst)==True) | \n",
    "      (name[\"title3\"].isin(tconst)==True) | \n",
    "      (name[\"title4\"].isin(tconst)==True) | \n",
    "      (name[\"title5\"].isin(tconst)==True) | \n",
    "      (name[\"title6\"].isin(tconst)==True))]"
   ]
  },
  {
   "cell_type": "code",
   "execution_count": 166,
   "metadata": {},
   "outputs": [
    {
     "data": {
      "text/html": [
       "<div>\n",
       "<style scoped>\n",
       "    .dataframe tbody tr th:only-of-type {\n",
       "        vertical-align: middle;\n",
       "    }\n",
       "\n",
       "    .dataframe tbody tr th {\n",
       "        vertical-align: top;\n",
       "    }\n",
       "\n",
       "    .dataframe thead th {\n",
       "        text-align: right;\n",
       "    }\n",
       "</style>\n",
       "<table border=\"1\" class=\"dataframe\">\n",
       "  <thead>\n",
       "    <tr style=\"text-align: right;\">\n",
       "      <th></th>\n",
       "      <th>nconst</th>\n",
       "      <th>primaryName</th>\n",
       "      <th>birthYear</th>\n",
       "      <th>deathYear</th>\n",
       "      <th>primaryProfession</th>\n",
       "      <th>knownForTitles</th>\n",
       "      <th>title1</th>\n",
       "      <th>title2</th>\n",
       "      <th>title3</th>\n",
       "      <th>title4</th>\n",
       "      <th>title5</th>\n",
       "      <th>title6</th>\n",
       "    </tr>\n",
       "  </thead>\n",
       "  <tbody>\n",
       "    <tr>\n",
       "      <th>0</th>\n",
       "      <td>nm0000001</td>\n",
       "      <td>Fred Astaire</td>\n",
       "      <td>1899</td>\n",
       "      <td>1987</td>\n",
       "      <td>soundtrack,actor,miscellaneous</td>\n",
       "      <td>tt0031983,tt0050419,tt0053137,tt0072308</td>\n",
       "      <td>tt0031983</td>\n",
       "      <td>tt0050419</td>\n",
       "      <td>tt0053137</td>\n",
       "      <td>tt0072308</td>\n",
       "      <td>None</td>\n",
       "      <td>None</td>\n",
       "    </tr>\n",
       "    <tr>\n",
       "      <th>1</th>\n",
       "      <td>nm0000002</td>\n",
       "      <td>Lauren Bacall</td>\n",
       "      <td>1924</td>\n",
       "      <td>2014</td>\n",
       "      <td>actress,soundtrack</td>\n",
       "      <td>tt0071877,tt0038355,tt0037382,tt0117057</td>\n",
       "      <td>tt0071877</td>\n",
       "      <td>tt0038355</td>\n",
       "      <td>tt0037382</td>\n",
       "      <td>tt0117057</td>\n",
       "      <td>None</td>\n",
       "      <td>None</td>\n",
       "    </tr>\n",
       "    <tr>\n",
       "      <th>2</th>\n",
       "      <td>nm0000003</td>\n",
       "      <td>Brigitte Bardot</td>\n",
       "      <td>1934</td>\n",
       "      <td>\\N</td>\n",
       "      <td>actress,soundtrack,music_department</td>\n",
       "      <td>tt0049189,tt0054452,tt0057345,tt0056404</td>\n",
       "      <td>tt0049189</td>\n",
       "      <td>tt0054452</td>\n",
       "      <td>tt0057345</td>\n",
       "      <td>tt0056404</td>\n",
       "      <td>None</td>\n",
       "      <td>None</td>\n",
       "    </tr>\n",
       "    <tr>\n",
       "      <th>3</th>\n",
       "      <td>nm0000004</td>\n",
       "      <td>John Belushi</td>\n",
       "      <td>1949</td>\n",
       "      <td>1982</td>\n",
       "      <td>actor,soundtrack,writer</td>\n",
       "      <td>tt0077975,tt0072562,tt0080455,tt0078723</td>\n",
       "      <td>tt0077975</td>\n",
       "      <td>tt0072562</td>\n",
       "      <td>tt0080455</td>\n",
       "      <td>tt0078723</td>\n",
       "      <td>None</td>\n",
       "      <td>None</td>\n",
       "    </tr>\n",
       "    <tr>\n",
       "      <th>4</th>\n",
       "      <td>nm0000005</td>\n",
       "      <td>Ingmar Bergman</td>\n",
       "      <td>1918</td>\n",
       "      <td>2007</td>\n",
       "      <td>writer,director,actor</td>\n",
       "      <td>tt0083922,tt0050976,tt0050986,tt0060827</td>\n",
       "      <td>tt0083922</td>\n",
       "      <td>tt0050976</td>\n",
       "      <td>tt0050986</td>\n",
       "      <td>tt0060827</td>\n",
       "      <td>None</td>\n",
       "      <td>None</td>\n",
       "    </tr>\n",
       "  </tbody>\n",
       "</table>\n",
       "</div>"
      ],
      "text/plain": [
       "      nconst      primaryName birthYear deathYear  \\\n",
       "0  nm0000001     Fred Astaire      1899      1987   \n",
       "1  nm0000002    Lauren Bacall      1924      2014   \n",
       "2  nm0000003  Brigitte Bardot      1934        \\N   \n",
       "3  nm0000004     John Belushi      1949      1982   \n",
       "4  nm0000005   Ingmar Bergman      1918      2007   \n",
       "\n",
       "                     primaryProfession  \\\n",
       "0       soundtrack,actor,miscellaneous   \n",
       "1                   actress,soundtrack   \n",
       "2  actress,soundtrack,music_department   \n",
       "3              actor,soundtrack,writer   \n",
       "4                writer,director,actor   \n",
       "\n",
       "                            knownForTitles     title1     title2     title3  \\\n",
       "0  tt0031983,tt0050419,tt0053137,tt0072308  tt0031983  tt0050419  tt0053137   \n",
       "1  tt0071877,tt0038355,tt0037382,tt0117057  tt0071877  tt0038355  tt0037382   \n",
       "2  tt0049189,tt0054452,tt0057345,tt0056404  tt0049189  tt0054452  tt0057345   \n",
       "3  tt0077975,tt0072562,tt0080455,tt0078723  tt0077975  tt0072562  tt0080455   \n",
       "4  tt0083922,tt0050976,tt0050986,tt0060827  tt0083922  tt0050976  tt0050986   \n",
       "\n",
       "      title4 title5 title6  \n",
       "0  tt0072308   None   None  \n",
       "1  tt0117057   None   None  \n",
       "2  tt0056404   None   None  \n",
       "3  tt0078723   None   None  \n",
       "4  tt0060827   None   None  "
      ]
     },
     "execution_count": 166,
     "metadata": {},
     "output_type": "execute_result"
    }
   ],
   "source": [
    "name2.head()"
   ]
  },
  {
   "cell_type": "code",
   "execution_count": 168,
   "metadata": {},
   "outputs": [
    {
     "name": "stderr",
     "output_type": "stream",
     "text": [
      "/var/folders/kh/898hvqss4wl2cmb9ynmd_1qh0000gn/T/ipykernel_11145/2273899976.py:1: SettingWithCopyWarning: \n",
      "A value is trying to be set on a copy of a slice from a DataFrame.\n",
      "Try using .loc[row_indexer,col_indexer] = value instead\n",
      "\n",
      "See the caveats in the documentation: https://pandas.pydata.org/pandas-docs/stable/user_guide/indexing.html#returning-a-view-versus-a-copy\n",
      "  name2[[\"prof1\", \"prof2\", \"prof3\"]] = name2[\"primaryProfession\"].str.split(',', expand=True)\n",
      "/var/folders/kh/898hvqss4wl2cmb9ynmd_1qh0000gn/T/ipykernel_11145/2273899976.py:1: SettingWithCopyWarning: \n",
      "A value is trying to be set on a copy of a slice from a DataFrame.\n",
      "Try using .loc[row_indexer,col_indexer] = value instead\n",
      "\n",
      "See the caveats in the documentation: https://pandas.pydata.org/pandas-docs/stable/user_guide/indexing.html#returning-a-view-versus-a-copy\n",
      "  name2[[\"prof1\", \"prof2\", \"prof3\"]] = name2[\"primaryProfession\"].str.split(',', expand=True)\n",
      "/var/folders/kh/898hvqss4wl2cmb9ynmd_1qh0000gn/T/ipykernel_11145/2273899976.py:1: SettingWithCopyWarning: \n",
      "A value is trying to be set on a copy of a slice from a DataFrame.\n",
      "Try using .loc[row_indexer,col_indexer] = value instead\n",
      "\n",
      "See the caveats in the documentation: https://pandas.pydata.org/pandas-docs/stable/user_guide/indexing.html#returning-a-view-versus-a-copy\n",
      "  name2[[\"prof1\", \"prof2\", \"prof3\"]] = name2[\"primaryProfession\"].str.split(',', expand=True)\n"
     ]
    }
   ],
   "source": [
    "name2[[\"prof1\", \"prof2\", \"prof3\"]] = name2[\"primaryProfession\"].str.split(',', expand=True)"
   ]
  },
  {
   "cell_type": "code",
   "execution_count": 164,
   "metadata": {},
   "outputs": [
    {
     "data": {
      "text/plain": [
       "\\N      8929009\n",
       "1980       9009\n",
       "1979       8815\n",
       "1981       8769\n",
       "1978       8747\n",
       "         ...   \n",
       "1180          1\n",
       "1048          1\n",
       "1532          1\n",
       "1474          1\n",
       "1631          1\n",
       "Name: birthYear, Length: 489, dtype: int64"
      ]
     },
     "execution_count": 164,
     "metadata": {},
     "output_type": "execute_result"
    }
   ],
   "source": [
    "name2[\"birthYear\"].value_counts()"
   ]
  },
  {
   "cell_type": "code",
   "execution_count": 165,
   "metadata": {},
   "outputs": [
    {
     "data": {
      "text/plain": [
       "\\N      9270192\n",
       "2021       5987\n",
       "2020       5865\n",
       "2019       5109\n",
       "2016       4948\n",
       "         ...   \n",
       "1780          1\n",
       "1123          1\n",
       "1591          1\n",
       "1758          1\n",
       "1700          1\n",
       "Name: deathYear, Length: 433, dtype: int64"
      ]
     },
     "execution_count": 165,
     "metadata": {},
     "output_type": "execute_result"
    }
   ],
   "source": [
    "name2[\"deathYear\"].value_counts()"
   ]
  },
  {
   "cell_type": "code",
   "execution_count": 169,
   "metadata": {},
   "outputs": [
    {
     "name": "stderr",
     "output_type": "stream",
     "text": [
      "/var/folders/kh/898hvqss4wl2cmb9ynmd_1qh0000gn/T/ipykernel_11145/868425842.py:1: SettingWithCopyWarning: \n",
      "A value is trying to be set on a copy of a slice from a DataFrame\n",
      "\n",
      "See the caveats in the documentation: https://pandas.pydata.org/pandas-docs/stable/user_guide/indexing.html#returning-a-view-versus-a-copy\n",
      "  name2[\"birthYear\"].replace('\\\\N', '0', inplace=True)\n",
      "/var/folders/kh/898hvqss4wl2cmb9ynmd_1qh0000gn/T/ipykernel_11145/868425842.py:2: SettingWithCopyWarning: \n",
      "A value is trying to be set on a copy of a slice from a DataFrame.\n",
      "Try using .loc[row_indexer,col_indexer] = value instead\n",
      "\n",
      "See the caveats in the documentation: https://pandas.pydata.org/pandas-docs/stable/user_guide/indexing.html#returning-a-view-versus-a-copy\n",
      "  name2[\"birthYear\"] = name2[\"birthYear\"].astype('int')\n",
      "/var/folders/kh/898hvqss4wl2cmb9ynmd_1qh0000gn/T/ipykernel_11145/868425842.py:3: SettingWithCopyWarning: \n",
      "A value is trying to be set on a copy of a slice from a DataFrame\n",
      "\n",
      "See the caveats in the documentation: https://pandas.pydata.org/pandas-docs/stable/user_guide/indexing.html#returning-a-view-versus-a-copy\n",
      "  name2[\"deathYear\"].replace('\\\\N', '9999', inplace=True)\n",
      "/var/folders/kh/898hvqss4wl2cmb9ynmd_1qh0000gn/T/ipykernel_11145/868425842.py:4: SettingWithCopyWarning: \n",
      "A value is trying to be set on a copy of a slice from a DataFrame.\n",
      "Try using .loc[row_indexer,col_indexer] = value instead\n",
      "\n",
      "See the caveats in the documentation: https://pandas.pydata.org/pandas-docs/stable/user_guide/indexing.html#returning-a-view-versus-a-copy\n",
      "  name2[\"deathYear\"] = name2[\"deathYear\"].astype('int')\n"
     ]
    }
   ],
   "source": [
    "name2[\"birthYear\"].replace('\\\\N', '0', inplace=True)\n",
    "name2[\"birthYear\"] = name2[\"birthYear\"].astype('int')\n",
    "name2[\"deathYear\"].replace('\\\\N', '9999', inplace=True)\n",
    "name2[\"deathYear\"] = name2[\"deathYear\"].astype('int')"
   ]
  },
  {
   "cell_type": "code",
   "execution_count": 170,
   "metadata": {},
   "outputs": [
    {
     "data": {
      "text/html": [
       "<div>\n",
       "<style scoped>\n",
       "    .dataframe tbody tr th:only-of-type {\n",
       "        vertical-align: middle;\n",
       "    }\n",
       "\n",
       "    .dataframe tbody tr th {\n",
       "        vertical-align: top;\n",
       "    }\n",
       "\n",
       "    .dataframe thead th {\n",
       "        text-align: right;\n",
       "    }\n",
       "</style>\n",
       "<table border=\"1\" class=\"dataframe\">\n",
       "  <thead>\n",
       "    <tr style=\"text-align: right;\">\n",
       "      <th></th>\n",
       "      <th>nconst</th>\n",
       "      <th>primaryName</th>\n",
       "      <th>birthYear</th>\n",
       "      <th>deathYear</th>\n",
       "      <th>primaryProfession</th>\n",
       "      <th>knownForTitles</th>\n",
       "      <th>title1</th>\n",
       "      <th>title2</th>\n",
       "      <th>title3</th>\n",
       "      <th>title4</th>\n",
       "      <th>title5</th>\n",
       "      <th>title6</th>\n",
       "      <th>prof1</th>\n",
       "      <th>prof2</th>\n",
       "      <th>prof3</th>\n",
       "    </tr>\n",
       "  </thead>\n",
       "  <tbody>\n",
       "    <tr>\n",
       "      <th>0</th>\n",
       "      <td>nm0000001</td>\n",
       "      <td>Fred Astaire</td>\n",
       "      <td>1899</td>\n",
       "      <td>1987</td>\n",
       "      <td>soundtrack,actor,miscellaneous</td>\n",
       "      <td>tt0031983,tt0050419,tt0053137,tt0072308</td>\n",
       "      <td>tt0031983</td>\n",
       "      <td>tt0050419</td>\n",
       "      <td>tt0053137</td>\n",
       "      <td>tt0072308</td>\n",
       "      <td>None</td>\n",
       "      <td>None</td>\n",
       "      <td>soundtrack</td>\n",
       "      <td>actor</td>\n",
       "      <td>miscellaneous</td>\n",
       "    </tr>\n",
       "    <tr>\n",
       "      <th>1</th>\n",
       "      <td>nm0000002</td>\n",
       "      <td>Lauren Bacall</td>\n",
       "      <td>1924</td>\n",
       "      <td>2014</td>\n",
       "      <td>actress,soundtrack</td>\n",
       "      <td>tt0071877,tt0038355,tt0037382,tt0117057</td>\n",
       "      <td>tt0071877</td>\n",
       "      <td>tt0038355</td>\n",
       "      <td>tt0037382</td>\n",
       "      <td>tt0117057</td>\n",
       "      <td>None</td>\n",
       "      <td>None</td>\n",
       "      <td>actress</td>\n",
       "      <td>soundtrack</td>\n",
       "      <td>None</td>\n",
       "    </tr>\n",
       "    <tr>\n",
       "      <th>2</th>\n",
       "      <td>nm0000003</td>\n",
       "      <td>Brigitte Bardot</td>\n",
       "      <td>1934</td>\n",
       "      <td>9999</td>\n",
       "      <td>actress,soundtrack,music_department</td>\n",
       "      <td>tt0049189,tt0054452,tt0057345,tt0056404</td>\n",
       "      <td>tt0049189</td>\n",
       "      <td>tt0054452</td>\n",
       "      <td>tt0057345</td>\n",
       "      <td>tt0056404</td>\n",
       "      <td>None</td>\n",
       "      <td>None</td>\n",
       "      <td>actress</td>\n",
       "      <td>soundtrack</td>\n",
       "      <td>music_department</td>\n",
       "    </tr>\n",
       "    <tr>\n",
       "      <th>3</th>\n",
       "      <td>nm0000004</td>\n",
       "      <td>John Belushi</td>\n",
       "      <td>1949</td>\n",
       "      <td>1982</td>\n",
       "      <td>actor,soundtrack,writer</td>\n",
       "      <td>tt0077975,tt0072562,tt0080455,tt0078723</td>\n",
       "      <td>tt0077975</td>\n",
       "      <td>tt0072562</td>\n",
       "      <td>tt0080455</td>\n",
       "      <td>tt0078723</td>\n",
       "      <td>None</td>\n",
       "      <td>None</td>\n",
       "      <td>actor</td>\n",
       "      <td>soundtrack</td>\n",
       "      <td>writer</td>\n",
       "    </tr>\n",
       "    <tr>\n",
       "      <th>4</th>\n",
       "      <td>nm0000005</td>\n",
       "      <td>Ingmar Bergman</td>\n",
       "      <td>1918</td>\n",
       "      <td>2007</td>\n",
       "      <td>writer,director,actor</td>\n",
       "      <td>tt0083922,tt0050976,tt0050986,tt0060827</td>\n",
       "      <td>tt0083922</td>\n",
       "      <td>tt0050976</td>\n",
       "      <td>tt0050986</td>\n",
       "      <td>tt0060827</td>\n",
       "      <td>None</td>\n",
       "      <td>None</td>\n",
       "      <td>writer</td>\n",
       "      <td>director</td>\n",
       "      <td>actor</td>\n",
       "    </tr>\n",
       "  </tbody>\n",
       "</table>\n",
       "</div>"
      ],
      "text/plain": [
       "      nconst      primaryName  birthYear  deathYear  \\\n",
       "0  nm0000001     Fred Astaire       1899       1987   \n",
       "1  nm0000002    Lauren Bacall       1924       2014   \n",
       "2  nm0000003  Brigitte Bardot       1934       9999   \n",
       "3  nm0000004     John Belushi       1949       1982   \n",
       "4  nm0000005   Ingmar Bergman       1918       2007   \n",
       "\n",
       "                     primaryProfession  \\\n",
       "0       soundtrack,actor,miscellaneous   \n",
       "1                   actress,soundtrack   \n",
       "2  actress,soundtrack,music_department   \n",
       "3              actor,soundtrack,writer   \n",
       "4                writer,director,actor   \n",
       "\n",
       "                            knownForTitles     title1     title2     title3  \\\n",
       "0  tt0031983,tt0050419,tt0053137,tt0072308  tt0031983  tt0050419  tt0053137   \n",
       "1  tt0071877,tt0038355,tt0037382,tt0117057  tt0071877  tt0038355  tt0037382   \n",
       "2  tt0049189,tt0054452,tt0057345,tt0056404  tt0049189  tt0054452  tt0057345   \n",
       "3  tt0077975,tt0072562,tt0080455,tt0078723  tt0077975  tt0072562  tt0080455   \n",
       "4  tt0083922,tt0050976,tt0050986,tt0060827  tt0083922  tt0050976  tt0050986   \n",
       "\n",
       "      title4 title5 title6       prof1       prof2             prof3  \n",
       "0  tt0072308   None   None  soundtrack       actor     miscellaneous  \n",
       "1  tt0117057   None   None     actress  soundtrack              None  \n",
       "2  tt0056404   None   None     actress  soundtrack  music_department  \n",
       "3  tt0078723   None   None       actor  soundtrack            writer  \n",
       "4  tt0060827   None   None      writer    director             actor  "
      ]
     },
     "execution_count": 170,
     "metadata": {},
     "output_type": "execute_result"
    }
   ],
   "source": [
    "name2.head()"
   ]
  },
  {
   "cell_type": "code",
   "execution_count": 174,
   "metadata": {},
   "outputs": [
    {
     "data": {
      "text/plain": [
       "9428449"
      ]
     },
     "execution_count": 174,
     "metadata": {},
     "output_type": "execute_result"
    }
   ],
   "source": [
    "len(name2)"
   ]
  },
  {
   "cell_type": "code",
   "execution_count": 176,
   "metadata": {},
   "outputs": [
    {
     "data": {
      "text/plain": [
       "0       8929009\n",
       "1980       9009\n",
       "1979       8815\n",
       "1981       8769\n",
       "1978       8747\n",
       "         ...   \n",
       "1180          1\n",
       "1048          1\n",
       "1532          1\n",
       "1474          1\n",
       "1631          1\n",
       "Name: birthYear, Length: 489, dtype: int64"
      ]
     },
     "execution_count": 176,
     "metadata": {},
     "output_type": "execute_result"
    }
   ],
   "source": [
    "name2[\"birthYear\"].value_counts()"
   ]
  },
  {
   "cell_type": "code",
   "execution_count": 177,
   "metadata": {},
   "outputs": [],
   "source": [
    "name2.to_csv(\"name.csv\",index=False)"
   ]
  },
  {
   "cell_type": "code",
   "execution_count": 178,
   "metadata": {},
   "outputs": [
    {
     "data": {
      "text/html": [
       "<div>\n",
       "<style scoped>\n",
       "    .dataframe tbody tr th:only-of-type {\n",
       "        vertical-align: middle;\n",
       "    }\n",
       "\n",
       "    .dataframe tbody tr th {\n",
       "        vertical-align: top;\n",
       "    }\n",
       "\n",
       "    .dataframe thead th {\n",
       "        text-align: right;\n",
       "    }\n",
       "</style>\n",
       "<table border=\"1\" class=\"dataframe\">\n",
       "  <thead>\n",
       "    <tr style=\"text-align: right;\">\n",
       "      <th></th>\n",
       "      <th>tconst</th>\n",
       "      <th>directors</th>\n",
       "      <th>writers</th>\n",
       "    </tr>\n",
       "  </thead>\n",
       "  <tbody>\n",
       "    <tr>\n",
       "      <th>0</th>\n",
       "      <td>tt0000001</td>\n",
       "      <td>nm0005690</td>\n",
       "      <td>\\N</td>\n",
       "    </tr>\n",
       "    <tr>\n",
       "      <th>1</th>\n",
       "      <td>tt0000002</td>\n",
       "      <td>nm0721526</td>\n",
       "      <td>\\N</td>\n",
       "    </tr>\n",
       "    <tr>\n",
       "      <th>2</th>\n",
       "      <td>tt0000003</td>\n",
       "      <td>nm0721526</td>\n",
       "      <td>\\N</td>\n",
       "    </tr>\n",
       "    <tr>\n",
       "      <th>3</th>\n",
       "      <td>tt0000004</td>\n",
       "      <td>nm0721526</td>\n",
       "      <td>\\N</td>\n",
       "    </tr>\n",
       "    <tr>\n",
       "      <th>4</th>\n",
       "      <td>tt0000005</td>\n",
       "      <td>nm0005690</td>\n",
       "      <td>\\N</td>\n",
       "    </tr>\n",
       "  </tbody>\n",
       "</table>\n",
       "</div>"
      ],
      "text/plain": [
       "      tconst  directors writers\n",
       "0  tt0000001  nm0005690      \\N\n",
       "1  tt0000002  nm0721526      \\N\n",
       "2  tt0000003  nm0721526      \\N\n",
       "3  tt0000004  nm0721526      \\N\n",
       "4  tt0000005  nm0005690      \\N"
      ]
     },
     "execution_count": 178,
     "metadata": {},
     "output_type": "execute_result"
    }
   ],
   "source": [
    "crew.head()"
   ]
  },
  {
   "cell_type": "code",
   "execution_count": 179,
   "metadata": {},
   "outputs": [
    {
     "data": {
      "text/plain": [
       "tconst       0\n",
       "directors    0\n",
       "writers      0\n",
       "dtype: int64"
      ]
     },
     "execution_count": 179,
     "metadata": {},
     "output_type": "execute_result"
    }
   ],
   "source": [
    "crew.isna().sum()"
   ]
  },
  {
   "cell_type": "code",
   "execution_count": 182,
   "metadata": {},
   "outputs": [
    {
     "data": {
      "text/plain": [
       "7718618"
      ]
     },
     "execution_count": 182,
     "metadata": {},
     "output_type": "execute_result"
    }
   ],
   "source": [
    "len(crew[crew[\"tconst\"].isin(tconst)==True])"
   ]
  },
  {
   "cell_type": "code",
   "execution_count": 181,
   "metadata": {},
   "outputs": [
    {
     "data": {
      "text/plain": [
       "9130101"
      ]
     },
     "execution_count": 181,
     "metadata": {},
     "output_type": "execute_result"
    }
   ],
   "source": [
    "len(crew)"
   ]
  },
  {
   "cell_type": "code",
   "execution_count": 191,
   "metadata": {},
   "outputs": [],
   "source": [
    "crew2 = crew[crew[\"tconst\"].isin(tconst)==True]"
   ]
  },
  {
   "cell_type": "code",
   "execution_count": 184,
   "metadata": {},
   "outputs": [
    {
     "data": {
      "text/html": [
       "<div>\n",
       "<style scoped>\n",
       "    .dataframe tbody tr th:only-of-type {\n",
       "        vertical-align: middle;\n",
       "    }\n",
       "\n",
       "    .dataframe tbody tr th {\n",
       "        vertical-align: top;\n",
       "    }\n",
       "\n",
       "    .dataframe thead th {\n",
       "        text-align: right;\n",
       "    }\n",
       "</style>\n",
       "<table border=\"1\" class=\"dataframe\">\n",
       "  <thead>\n",
       "    <tr style=\"text-align: right;\">\n",
       "      <th></th>\n",
       "      <th>tconst</th>\n",
       "      <th>directors</th>\n",
       "      <th>writers</th>\n",
       "    </tr>\n",
       "  </thead>\n",
       "  <tbody>\n",
       "    <tr>\n",
       "      <th>0</th>\n",
       "      <td>tt0000001</td>\n",
       "      <td>nm0005690</td>\n",
       "      <td>\\N</td>\n",
       "    </tr>\n",
       "    <tr>\n",
       "      <th>1</th>\n",
       "      <td>tt0000002</td>\n",
       "      <td>nm0721526</td>\n",
       "      <td>\\N</td>\n",
       "    </tr>\n",
       "    <tr>\n",
       "      <th>2</th>\n",
       "      <td>tt0000003</td>\n",
       "      <td>nm0721526</td>\n",
       "      <td>\\N</td>\n",
       "    </tr>\n",
       "    <tr>\n",
       "      <th>3</th>\n",
       "      <td>tt0000004</td>\n",
       "      <td>nm0721526</td>\n",
       "      <td>\\N</td>\n",
       "    </tr>\n",
       "    <tr>\n",
       "      <th>4</th>\n",
       "      <td>tt0000005</td>\n",
       "      <td>nm0005690</td>\n",
       "      <td>\\N</td>\n",
       "    </tr>\n",
       "  </tbody>\n",
       "</table>\n",
       "</div>"
      ],
      "text/plain": [
       "      tconst  directors writers\n",
       "0  tt0000001  nm0005690      \\N\n",
       "1  tt0000002  nm0721526      \\N\n",
       "2  tt0000003  nm0721526      \\N\n",
       "3  tt0000004  nm0721526      \\N\n",
       "4  tt0000005  nm0005690      \\N"
      ]
     },
     "execution_count": 184,
     "metadata": {},
     "output_type": "execute_result"
    }
   ],
   "source": [
    "crew.head()"
   ]
  },
  {
   "cell_type": "code",
   "execution_count": 186,
   "metadata": {},
   "outputs": [
    {
     "data": {
      "text/plain": [
       "\\N                                                   3859142\n",
       "nm0914844                                              11482\n",
       "nm0417224                                               5468\n",
       "nm2429688                                               4365\n",
       "nm0006724,nm0512728                                     3821\n",
       "                                                      ...   \n",
       "nm0845305                                                  1\n",
       "nm4098468,nm0923839                                        1\n",
       "nm11933201                                                 1\n",
       "nm3886185,nm5876759,nm3756185,nm8090775,nm7645727          1\n",
       "nm6951431                                                  1\n",
       "Name: writers, Length: 1105288, dtype: int64"
      ]
     },
     "execution_count": 186,
     "metadata": {},
     "output_type": "execute_result"
    }
   ],
   "source": [
    "crew2[\"writers\"].value_counts()"
   ]
  },
  {
   "cell_type": "code",
   "execution_count": 192,
   "metadata": {},
   "outputs": [
    {
     "data": {
      "text/plain": [
       "\\N            3323865\n",
       "nm0022750        6340\n",
       "nm0565214        5967\n",
       "nm0107757        4084\n",
       "nm0141225        3449\n",
       "               ...   \n",
       "nm12787325          1\n",
       "nm11177893          1\n",
       "nm9398676           1\n",
       "nm12787244          1\n",
       "nm10538645          1\n",
       "Name: directors, Length: 833297, dtype: int64"
      ]
     },
     "execution_count": 192,
     "metadata": {},
     "output_type": "execute_result"
    }
   ],
   "source": [
    "crew2[\"directors\"].value_counts()"
   ]
  },
  {
   "cell_type": "code",
   "execution_count": 193,
   "metadata": {},
   "outputs": [
    {
     "name": "stderr",
     "output_type": "stream",
     "text": [
      "/var/folders/kh/898hvqss4wl2cmb9ynmd_1qh0000gn/T/ipykernel_11145/2750830523.py:1: SettingWithCopyWarning: \n",
      "A value is trying to be set on a copy of a slice from a DataFrame\n",
      "\n",
      "See the caveats in the documentation: https://pandas.pydata.org/pandas-docs/stable/user_guide/indexing.html#returning-a-view-versus-a-copy\n",
      "  crew2[\"writers\"].replace('\\\\N', None, inplace=True)\n",
      "/var/folders/kh/898hvqss4wl2cmb9ynmd_1qh0000gn/T/ipykernel_11145/2750830523.py:2: SettingWithCopyWarning: \n",
      "A value is trying to be set on a copy of a slice from a DataFrame\n",
      "\n",
      "See the caveats in the documentation: https://pandas.pydata.org/pandas-docs/stable/user_guide/indexing.html#returning-a-view-versus-a-copy\n",
      "  crew2[\"directors\"].replace('\\\\N', None, inplace=True)\n"
     ]
    }
   ],
   "source": [
    "crew2[\"writers\"].replace('\\\\N', None, inplace=True)\n",
    "crew2[\"directors\"].replace('\\\\N', None, inplace=True)"
   ]
  },
  {
   "cell_type": "code",
   "execution_count": 194,
   "metadata": {},
   "outputs": [
    {
     "data": {
      "text/html": [
       "<div>\n",
       "<style scoped>\n",
       "    .dataframe tbody tr th:only-of-type {\n",
       "        vertical-align: middle;\n",
       "    }\n",
       "\n",
       "    .dataframe tbody tr th {\n",
       "        vertical-align: top;\n",
       "    }\n",
       "\n",
       "    .dataframe thead th {\n",
       "        text-align: right;\n",
       "    }\n",
       "</style>\n",
       "<table border=\"1\" class=\"dataframe\">\n",
       "  <thead>\n",
       "    <tr style=\"text-align: right;\">\n",
       "      <th></th>\n",
       "      <th>tconst</th>\n",
       "      <th>directors</th>\n",
       "      <th>writers</th>\n",
       "    </tr>\n",
       "  </thead>\n",
       "  <tbody>\n",
       "    <tr>\n",
       "      <th>11636</th>\n",
       "      <td>tt0011801</td>\n",
       "      <td>nm0681726</td>\n",
       "      <td>nm0483944,nm0681726</td>\n",
       "    </tr>\n",
       "    <tr>\n",
       "      <th>13079</th>\n",
       "      <td>tt0013274</td>\n",
       "      <td>nm0412842,nm0895048</td>\n",
       "      <td>None</td>\n",
       "    </tr>\n",
       "    <tr>\n",
       "      <th>15174</th>\n",
       "      <td>tt0015414</td>\n",
       "      <td>nm0615736</td>\n",
       "      <td>None</td>\n",
       "    </tr>\n",
       "    <tr>\n",
       "      <th>15482</th>\n",
       "      <td>tt0015724</td>\n",
       "      <td>nm0529960</td>\n",
       "      <td>nm0529960,nm1597742</td>\n",
       "    </tr>\n",
       "    <tr>\n",
       "      <th>21267</th>\n",
       "      <td>tt0021617</td>\n",
       "      <td>nm0289297</td>\n",
       "      <td>nm0119378</td>\n",
       "    </tr>\n",
       "  </tbody>\n",
       "</table>\n",
       "</div>"
      ],
      "text/plain": [
       "          tconst            directors              writers\n",
       "11636  tt0011801            nm0681726  nm0483944,nm0681726\n",
       "13079  tt0013274  nm0412842,nm0895048                 None\n",
       "15174  tt0015414            nm0615736                 None\n",
       "15482  tt0015724            nm0529960  nm0529960,nm1597742\n",
       "21267  tt0021617            nm0289297            nm0119378"
      ]
     },
     "execution_count": 194,
     "metadata": {},
     "output_type": "execute_result"
    }
   ],
   "source": [
    "crew2.head()"
   ]
  },
  {
   "cell_type": "code",
   "execution_count": 195,
   "metadata": {},
   "outputs": [
    {
     "data": {
      "text/plain": [
       "nm0022750     6340\n",
       "nm0565214     5967\n",
       "nm0107757     4084\n",
       "nm0141225     3449\n",
       "nm7809044     3200\n",
       "              ... \n",
       "nm12787325       1\n",
       "nm11177893       1\n",
       "nm9398676        1\n",
       "nm12787244       1\n",
       "nm10538645       1\n",
       "Name: directors, Length: 833296, dtype: int64"
      ]
     },
     "execution_count": 195,
     "metadata": {},
     "output_type": "execute_result"
    }
   ],
   "source": [
    "crew2[\"directors\"].value_counts()"
   ]
  },
  {
   "cell_type": "code",
   "execution_count": 196,
   "metadata": {},
   "outputs": [],
   "source": [
    "crew2.to_csv(\"crew.csv\", index=False)"
   ]
  },
  {
   "cell_type": "markdown",
   "metadata": {},
   "source": [
    "episodes = pd.read_csv('data-2.tsv', sep='\\t', engine = 'python')"
   ]
  },
  {
   "cell_type": "code",
   "execution_count": 211,
   "metadata": {},
   "outputs": [
    {
     "data": {
      "text/html": [
       "<div>\n",
       "<style scoped>\n",
       "    .dataframe tbody tr th:only-of-type {\n",
       "        vertical-align: middle;\n",
       "    }\n",
       "\n",
       "    .dataframe tbody tr th {\n",
       "        vertical-align: top;\n",
       "    }\n",
       "\n",
       "    .dataframe thead th {\n",
       "        text-align: right;\n",
       "    }\n",
       "</style>\n",
       "<table border=\"1\" class=\"dataframe\">\n",
       "  <thead>\n",
       "    <tr style=\"text-align: right;\">\n",
       "      <th></th>\n",
       "      <th>tconst</th>\n",
       "      <th>parentTconst</th>\n",
       "      <th>seasonNumber</th>\n",
       "      <th>episodeNumber</th>\n",
       "    </tr>\n",
       "  </thead>\n",
       "  <tbody>\n",
       "    <tr>\n",
       "      <th>0</th>\n",
       "      <td>tt0020666</td>\n",
       "      <td>tt15180956</td>\n",
       "      <td>1</td>\n",
       "      <td>2</td>\n",
       "    </tr>\n",
       "    <tr>\n",
       "      <th>1</th>\n",
       "      <td>tt0020829</td>\n",
       "      <td>tt15180956</td>\n",
       "      <td>1</td>\n",
       "      <td>1</td>\n",
       "    </tr>\n",
       "    <tr>\n",
       "      <th>2</th>\n",
       "      <td>tt0021166</td>\n",
       "      <td>tt15180956</td>\n",
       "      <td>1</td>\n",
       "      <td>3</td>\n",
       "    </tr>\n",
       "    <tr>\n",
       "      <th>3</th>\n",
       "      <td>tt0021612</td>\n",
       "      <td>tt15180956</td>\n",
       "      <td>2</td>\n",
       "      <td>2</td>\n",
       "    </tr>\n",
       "    <tr>\n",
       "      <th>4</th>\n",
       "      <td>tt0021655</td>\n",
       "      <td>tt15180956</td>\n",
       "      <td>2</td>\n",
       "      <td>5</td>\n",
       "    </tr>\n",
       "  </tbody>\n",
       "</table>\n",
       "</div>"
      ],
      "text/plain": [
       "      tconst parentTconst seasonNumber episodeNumber\n",
       "0  tt0020666   tt15180956            1             2\n",
       "1  tt0020829   tt15180956            1             1\n",
       "2  tt0021166   tt15180956            1             3\n",
       "3  tt0021612   tt15180956            2             2\n",
       "4  tt0021655   tt15180956            2             5"
      ]
     },
     "execution_count": 211,
     "metadata": {},
     "output_type": "execute_result"
    }
   ],
   "source": [
    "episodes.head()"
   ]
  },
  {
   "cell_type": "code",
   "execution_count": 212,
   "metadata": {},
   "outputs": [
    {
     "data": {
      "text/plain": [
       "5790829"
      ]
     },
     "execution_count": 212,
     "metadata": {},
     "output_type": "execute_result"
    }
   ],
   "source": [
    "len(episodes[episodes[\"tconst\"].isin(tconst)==True])"
   ]
  },
  {
   "cell_type": "code",
   "execution_count": 213,
   "metadata": {},
   "outputs": [
    {
     "data": {
      "text/plain": [
       "6872335"
      ]
     },
     "execution_count": 213,
     "metadata": {},
     "output_type": "execute_result"
    }
   ],
   "source": [
    "len(episodes)"
   ]
  },
  {
   "cell_type": "code",
   "execution_count": 214,
   "metadata": {},
   "outputs": [
    {
     "data": {
      "text/plain": [
       "tconst           0\n",
       "parentTconst     0\n",
       "seasonNumber     0\n",
       "episodeNumber    0\n",
       "dtype: int64"
      ]
     },
     "execution_count": 214,
     "metadata": {},
     "output_type": "execute_result"
    }
   ],
   "source": [
    "episodes.isna().sum()"
   ]
  },
  {
   "cell_type": "code",
   "execution_count": 215,
   "metadata": {},
   "outputs": [
    {
     "name": "stdout",
     "output_type": "stream",
     "text": [
      "<class 'pandas.core.frame.DataFrame'>\n",
      "RangeIndex: 6872335 entries, 0 to 6872334\n",
      "Data columns (total 4 columns):\n",
      " #   Column         Dtype \n",
      "---  ------         ----- \n",
      " 0   tconst         object\n",
      " 1   parentTconst   object\n",
      " 2   seasonNumber   object\n",
      " 3   episodeNumber  object\n",
      "dtypes: object(4)\n",
      "memory usage: 209.7+ MB\n"
     ]
    }
   ],
   "source": [
    "episodes.info()"
   ]
  },
  {
   "cell_type": "code",
   "execution_count": 216,
   "metadata": {},
   "outputs": [
    {
     "data": {
      "text/plain": [
       "1       3419845\n",
       "\\N      1451161\n",
       "2        536652\n",
       "3        305318\n",
       "4        205475\n",
       "         ...   \n",
       "2001          1\n",
       "2005          1\n",
       "219           1\n",
       "1973          1\n",
       "1980          1\n",
       "Name: seasonNumber, Length: 393, dtype: int64"
      ]
     },
     "execution_count": 216,
     "metadata": {},
     "output_type": "execute_result"
    }
   ],
   "source": [
    "episodes[\"seasonNumber\"].value_counts()"
   ]
  },
  {
   "cell_type": "code",
   "execution_count": 217,
   "metadata": {},
   "outputs": [
    {
     "data": {
      "text/plain": [
       "\\N       1451161\n",
       "1         255939\n",
       "2         230291\n",
       "3         219725\n",
       "4         205377\n",
       "          ...   \n",
       "15147          1\n",
       "15149          1\n",
       "15150          1\n",
       "15152          1\n",
       "18081          1\n",
       "Name: episodeNumber, Length: 15719, dtype: int64"
      ]
     },
     "execution_count": 217,
     "metadata": {},
     "output_type": "execute_result"
    }
   ],
   "source": [
    "episodes[\"episodeNumber\"].value_counts()"
   ]
  },
  {
   "cell_type": "code",
   "execution_count": 218,
   "metadata": {},
   "outputs": [],
   "source": [
    "episodes2 = episodes[episodes[\"tconst\"].isin(tconst)==True]\n"
   ]
  },
  {
   "cell_type": "code",
   "execution_count": 219,
   "metadata": {},
   "outputs": [
    {
     "name": "stderr",
     "output_type": "stream",
     "text": [
      "/var/folders/kh/898hvqss4wl2cmb9ynmd_1qh0000gn/T/ipykernel_11145/4040178324.py:1: SettingWithCopyWarning: \n",
      "A value is trying to be set on a copy of a slice from a DataFrame\n",
      "\n",
      "See the caveats in the documentation: https://pandas.pydata.org/pandas-docs/stable/user_guide/indexing.html#returning-a-view-versus-a-copy\n",
      "  episodes2[\"seasonNumber\"].replace('\\\\N','0', inplace=True )\n",
      "/var/folders/kh/898hvqss4wl2cmb9ynmd_1qh0000gn/T/ipykernel_11145/4040178324.py:2: SettingWithCopyWarning: \n",
      "A value is trying to be set on a copy of a slice from a DataFrame\n",
      "\n",
      "See the caveats in the documentation: https://pandas.pydata.org/pandas-docs/stable/user_guide/indexing.html#returning-a-view-versus-a-copy\n",
      "  episodes2[\"episodeNumber\"].replace('\\\\N', '0', inplace=True)\n"
     ]
    }
   ],
   "source": [
    "episodes2[\"seasonNumber\"].replace('\\\\N','0', inplace=True )\n",
    "episodes2[\"episodeNumber\"].replace('\\\\N', '0', inplace=True)"
   ]
  },
  {
   "cell_type": "code",
   "execution_count": 222,
   "metadata": {},
   "outputs": [
    {
     "data": {
      "text/plain": [
       "5790829"
      ]
     },
     "execution_count": 222,
     "metadata": {},
     "output_type": "execute_result"
    }
   ],
   "source": [
    "len(episodes2)"
   ]
  },
  {
   "cell_type": "code",
   "execution_count": 226,
   "metadata": {},
   "outputs": [
    {
     "name": "stderr",
     "output_type": "stream",
     "text": [
      "/var/folders/kh/898hvqss4wl2cmb9ynmd_1qh0000gn/T/ipykernel_11145/358714347.py:1: SettingWithCopyWarning: \n",
      "A value is trying to be set on a copy of a slice from a DataFrame.\n",
      "Try using .loc[row_indexer,col_indexer] = value instead\n",
      "\n",
      "See the caveats in the documentation: https://pandas.pydata.org/pandas-docs/stable/user_guide/indexing.html#returning-a-view-versus-a-copy\n",
      "  episodes2[\"seasonNumber\"] = episodes2[\"seasonNumber\"].astype('int')\n",
      "/var/folders/kh/898hvqss4wl2cmb9ynmd_1qh0000gn/T/ipykernel_11145/358714347.py:2: SettingWithCopyWarning: \n",
      "A value is trying to be set on a copy of a slice from a DataFrame.\n",
      "Try using .loc[row_indexer,col_indexer] = value instead\n",
      "\n",
      "See the caveats in the documentation: https://pandas.pydata.org/pandas-docs/stable/user_guide/indexing.html#returning-a-view-versus-a-copy\n",
      "  episodes2[\"episodeNumber\"] = episodes2[\"episodeNumber\"].astype('int')\n"
     ]
    }
   ],
   "source": [
    "episodes2[\"seasonNumber\"] = episodes2[\"seasonNumber\"].astype('int')\n",
    "episodes2[\"episodeNumber\"] = episodes2[\"episodeNumber\"].astype('int')"
   ]
  },
  {
   "cell_type": "code",
   "execution_count": 227,
   "metadata": {},
   "outputs": [
    {
     "data": {
      "text/html": [
       "<div>\n",
       "<style scoped>\n",
       "    .dataframe tbody tr th:only-of-type {\n",
       "        vertical-align: middle;\n",
       "    }\n",
       "\n",
       "    .dataframe tbody tr th {\n",
       "        vertical-align: top;\n",
       "    }\n",
       "\n",
       "    .dataframe thead th {\n",
       "        text-align: right;\n",
       "    }\n",
       "</style>\n",
       "<table border=\"1\" class=\"dataframe\">\n",
       "  <thead>\n",
       "    <tr style=\"text-align: right;\">\n",
       "      <th></th>\n",
       "      <th>tconst</th>\n",
       "      <th>parentTconst</th>\n",
       "      <th>seasonNumber</th>\n",
       "      <th>episodeNumber</th>\n",
       "    </tr>\n",
       "  </thead>\n",
       "  <tbody>\n",
       "    <tr>\n",
       "      <th>115</th>\n",
       "      <td>tt0042816</td>\n",
       "      <td>tt0989125</td>\n",
       "      <td>1</td>\n",
       "      <td>17</td>\n",
       "    </tr>\n",
       "    <tr>\n",
       "      <th>116</th>\n",
       "      <td>tt0042889</td>\n",
       "      <td>tt0989125</td>\n",
       "      <td>0</td>\n",
       "      <td>0</td>\n",
       "    </tr>\n",
       "    <tr>\n",
       "      <th>117</th>\n",
       "      <td>tt0043426</td>\n",
       "      <td>tt0040051</td>\n",
       "      <td>3</td>\n",
       "      <td>42</td>\n",
       "    </tr>\n",
       "    <tr>\n",
       "      <th>118</th>\n",
       "      <td>tt0043631</td>\n",
       "      <td>tt0989125</td>\n",
       "      <td>2</td>\n",
       "      <td>16</td>\n",
       "    </tr>\n",
       "    <tr>\n",
       "      <th>119</th>\n",
       "      <td>tt0043693</td>\n",
       "      <td>tt0989125</td>\n",
       "      <td>2</td>\n",
       "      <td>8</td>\n",
       "    </tr>\n",
       "  </tbody>\n",
       "</table>\n",
       "</div>"
      ],
      "text/plain": [
       "        tconst parentTconst  seasonNumber  episodeNumber\n",
       "115  tt0042816    tt0989125             1             17\n",
       "116  tt0042889    tt0989125             0              0\n",
       "117  tt0043426    tt0040051             3             42\n",
       "118  tt0043631    tt0989125             2             16\n",
       "119  tt0043693    tt0989125             2              8"
      ]
     },
     "execution_count": 227,
     "metadata": {},
     "output_type": "execute_result"
    }
   ],
   "source": [
    "episodes2.head()"
   ]
  },
  {
   "cell_type": "code",
   "execution_count": 223,
   "metadata": {},
   "outputs": [],
   "source": [
    "episodes2.to_csv(\"episodes.csv\", index=False)"
   ]
  },
  {
   "cell_type": "code",
   "execution_count": null,
   "metadata": {},
   "outputs": [],
   "source": []
  },
  {
   "cell_type": "code",
   "execution_count": null,
   "metadata": {},
   "outputs": [],
   "source": []
  }
 ],
 "metadata": {
  "kernelspec": {
   "display_name": "Python 3 (ipykernel)",
   "language": "python",
   "name": "python3"
  },
  "language_info": {
   "codemirror_mode": {
    "name": "ipython",
    "version": 3
   },
   "file_extension": ".py",
   "mimetype": "text/x-python",
   "name": "python",
   "nbconvert_exporter": "python",
   "pygments_lexer": "ipython3",
   "version": "3.9.12"
  }
 },
 "nbformat": 4,
 "nbformat_minor": 2
}
