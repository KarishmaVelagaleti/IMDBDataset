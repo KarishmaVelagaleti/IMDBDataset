{
 "cells": [
  {
   "cell_type": "code",
   "execution_count": 1,
   "metadata": {},
   "outputs": [],
   "source": [
    "import pandas as pd \n",
    "import numpy as np \n",
    "import os \n",
    "import matplotlib.pyplot as plt \n",
    "%matplotlib inline "
   ]
  },
  {
   "cell_type": "code",
   "execution_count": 2,
   "metadata": {},
   "outputs": [],
   "source": [
    "os.chdir('/Users/karishmavelagaleti/Documents/DataScience.nosync/IMDB/')"
   ]
  },
  {
   "cell_type": "code",
   "execution_count": 3,
   "metadata": {},
   "outputs": [],
   "source": [
    "path = !pwd"
   ]
  },
  {
   "cell_type": "code",
   "execution_count": 14,
   "metadata": {},
   "outputs": [
    {
     "data": {
      "text/plain": [
       "['data-5.tsv',\n",
       " 'data-4.tsv',\n",
       " 'data.tsv',\n",
       " 'data-6.tsv',\n",
       " 'data-7.tsv',\n",
       " 'data-3.tsv',\n",
       " 'data-2.tsv']"
      ]
     },
     "execution_count": 14,
     "metadata": {},
     "output_type": "execute_result"
    }
   ],
   "source": [
    "from glob import glob\n",
    "import os\n",
    "\n",
    "list_of_files = glob('*.tsv') # list all .tsv files in the folder\n",
    "list_of_files"
   ]
  },
  {
   "cell_type": "code",
   "execution_count": 20,
   "metadata": {},
   "outputs": [
    {
     "name": "stderr",
     "output_type": "stream",
     "text": [
      "/var/folders/kh/898hvqss4wl2cmb9ynmd_1qh0000gn/T/ipykernel_1399/2766988511.py:4: DtypeWarning: Columns (4,5) have mixed types. Specify dtype option on import or set low_memory=False.\n",
      "  basic = pd.read_csv('data-4.tsv', sep='\\t')\n",
      "/var/folders/kh/898hvqss4wl2cmb9ynmd_1qh0000gn/T/ipykernel_1399/2766988511.py:6: DtypeWarning: Columns (7) have mixed types. Specify dtype option on import or set low_memory=False.\n",
      "  aka = pd.read_csv('data-6.tsv', sep='\\t')\n"
     ]
    }
   ],
   "source": [
    "ratings = pd.read_csv('data.tsv', sep='\\t', engine='python')\n",
    "episodes = pd.read_csv('data-2.tsv', sep='\\t', engine = 'python')\n",
    "crew = pd.read_csv('data-3.tsv', sep='\\t', engine='python')\n",
    "basic = pd.read_csv('data-4.tsv', sep='\\t')\n",
    "name = pd.read_csv('data-5.tsv', sep='\\t')\n",
    "aka = pd.read_csv('data-6.tsv', sep='\\t')\n",
    "principals = pd.read_csv('data-7.tsv', sep='\\t')"
   ]
  },
  {
   "cell_type": "code",
   "execution_count": 21,
   "metadata": {},
   "outputs": [],
   "source": [
    "# Loading all files in a dictionary \n",
    "\n",
    "files = {\n",
    "            'name':name,\n",
    "            'aka':aka, \n",
    "            'basics':basic,\n",
    "            'crew':crew, \n",
    "            'episodes':episodes, \n",
    "            'principals':principals, \n",
    "            'ratings':ratings\n",
    "        }"
   ]
  },
  {
   "cell_type": "code",
   "execution_count": 22,
   "metadata": {},
   "outputs": [
    {
     "name": "stdout",
     "output_type": "stream",
     "text": [
      "name file length =  11,804,374\n",
      "aka file length =  32,641,536\n",
      "basics file length =  9,099,384\n",
      "crew file length =  9,099,384\n",
      "episodes file length =  6,847,882\n",
      "principals file length =  51,327,648\n",
      "ratings file length =  1,253,462\n"
     ]
    }
   ],
   "source": [
    "# Listing all file lengths in one command \n",
    "\n",
    "for i in files:\n",
    "    print(i, \"file length = \", '{:,}'.format(len(files[i])))"
   ]
  },
  {
   "cell_type": "code",
   "execution_count": 23,
   "metadata": {},
   "outputs": [
    {
     "name": "stdout",
     "output_type": "stream",
     "text": [
      "Checking for columns which have null values in each file: \n",
      "\n",
      "name --> {'nconst': 0, 'primaryName': 0, 'birthYear': 0, 'deathYear': 0, 'primaryProfession': 2533525, 'knownForTitles': 0}\n",
      "aka --> {'titleId': 0, 'ordering': 0, 'title': 5, 'region': 103, 'language': 0, 'types': 0, 'attributes': 0, 'isOriginalTitle': 0}\n",
      "basics --> {'tconst': 0, 'titleType': 0, 'primaryTitle': 11, 'originalTitle': 11, 'isAdult': 0, 'startYear': 0, 'endYear': 0, 'runtimeMinutes': 0, 'genres': 10}\n",
      "crew --> {'tconst': 0, 'directors': 0, 'writers': 0}\n",
      "episodes --> {'tconst': 0, 'parentTconst': 0, 'seasonNumber': 0, 'episodeNumber': 0}\n",
      "principals --> {'tconst': 0, 'ordering': 0, 'nconst': 0, 'category': 0, 'job': 0, 'characters': 0}\n",
      "ratings --> {'tconst': 0, 'averageRating': 0, 'numVotes': 0}\n"
     ]
    }
   ],
   "source": [
    "# Checking for NULL values\n",
    "\n",
    "print('Checking for columns which have null values in each file: \\n')\n",
    "\n",
    "for i in files: \n",
    "    v = files[i].isna().sum().values \n",
    "    k = files[i].isna().sum().keys()\n",
    "    res = {k[j]:v[j] for j in range(len(k))}\n",
    "    print(i, '-->', res)"
   ]
  },
  {
   "cell_type": "markdown",
   "metadata": {},
   "source": [
    "### Data Cleaning "
   ]
  },
  {
   "cell_type": "code",
   "execution_count": 30,
   "metadata": {},
   "outputs": [],
   "source": [
    "import matplotlib.pyplot as plt \n",
    "import seaborn as sns \n",
    "%matplotlib inline"
   ]
  },
  {
   "cell_type": "code",
   "execution_count": 29,
   "metadata": {},
   "outputs": [
    {
     "data": {
      "text/html": [
       "<div>\n",
       "<style scoped>\n",
       "    .dataframe tbody tr th:only-of-type {\n",
       "        vertical-align: middle;\n",
       "    }\n",
       "\n",
       "    .dataframe tbody tr th {\n",
       "        vertical-align: top;\n",
       "    }\n",
       "\n",
       "    .dataframe thead th {\n",
       "        text-align: right;\n",
       "    }\n",
       "</style>\n",
       "<table border=\"1\" class=\"dataframe\">\n",
       "  <thead>\n",
       "    <tr style=\"text-align: right;\">\n",
       "      <th></th>\n",
       "      <th>tconst</th>\n",
       "      <th>averageRating</th>\n",
       "      <th>numVotes</th>\n",
       "    </tr>\n",
       "  </thead>\n",
       "  <tbody>\n",
       "    <tr>\n",
       "      <th>0</th>\n",
       "      <td>tt0000001</td>\n",
       "      <td>5.7</td>\n",
       "      <td>1901</td>\n",
       "    </tr>\n",
       "    <tr>\n",
       "      <th>1</th>\n",
       "      <td>tt0000002</td>\n",
       "      <td>5.9</td>\n",
       "      <td>254</td>\n",
       "    </tr>\n",
       "    <tr>\n",
       "      <th>2</th>\n",
       "      <td>tt0000003</td>\n",
       "      <td>6.5</td>\n",
       "      <td>1694</td>\n",
       "    </tr>\n",
       "    <tr>\n",
       "      <th>3</th>\n",
       "      <td>tt0000004</td>\n",
       "      <td>5.7</td>\n",
       "      <td>166</td>\n",
       "    </tr>\n",
       "    <tr>\n",
       "      <th>4</th>\n",
       "      <td>tt0000005</td>\n",
       "      <td>6.2</td>\n",
       "      <td>2510</td>\n",
       "    </tr>\n",
       "  </tbody>\n",
       "</table>\n",
       "</div>"
      ],
      "text/plain": [
       "      tconst  averageRating  numVotes\n",
       "0  tt0000001            5.7      1901\n",
       "1  tt0000002            5.9       254\n",
       "2  tt0000003            6.5      1694\n",
       "3  tt0000004            5.7       166\n",
       "4  tt0000005            6.2      2510"
      ]
     },
     "execution_count": 29,
     "metadata": {},
     "output_type": "execute_result"
    }
   ],
   "source": [
    "ratings.head()"
   ]
  },
  {
   "cell_type": "code",
   "execution_count": 28,
   "metadata": {},
   "outputs": [
    {
     "name": "stdout",
     "output_type": "stream",
     "text": [
      "<class 'pandas.core.frame.DataFrame'>\n",
      "RangeIndex: 1253462 entries, 0 to 1253461\n",
      "Data columns (total 3 columns):\n",
      " #   Column         Non-Null Count    Dtype  \n",
      "---  ------         --------------    -----  \n",
      " 0   tconst         1253462 non-null  object \n",
      " 1   averageRating  1253462 non-null  float64\n",
      " 2   numVotes       1253462 non-null  int64  \n",
      "dtypes: float64(1), int64(1), object(1)\n",
      "memory usage: 28.7+ MB\n"
     ]
    }
   ],
   "source": [
    "ratings.info()"
   ]
  },
  {
   "cell_type": "code",
   "execution_count": 41,
   "metadata": {},
   "outputs": [
    {
     "data": {
      "image/png": "[encoded data removed]",
      "text/plain": [
       "<Figure size 432x288 with 1 Axes>"
      ]
     },
     "metadata": {
      "needs_background": "light"
     },
     "output_type": "display_data"
    }
   ],
   "source": [
    "plt.title('Avgerage Rating vs. # of Votes')\n",
    "plt.xlabel(\"Ratings ----> \")\n",
    "plt.ylabel(\"# of Votes ----> \")\n",
    "plt.scatter(ratings['averageRating'], ratings['numVotes'], marker='p', color='green')\n",
    "plt.ticklabel_format(style='plain')\n",
    "plt.show()"
   ]
  },
  {
   "cell_type": "code",
   "execution_count": null,
   "metadata": {
    "collapsed": true
   },
   "outputs": [],
   "source": [
    "ratings.head()"
   ]
  },
  {
   "cell_type": "code",
   "execution_count": null,
   "metadata": {},
   "outputs": [],
   "source": [
    "name.head()"
   ]
  },
  {
   "cell_type": "code",
   "execution_count": null,
   "metadata": {},
   "outputs": [],
   "source": [
    "basics.head()"
   ]
  },
  {
   "cell_type": "code",
   "execution_count": null,
   "metadata": {},
   "outputs": [],
   "source": [
    "episodes.head()"
   ]
  },
  {
   "cell_type": "code",
   "execution_count": null,
   "metadata": {},
   "outputs": [],
   "source": [
    "principals.head()"
   ]
  },
  {
   "cell_type": "code",
   "execution_count": null,
   "metadata": {},
   "outputs": [],
   "source": [
    "crew.head()"
   ]
  },
  {
   "cell_type": "code",
   "execution_count": null,
   "metadata": {},
   "outputs": [],
   "source": [
    "aka.head()"
   ]
  }
 ],
 "metadata": {
  "kernelspec": {
   "display_name": "Python 3 (ipykernel)",
   "language": "python",
   "name": "python3"
  },
  "language_info": {
   "codemirror_mode": {
    "name": "ipython",
    "version": 3
   },
   "file_extension": ".py",
   "mimetype": "text/x-python",
   "name": "python",
   "nbconvert_exporter": "python",
   "pygments_lexer": "ipython3",
   "version": "3.9.12"
  }
 },
 "nbformat": 4,
 "nbformat_minor": 2
}
